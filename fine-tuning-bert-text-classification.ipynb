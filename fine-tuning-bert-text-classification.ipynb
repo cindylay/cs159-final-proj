{
 "cells": [
  {
   "cell_type": "markdown",
   "metadata": {
    "id": "4y2m1S6e12il"
   },
   "source": [
    "<div align=\"center\">\n",
    "    <img width=\"512px\" src='https://drive.google.com/uc?id=1mBqrfxng42SgSXvK62V1C67Or_vgrsVm' />\n",
    "    <p style=\"text-align: center;color:gray\">Figure 1: BERT Classification Model</p>\n",
    "</div>"
   ]
  },
  {
   "cell_type": "markdown",
   "metadata": {},
   "source": [
    "We will be using GPU accelerated Kernel for this tutorial as we would require a GPU to fine-tune BERT.\n",
    "\n",
    "## Prerequisites:\n",
    "- Willingness to learn: Growth Mindset is all you need \n",
    "- Some basic idea about Tensorflow/Keras \n",
    "- Some Python to follow along with the code "
   ]
  },
  {
   "cell_type": "markdown",
   "metadata": {
    "id": "zhV7YowzK-I9"
   },
   "source": [
    "## Initial Set Up"
   ]
  },
  {
   "cell_type": "markdown",
   "metadata": {
    "id": "Obch3rAuBVf0"
   },
   "source": [
    "### Install TensorFlow and TensorFlow Model Garden"
   ]
  },
  {
   "cell_type": "code",
   "execution_count": 1,
   "metadata": {
    "execution": {
     "iopub.execute_input": "2021-12-08T10:29:33.587554Z",
     "iopub.status.busy": "2021-12-08T10:29:33.587240Z",
     "iopub.status.idle": "2021-12-08T10:29:37.837217Z",
     "shell.execute_reply": "2021-12-08T10:29:37.836244Z",
     "shell.execute_reply.started": "2021-12-08T10:29:33.587490Z"
    },
    "id": "bUQEY3dFB0jX",
    "outputId": "4de5670e-af17-4b66-cf41-6effd4ddada2"
   },
   "outputs": [
    {
     "name": "stdout",
     "output_type": "stream",
     "text": [
      "2.7.0\n"
     ]
    }
   ],
   "source": [
    "import tensorflow as tf\n",
    "print(tf.version.VERSION)"
   ]
  },
  {
   "cell_type": "markdown",
   "metadata": {
    "id": "RAjJnOAL4wrn"
   },
   "source": [
    "Cloning the Github Repo for tensorflow models \n",
    "-  –depth 1, during cloning, Git will only get the latest copy of the relevant files. It can save you a lot of space and time.\n",
    "\n",
    "- -b lets us clone a specific branch only.\n",
    "\n",
    "**Please match it with your tensorflow 2.x version.**"
   ]
  },
  {
   "cell_type": "code",
   "execution_count": 2,
   "metadata": {
    "execution": {
     "iopub.execute_input": "2021-12-08T10:29:57.158913Z",
     "iopub.status.busy": "2021-12-08T10:29:57.158557Z",
     "iopub.status.idle": "2021-12-08T10:29:59.400582Z",
     "shell.execute_reply": "2021-12-08T10:29:59.399719Z",
     "shell.execute_reply.started": "2021-12-08T10:29:57.158870Z"
    },
    "id": "AFRTC-zwUy6D"
   },
   "outputs": [
    {
     "name": "stdout",
     "output_type": "stream",
     "text": [
      "fatal: destination path 'models' already exists and is not an empty directory.\r\n"
     ]
    }
   ],
   "source": [
    "!git clone --depth 1 -b v2.7.0 https://github.com/tensorflow/models.git"
   ]
  },
  {
   "cell_type": "code",
   "execution_count": 3,
   "metadata": {
    "execution": {
     "iopub.execute_input": "2021-12-08T10:30:09.368330Z",
     "iopub.status.busy": "2021-12-08T10:30:09.367975Z",
     "iopub.status.idle": "2021-12-08T10:31:27.613088Z",
     "shell.execute_reply": "2021-12-08T10:31:27.611865Z",
     "shell.execute_reply.started": "2021-12-08T10:30:09.368297Z"
    },
    "id": "3H2G0571zLLs"
   },
   "outputs": [],
   "source": [
    "# install requirements to use tensorflow/models repository\n",
    "!pip install -Uqr models/official/requirements.txt\n",
    "# you may have to restart the runtime afterwards, also ignore any ERRORS popping up at this step"
   ]
  },
  {
   "cell_type": "markdown",
   "metadata": {
    "id": "-WlOhTvS54cu"
   },
   "source": [
    "**Note**: After installing the required Python packages, you'll need to restart the Colab Runtime Engine \n",
    "(Run ---> Restart and clear all cell outputs...)"
   ]
  },
  {
   "cell_type": "markdown",
   "metadata": {
    "id": "15Tl8wqi_reD"
   },
   "source": [
    "**NOTE: ANYTHING BEFORE THIS CELL SHOULD ONLY BE RUN ONCE, ONLY DURING THE INITIAL SETUP**"
   ]
  },
  {
   "cell_type": "markdown",
   "metadata": {
    "id": "KOn8Qr4x_TCc"
   },
   "source": [
    "## Some Initial Imports and Checks"
   ]
  },
  {
   "cell_type": "code",
   "execution_count": 4,
   "metadata": {
    "execution": {
     "iopub.execute_input": "2021-06-30T15:17:30.940213Z",
     "iopub.status.busy": "2021-06-30T15:17:30.939857Z",
     "iopub.status.idle": "2021-06-30T15:17:31.731238Z",
     "shell.execute_reply": "2021-06-30T15:17:31.730429Z",
     "shell.execute_reply.started": "2021-06-30T15:17:30.940177Z"
    },
    "id": "GmqEylyFYTdP"
   },
   "outputs": [],
   "source": [
    "import numpy as np\n",
    "import tensorflow as tf\n",
    "import tensorflow_hub as hub\n",
    "import sys\n",
    "sys.path.append('models')\n",
    "from official.nlp.data import classifier_data_lib\n",
    "from official.nlp.bert import tokenization\n",
    "from official.nlp import optimization\n",
    "import seaborn as sns\n",
    "sns.set()\n",
    "import matplotlib.pyplot as plt\n",
    "%matplotlib inline"
   ]
  },
  {
   "cell_type": "code",
   "execution_count": 5,
   "metadata": {
    "execution": {
     "iopub.execute_input": "2021-06-30T15:17:31.733007Z",
     "iopub.status.busy": "2021-06-30T15:17:31.732642Z",
     "iopub.status.idle": "2021-06-30T15:17:31.879728Z",
     "shell.execute_reply": "2021-06-30T15:17:31.877487Z",
     "shell.execute_reply.started": "2021-06-30T15:17:31.732969Z"
    },
    "id": "ZuX1lB8pPJ-W",
    "outputId": "02ab3578-d8c7-4c10-b552-7f89caa060fb"
   },
   "outputs": [
    {
     "name": "stdout",
     "output_type": "stream",
     "text": [
      "TF Version:  2.7.0\n",
      "Eager mode:  True\n",
      "Hub version:  0.12.0\n",
      "GPU is NOT AVAILABLE\n"
     ]
    }
   ],
   "source": [
    "print(\"TF Version: \", tf.__version__)\n",
    "print(\"Eager mode: \", tf.executing_eagerly())\n",
    "print(\"Hub version: \", hub.__version__)\n",
    "print(\"GPU is\", \"available\" if tf.config.experimental.list_physical_devices(\"GPU\") else \"NOT AVAILABLE\")"
   ]
  },
  {
   "cell_type": "code",
   "execution_count": 6,
   "metadata": {
    "execution": {
     "iopub.execute_input": "2021-06-30T15:17:40.644529Z",
     "iopub.status.busy": "2021-06-30T15:17:40.64418Z",
     "iopub.status.idle": "2021-06-30T15:17:42.226418Z",
     "shell.execute_reply": "2021-06-30T15:17:42.225482Z",
     "shell.execute_reply.started": "2021-06-30T15:17:40.644492Z"
    },
    "id": "fScULIGPwuWk",
    "outputId": "e71c3c2f-a8b6-42d4-81d5-c76fbc391358"
   },
   "outputs": [
    {
     "name": "stdout",
     "output_type": "stream",
     "text": [
      "(45000, 6)\n",
      "(15000, 6)\n"
     ]
    }
   ],
   "source": [
    "import pandas as pd\n",
    "train_df = pd.read_csv('BERT_DATA_DIR/train.csv', encoding='latin-1')\n",
    "valid_df = pd.read_csv('BERT_DATA_DIR/valid.csv', encoding='latin-1')\n",
    "print(train_df.shape)\n",
    "print(valid_df.shape)"
   ]
  },
  {
   "cell_type": "code",
   "execution_count": 7,
   "metadata": {},
   "outputs": [
    {
     "data": {
      "text/html": [
       "<div>\n",
       "<style scoped>\n",
       "    .dataframe tbody tr th:only-of-type {\n",
       "        vertical-align: middle;\n",
       "    }\n",
       "\n",
       "    .dataframe tbody tr th {\n",
       "        vertical-align: top;\n",
       "    }\n",
       "\n",
       "    .dataframe thead th {\n",
       "        text-align: right;\n",
       "    }\n",
       "</style>\n",
       "<table border=\"1\" class=\"dataframe\">\n",
       "  <thead>\n",
       "    <tr style=\"text-align: right;\">\n",
       "      <th></th>\n",
       "      <th>Id</th>\n",
       "      <th>Title</th>\n",
       "      <th>Body</th>\n",
       "      <th>Tags</th>\n",
       "      <th>CreationDate</th>\n",
       "      <th>Y</th>\n",
       "    </tr>\n",
       "  </thead>\n",
       "  <tbody>\n",
       "    <tr>\n",
       "      <th>0</th>\n",
       "      <td>34552656</td>\n",
       "      <td>Java: Repeat Task Every Random Seconds</td>\n",
       "      <td>&lt;p&gt;I'm already familiar with repeating tasks e...</td>\n",
       "      <td>&lt;java&gt;&lt;repeat&gt;</td>\n",
       "      <td>2016-01-01 00:21:59</td>\n",
       "      <td>LQ_CLOSE</td>\n",
       "    </tr>\n",
       "    <tr>\n",
       "      <th>1</th>\n",
       "      <td>34553034</td>\n",
       "      <td>Why are Java Optionals immutable?</td>\n",
       "      <td>&lt;p&gt;I'd like to understand why Java 8 Optionals...</td>\n",
       "      <td>&lt;java&gt;&lt;optional&gt;</td>\n",
       "      <td>2016-01-01 02:03:20</td>\n",
       "      <td>HQ</td>\n",
       "    </tr>\n",
       "    <tr>\n",
       "      <th>2</th>\n",
       "      <td>34553174</td>\n",
       "      <td>Text Overlay Image with Darkened Opacity React...</td>\n",
       "      <td>&lt;p&gt;I am attempting to overlay a title over an ...</td>\n",
       "      <td>&lt;javascript&gt;&lt;image&gt;&lt;overlay&gt;&lt;react-native&gt;&lt;opa...</td>\n",
       "      <td>2016-01-01 02:48:24</td>\n",
       "      <td>HQ</td>\n",
       "    </tr>\n",
       "    <tr>\n",
       "      <th>3</th>\n",
       "      <td>34553318</td>\n",
       "      <td>Why ternary operator in swift is so picky?</td>\n",
       "      <td>&lt;p&gt;The question is very simple, but I just cou...</td>\n",
       "      <td>&lt;swift&gt;&lt;operators&gt;&lt;whitespace&gt;&lt;ternary-operato...</td>\n",
       "      <td>2016-01-01 03:30:17</td>\n",
       "      <td>HQ</td>\n",
       "    </tr>\n",
       "    <tr>\n",
       "      <th>4</th>\n",
       "      <td>34553755</td>\n",
       "      <td>hide/show fab with scale animation</td>\n",
       "      <td>&lt;p&gt;I'm using custom floatingactionmenu. I need...</td>\n",
       "      <td>&lt;android&gt;&lt;material-design&gt;&lt;floating-action-but...</td>\n",
       "      <td>2016-01-01 05:21:48</td>\n",
       "      <td>HQ</td>\n",
       "    </tr>\n",
       "  </tbody>\n",
       "</table>\n",
       "</div>"
      ],
      "text/plain": [
       "         Id                                              Title  \\\n",
       "0  34552656             Java: Repeat Task Every Random Seconds   \n",
       "1  34553034                  Why are Java Optionals immutable?   \n",
       "2  34553174  Text Overlay Image with Darkened Opacity React...   \n",
       "3  34553318         Why ternary operator in swift is so picky?   \n",
       "4  34553755                 hide/show fab with scale animation   \n",
       "\n",
       "                                                Body  \\\n",
       "0  <p>I'm already familiar with repeating tasks e...   \n",
       "1  <p>I'd like to understand why Java 8 Optionals...   \n",
       "2  <p>I am attempting to overlay a title over an ...   \n",
       "3  <p>The question is very simple, but I just cou...   \n",
       "4  <p>I'm using custom floatingactionmenu. I need...   \n",
       "\n",
       "                                                Tags         CreationDate  \\\n",
       "0                                     <java><repeat>  2016-01-01 00:21:59   \n",
       "1                                   <java><optional>  2016-01-01 02:03:20   \n",
       "2  <javascript><image><overlay><react-native><opa...  2016-01-01 02:48:24   \n",
       "3  <swift><operators><whitespace><ternary-operato...  2016-01-01 03:30:17   \n",
       "4  <android><material-design><floating-action-but...  2016-01-01 05:21:48   \n",
       "\n",
       "          Y  \n",
       "0  LQ_CLOSE  \n",
       "1        HQ  \n",
       "2        HQ  \n",
       "3        HQ  \n",
       "4        HQ  "
      ]
     },
     "execution_count": 7,
     "metadata": {},
     "output_type": "execute_result"
    }
   ],
   "source": [
    "train_df.head()"
   ]
  },
  {
   "cell_type": "code",
   "execution_count": 8,
   "metadata": {},
   "outputs": [
    {
     "data": {
      "text/html": [
       "<div>\n",
       "<style scoped>\n",
       "    .dataframe tbody tr th:only-of-type {\n",
       "        vertical-align: middle;\n",
       "    }\n",
       "\n",
       "    .dataframe tbody tr th {\n",
       "        vertical-align: top;\n",
       "    }\n",
       "\n",
       "    .dataframe thead th {\n",
       "        text-align: right;\n",
       "    }\n",
       "</style>\n",
       "<table border=\"1\" class=\"dataframe\">\n",
       "  <thead>\n",
       "    <tr style=\"text-align: right;\">\n",
       "      <th></th>\n",
       "      <th>Id</th>\n",
       "      <th>Title</th>\n",
       "      <th>Body</th>\n",
       "      <th>Tags</th>\n",
       "      <th>CreationDate</th>\n",
       "      <th>Y</th>\n",
       "    </tr>\n",
       "  </thead>\n",
       "  <tbody>\n",
       "    <tr>\n",
       "      <th>0</th>\n",
       "      <td>34552974</td>\n",
       "      <td>How to get all the child records from differen...</td>\n",
       "      <td>I am having 4 different tables like \\nselect *...</td>\n",
       "      <td>&lt;sql&gt;&lt;sql-server&gt;</td>\n",
       "      <td>2016-01-01 01:44:52</td>\n",
       "      <td>LQ_EDIT</td>\n",
       "    </tr>\n",
       "    <tr>\n",
       "      <th>1</th>\n",
       "      <td>34554721</td>\n",
       "      <td>Retrieve all except some data of the another t...</td>\n",
       "      <td>I have two table m_master and tbl_appointment\\...</td>\n",
       "      <td>&lt;php&gt;&lt;mysql&gt;&lt;sql&gt;&lt;codeigniter&gt;&lt;mysqli&gt;</td>\n",
       "      <td>2016-01-01 08:43:50</td>\n",
       "      <td>LQ_EDIT</td>\n",
       "    </tr>\n",
       "    <tr>\n",
       "      <th>2</th>\n",
       "      <td>34555135</td>\n",
       "      <td>Pandas: read_html</td>\n",
       "      <td>&lt;p&gt;I'm trying to extract US states from wiki U...</td>\n",
       "      <td>&lt;python&gt;&lt;pandas&gt;</td>\n",
       "      <td>2016-01-01 09:55:22</td>\n",
       "      <td>HQ</td>\n",
       "    </tr>\n",
       "    <tr>\n",
       "      <th>3</th>\n",
       "      <td>34555448</td>\n",
       "      <td>Reader Always gimme NULL</td>\n",
       "      <td>I'm so new to C#, I wanna make an application ...</td>\n",
       "      <td>&lt;sql-server&gt;&lt;c#-4.0&gt;</td>\n",
       "      <td>2016-01-01 10:43:45</td>\n",
       "      <td>LQ_EDIT</td>\n",
       "    </tr>\n",
       "    <tr>\n",
       "      <th>4</th>\n",
       "      <td>34555752</td>\n",
       "      <td>php rearrange array elements based on condition</td>\n",
       "      <td>basically i have this array:\\n\\n    array(\\n\\t...</td>\n",
       "      <td>&lt;php&gt;</td>\n",
       "      <td>2016-01-01 11:34:09</td>\n",
       "      <td>LQ_EDIT</td>\n",
       "    </tr>\n",
       "  </tbody>\n",
       "</table>\n",
       "</div>"
      ],
      "text/plain": [
       "         Id                                              Title  \\\n",
       "0  34552974  How to get all the child records from differen...   \n",
       "1  34554721  Retrieve all except some data of the another t...   \n",
       "2  34555135                                  Pandas: read_html   \n",
       "3  34555448                           Reader Always gimme NULL   \n",
       "4  34555752    php rearrange array elements based on condition   \n",
       "\n",
       "                                                Body  \\\n",
       "0  I am having 4 different tables like \\nselect *...   \n",
       "1  I have two table m_master and tbl_appointment\\...   \n",
       "2  <p>I'm trying to extract US states from wiki U...   \n",
       "3  I'm so new to C#, I wanna make an application ...   \n",
       "4  basically i have this array:\\n\\n    array(\\n\\t...   \n",
       "\n",
       "                                     Tags         CreationDate        Y  \n",
       "0                       <sql><sql-server>  2016-01-01 01:44:52  LQ_EDIT  \n",
       "1  <php><mysql><sql><codeigniter><mysqli>  2016-01-01 08:43:50  LQ_EDIT  \n",
       "2                        <python><pandas>  2016-01-01 09:55:22       HQ  \n",
       "3                    <sql-server><c#-4.0>  2016-01-01 10:43:45  LQ_EDIT  \n",
       "4                                   <php>  2016-01-01 11:34:09  LQ_EDIT  "
      ]
     },
     "execution_count": 8,
     "metadata": {},
     "output_type": "execute_result"
    }
   ],
   "source": [
    "valid_df.head()"
   ]
  },
  {
   "cell_type": "code",
   "execution_count": 9,
   "metadata": {},
   "outputs": [],
   "source": [
    "train_df = train_df.drop(columns=['Title', 'Tags', 'CreationDate'])"
   ]
  },
  {
   "cell_type": "code",
   "execution_count": 10,
   "metadata": {},
   "outputs": [],
   "source": [
    "valid_df = valid_df.drop(columns=['Title', 'Tags', 'CreationDate'])"
   ]
  },
  {
   "cell_type": "code",
   "execution_count": 11,
   "metadata": {},
   "outputs": [],
   "source": [
    "train_df.Y = pd.Categorical(train_df.Y)\n",
    "valid_df.Y = pd.Categorical(valid_df.Y)"
   ]
  },
  {
   "cell_type": "code",
   "execution_count": 12,
   "metadata": {},
   "outputs": [],
   "source": [
    "train_df['Y_cat_code'] = train_df.Y.cat.codes\n",
    "valid_df['Y_cat_code'] = valid_df.Y.cat.codes"
   ]
  },
  {
   "cell_type": "code",
   "execution_count": 13,
   "metadata": {},
   "outputs": [
    {
     "data": {
      "text/html": [
       "<div>\n",
       "<style scoped>\n",
       "    .dataframe tbody tr th:only-of-type {\n",
       "        vertical-align: middle;\n",
       "    }\n",
       "\n",
       "    .dataframe tbody tr th {\n",
       "        vertical-align: top;\n",
       "    }\n",
       "\n",
       "    .dataframe thead th {\n",
       "        text-align: right;\n",
       "    }\n",
       "</style>\n",
       "<table border=\"1\" class=\"dataframe\">\n",
       "  <thead>\n",
       "    <tr style=\"text-align: right;\">\n",
       "      <th></th>\n",
       "      <th>Id</th>\n",
       "      <th>Body</th>\n",
       "      <th>Y</th>\n",
       "      <th>Y_cat_code</th>\n",
       "    </tr>\n",
       "  </thead>\n",
       "  <tbody>\n",
       "    <tr>\n",
       "      <th>0</th>\n",
       "      <td>34552656</td>\n",
       "      <td>&lt;p&gt;I'm already familiar with repeating tasks e...</td>\n",
       "      <td>LQ_CLOSE</td>\n",
       "      <td>1</td>\n",
       "    </tr>\n",
       "    <tr>\n",
       "      <th>1</th>\n",
       "      <td>34553034</td>\n",
       "      <td>&lt;p&gt;I'd like to understand why Java 8 Optionals...</td>\n",
       "      <td>HQ</td>\n",
       "      <td>0</td>\n",
       "    </tr>\n",
       "    <tr>\n",
       "      <th>2</th>\n",
       "      <td>34553174</td>\n",
       "      <td>&lt;p&gt;I am attempting to overlay a title over an ...</td>\n",
       "      <td>HQ</td>\n",
       "      <td>0</td>\n",
       "    </tr>\n",
       "    <tr>\n",
       "      <th>3</th>\n",
       "      <td>34553318</td>\n",
       "      <td>&lt;p&gt;The question is very simple, but I just cou...</td>\n",
       "      <td>HQ</td>\n",
       "      <td>0</td>\n",
       "    </tr>\n",
       "    <tr>\n",
       "      <th>4</th>\n",
       "      <td>34553755</td>\n",
       "      <td>&lt;p&gt;I'm using custom floatingactionmenu. I need...</td>\n",
       "      <td>HQ</td>\n",
       "      <td>0</td>\n",
       "    </tr>\n",
       "    <tr>\n",
       "      <th>5</th>\n",
       "      <td>34554026</td>\n",
       "      <td>&lt;p&gt;I have defined integer pointer inside the s...</td>\n",
       "      <td>LQ_CLOSE</td>\n",
       "      <td>1</td>\n",
       "    </tr>\n",
       "    <tr>\n",
       "      <th>6</th>\n",
       "      <td>34554206</td>\n",
       "      <td>i want to Disable 2nd Saturday 4th saturday,...</td>\n",
       "      <td>LQ_EDIT</td>\n",
       "      <td>2</td>\n",
       "    </tr>\n",
       "    <tr>\n",
       "      <th>7</th>\n",
       "      <td>34554671</td>\n",
       "      <td>I am new to bootstrap and i would like to find...</td>\n",
       "      <td>LQ_EDIT</td>\n",
       "      <td>2</td>\n",
       "    </tr>\n",
       "    <tr>\n",
       "      <th>8</th>\n",
       "      <td>34554871</td>\n",
       "      <td>&lt;p&gt;I was able to change theme using &lt;code&gt;this...</td>\n",
       "      <td>HQ</td>\n",
       "      <td>0</td>\n",
       "    </tr>\n",
       "    <tr>\n",
       "      <th>9</th>\n",
       "      <td>34554982</td>\n",
       "      <td>I my case I am having two form Form 1 and Form...</td>\n",
       "      <td>LQ_EDIT</td>\n",
       "      <td>2</td>\n",
       "    </tr>\n",
       "    <tr>\n",
       "      <th>10</th>\n",
       "      <td>34555603</td>\n",
       "      <td>&lt;p&gt;I am new to Ubuntu (Linux tbh). I encounter...</td>\n",
       "      <td>HQ</td>\n",
       "      <td>0</td>\n",
       "    </tr>\n",
       "    <tr>\n",
       "      <th>11</th>\n",
       "      <td>34555643</td>\n",
       "      <td>&lt;p&gt;I am kinda new to Android development, but ...</td>\n",
       "      <td>LQ_CLOSE</td>\n",
       "      <td>1</td>\n",
       "    </tr>\n",
       "    <tr>\n",
       "      <th>12</th>\n",
       "      <td>34556569</td>\n",
       "      <td>I have a UIlabel linked to a property that can...</td>\n",
       "      <td>LQ_EDIT</td>\n",
       "      <td>2</td>\n",
       "    </tr>\n",
       "    <tr>\n",
       "      <th>13</th>\n",
       "      <td>34556906</td>\n",
       "      <td>\\nmy code here\\n\\n        #include &lt;stdio.h&gt;\\n...</td>\n",
       "      <td>LQ_EDIT</td>\n",
       "      <td>2</td>\n",
       "    </tr>\n",
       "    <tr>\n",
       "      <th>14</th>\n",
       "      <td>34556991</td>\n",
       "      <td>&lt;p&gt;My podfile was working but after updating t...</td>\n",
       "      <td>HQ</td>\n",
       "      <td>0</td>\n",
       "    </tr>\n",
       "    <tr>\n",
       "      <th>15</th>\n",
       "      <td>34558002</td>\n",
       "      <td>&lt;p&gt;I'm trying to use stack to load my test-sui...</td>\n",
       "      <td>HQ</td>\n",
       "      <td>0</td>\n",
       "    </tr>\n",
       "    <tr>\n",
       "      <th>16</th>\n",
       "      <td>34558390</td>\n",
       "      <td>&lt;p&gt;Now that I've learned Swift (to a reasonabl...</td>\n",
       "      <td>HQ</td>\n",
       "      <td>0</td>\n",
       "    </tr>\n",
       "    <tr>\n",
       "      <th>17</th>\n",
       "      <td>34558996</td>\n",
       "      <td>&lt;p&gt;I am trying to deploy an application versio...</td>\n",
       "      <td>HQ</td>\n",
       "      <td>0</td>\n",
       "    </tr>\n",
       "    <tr>\n",
       "      <th>18</th>\n",
       "      <td>34559058</td>\n",
       "      <td>I am currently starting to learn C++ via Ardui...</td>\n",
       "      <td>LQ_EDIT</td>\n",
       "      <td>2</td>\n",
       "    </tr>\n",
       "    <tr>\n",
       "      <th>19</th>\n",
       "      <td>34559458</td>\n",
       "      <td>&lt;p&gt;What is the difference between bluebird.js ...</td>\n",
       "      <td>HQ</td>\n",
       "      <td>0</td>\n",
       "    </tr>\n",
       "  </tbody>\n",
       "</table>\n",
       "</div>"
      ],
      "text/plain": [
       "          Id                                               Body         Y  \\\n",
       "0   34552656  <p>I'm already familiar with repeating tasks e...  LQ_CLOSE   \n",
       "1   34553034  <p>I'd like to understand why Java 8 Optionals...        HQ   \n",
       "2   34553174  <p>I am attempting to overlay a title over an ...        HQ   \n",
       "3   34553318  <p>The question is very simple, but I just cou...        HQ   \n",
       "4   34553755  <p>I'm using custom floatingactionmenu. I need...        HQ   \n",
       "5   34554026  <p>I have defined integer pointer inside the s...  LQ_CLOSE   \n",
       "6   34554206    i want to Disable 2nd Saturday 4th saturday,...   LQ_EDIT   \n",
       "7   34554671  I am new to bootstrap and i would like to find...   LQ_EDIT   \n",
       "8   34554871  <p>I was able to change theme using <code>this...        HQ   \n",
       "9   34554982  I my case I am having two form Form 1 and Form...   LQ_EDIT   \n",
       "10  34555603  <p>I am new to Ubuntu (Linux tbh). I encounter...        HQ   \n",
       "11  34555643  <p>I am kinda new to Android development, but ...  LQ_CLOSE   \n",
       "12  34556569  I have a UIlabel linked to a property that can...   LQ_EDIT   \n",
       "13  34556906  \\nmy code here\\n\\n        #include <stdio.h>\\n...   LQ_EDIT   \n",
       "14  34556991  <p>My podfile was working but after updating t...        HQ   \n",
       "15  34558002  <p>I'm trying to use stack to load my test-sui...        HQ   \n",
       "16  34558390  <p>Now that I've learned Swift (to a reasonabl...        HQ   \n",
       "17  34558996  <p>I am trying to deploy an application versio...        HQ   \n",
       "18  34559058  I am currently starting to learn C++ via Ardui...   LQ_EDIT   \n",
       "19  34559458  <p>What is the difference between bluebird.js ...        HQ   \n",
       "\n",
       "    Y_cat_code  \n",
       "0            1  \n",
       "1            0  \n",
       "2            0  \n",
       "3            0  \n",
       "4            0  \n",
       "5            1  \n",
       "6            2  \n",
       "7            2  \n",
       "8            0  \n",
       "9            2  \n",
       "10           0  \n",
       "11           1  \n",
       "12           2  \n",
       "13           2  \n",
       "14           0  \n",
       "15           0  \n",
       "16           0  \n",
       "17           0  \n",
       "18           2  \n",
       "19           0  "
      ]
     },
     "execution_count": 13,
     "metadata": {},
     "output_type": "execute_result"
    }
   ],
   "source": [
    "train_df.head(20)"
   ]
  },
  {
   "cell_type": "code",
   "execution_count": 14,
   "metadata": {},
   "outputs": [
    {
     "data": {
      "text/html": [
       "<div>\n",
       "<style scoped>\n",
       "    .dataframe tbody tr th:only-of-type {\n",
       "        vertical-align: middle;\n",
       "    }\n",
       "\n",
       "    .dataframe tbody tr th {\n",
       "        vertical-align: top;\n",
       "    }\n",
       "\n",
       "    .dataframe thead th {\n",
       "        text-align: right;\n",
       "    }\n",
       "</style>\n",
       "<table border=\"1\" class=\"dataframe\">\n",
       "  <thead>\n",
       "    <tr style=\"text-align: right;\">\n",
       "      <th></th>\n",
       "      <th>Id</th>\n",
       "      <th>Body</th>\n",
       "      <th>Y</th>\n",
       "      <th>Y_cat_code</th>\n",
       "    </tr>\n",
       "  </thead>\n",
       "  <tbody>\n",
       "    <tr>\n",
       "      <th>0</th>\n",
       "      <td>34552974</td>\n",
       "      <td>I am having 4 different tables like \\nselect *...</td>\n",
       "      <td>LQ_EDIT</td>\n",
       "      <td>2</td>\n",
       "    </tr>\n",
       "    <tr>\n",
       "      <th>1</th>\n",
       "      <td>34554721</td>\n",
       "      <td>I have two table m_master and tbl_appointment\\...</td>\n",
       "      <td>LQ_EDIT</td>\n",
       "      <td>2</td>\n",
       "    </tr>\n",
       "    <tr>\n",
       "      <th>2</th>\n",
       "      <td>34555135</td>\n",
       "      <td>&lt;p&gt;I'm trying to extract US states from wiki U...</td>\n",
       "      <td>HQ</td>\n",
       "      <td>0</td>\n",
       "    </tr>\n",
       "    <tr>\n",
       "      <th>3</th>\n",
       "      <td>34555448</td>\n",
       "      <td>I'm so new to C#, I wanna make an application ...</td>\n",
       "      <td>LQ_EDIT</td>\n",
       "      <td>2</td>\n",
       "    </tr>\n",
       "    <tr>\n",
       "      <th>4</th>\n",
       "      <td>34555752</td>\n",
       "      <td>basically i have this array:\\n\\n    array(\\n\\t...</td>\n",
       "      <td>LQ_EDIT</td>\n",
       "      <td>2</td>\n",
       "    </tr>\n",
       "    <tr>\n",
       "      <th>5</th>\n",
       "      <td>34557209</td>\n",
       "      <td>&lt;p&gt;I am trying to make a constructor for a der...</td>\n",
       "      <td>LQ_CLOSE</td>\n",
       "      <td>1</td>\n",
       "    </tr>\n",
       "    <tr>\n",
       "      <th>6</th>\n",
       "      <td>34557363</td>\n",
       "      <td>I am using c++ in my lesson and for solving a...</td>\n",
       "      <td>LQ_EDIT</td>\n",
       "      <td>2</td>\n",
       "    </tr>\n",
       "    <tr>\n",
       "      <th>7</th>\n",
       "      <td>34557587</td>\n",
       "      <td>&lt;p&gt;I'm getting a bit lost in TS re-exports. Sa...</td>\n",
       "      <td>HQ</td>\n",
       "      <td>0</td>\n",
       "    </tr>\n",
       "    <tr>\n",
       "      <th>8</th>\n",
       "      <td>34558264</td>\n",
       "      <td>&lt;p&gt;I am trying out the new Fetch API but is ha...</td>\n",
       "      <td>HQ</td>\n",
       "      <td>0</td>\n",
       "    </tr>\n",
       "    <tr>\n",
       "      <th>9</th>\n",
       "      <td>34559136</td>\n",
       "      <td>&lt;pre&gt;&lt;code&gt;lt = ['7,777.7', '777.7', '77,777.7...</td>\n",
       "      <td>LQ_CLOSE</td>\n",
       "      <td>1</td>\n",
       "    </tr>\n",
       "    <tr>\n",
       "      <th>10</th>\n",
       "      <td>34559402</td>\n",
       "      <td>Written the below code trying to identify all ...</td>\n",
       "      <td>LQ_EDIT</td>\n",
       "      <td>2</td>\n",
       "    </tr>\n",
       "    <tr>\n",
       "      <th>11</th>\n",
       "      <td>34561346</td>\n",
       "      <td>&lt;p&gt;app/boot.ts&lt;/p&gt;\\n\\n&lt;pre&gt;&lt;code&gt;import {boots...</td>\n",
       "      <td>HQ</td>\n",
       "      <td>0</td>\n",
       "    </tr>\n",
       "    <tr>\n",
       "      <th>12</th>\n",
       "      <td>34562193</td>\n",
       "      <td>&lt;p&gt;I am working on a project for my company an...</td>\n",
       "      <td>LQ_CLOSE</td>\n",
       "      <td>1</td>\n",
       "    </tr>\n",
       "    <tr>\n",
       "      <th>13</th>\n",
       "      <td>34562473</td>\n",
       "      <td>&lt;p&gt;I would like to run a process in a thread (...</td>\n",
       "      <td>HQ</td>\n",
       "      <td>0</td>\n",
       "    </tr>\n",
       "    <tr>\n",
       "      <th>14</th>\n",
       "      <td>34562496</td>\n",
       "      <td>&lt;p&gt;I searched for the cause of this error and ...</td>\n",
       "      <td>HQ</td>\n",
       "      <td>0</td>\n",
       "    </tr>\n",
       "    <tr>\n",
       "      <th>15</th>\n",
       "      <td>34563285</td>\n",
       "      <td>here is my code for select details by checking...</td>\n",
       "      <td>LQ_EDIT</td>\n",
       "      <td>2</td>\n",
       "    </tr>\n",
       "    <tr>\n",
       "      <th>16</th>\n",
       "      <td>34563454</td>\n",
       "      <td>&lt;p&gt;I'm having trouble understanding and using ...</td>\n",
       "      <td>HQ</td>\n",
       "      <td>0</td>\n",
       "    </tr>\n",
       "    <tr>\n",
       "      <th>17</th>\n",
       "      <td>34564148</td>\n",
       "      <td>&lt;p&gt;I'm planning to use SASS in making a websit...</td>\n",
       "      <td>LQ_CLOSE</td>\n",
       "      <td>1</td>\n",
       "    </tr>\n",
       "    <tr>\n",
       "      <th>18</th>\n",
       "      <td>34564297</td>\n",
       "      <td>I am new here,\\ni need to ask that, how can i ...</td>\n",
       "      <td>LQ_EDIT</td>\n",
       "      <td>2</td>\n",
       "    </tr>\n",
       "    <tr>\n",
       "      <th>19</th>\n",
       "      <td>34564356</td>\n",
       "      <td>class Cylinder(object):\\n        self.pi = 3.1...</td>\n",
       "      <td>LQ_EDIT</td>\n",
       "      <td>2</td>\n",
       "    </tr>\n",
       "  </tbody>\n",
       "</table>\n",
       "</div>"
      ],
      "text/plain": [
       "          Id                                               Body         Y  \\\n",
       "0   34552974  I am having 4 different tables like \\nselect *...   LQ_EDIT   \n",
       "1   34554721  I have two table m_master and tbl_appointment\\...   LQ_EDIT   \n",
       "2   34555135  <p>I'm trying to extract US states from wiki U...        HQ   \n",
       "3   34555448  I'm so new to C#, I wanna make an application ...   LQ_EDIT   \n",
       "4   34555752  basically i have this array:\\n\\n    array(\\n\\t...   LQ_EDIT   \n",
       "5   34557209  <p>I am trying to make a constructor for a der...  LQ_CLOSE   \n",
       "6   34557363   I am using c++ in my lesson and for solving a...   LQ_EDIT   \n",
       "7   34557587  <p>I'm getting a bit lost in TS re-exports. Sa...        HQ   \n",
       "8   34558264  <p>I am trying out the new Fetch API but is ha...        HQ   \n",
       "9   34559136  <pre><code>lt = ['7,777.7', '777.7', '77,777.7...  LQ_CLOSE   \n",
       "10  34559402  Written the below code trying to identify all ...   LQ_EDIT   \n",
       "11  34561346  <p>app/boot.ts</p>\\n\\n<pre><code>import {boots...        HQ   \n",
       "12  34562193  <p>I am working on a project for my company an...  LQ_CLOSE   \n",
       "13  34562473  <p>I would like to run a process in a thread (...        HQ   \n",
       "14  34562496  <p>I searched for the cause of this error and ...        HQ   \n",
       "15  34563285  here is my code for select details by checking...   LQ_EDIT   \n",
       "16  34563454  <p>I'm having trouble understanding and using ...        HQ   \n",
       "17  34564148  <p>I'm planning to use SASS in making a websit...  LQ_CLOSE   \n",
       "18  34564297  I am new here,\\ni need to ask that, how can i ...   LQ_EDIT   \n",
       "19  34564356  class Cylinder(object):\\n        self.pi = 3.1...   LQ_EDIT   \n",
       "\n",
       "    Y_cat_code  \n",
       "0            2  \n",
       "1            2  \n",
       "2            0  \n",
       "3            2  \n",
       "4            2  \n",
       "5            1  \n",
       "6            2  \n",
       "7            0  \n",
       "8            0  \n",
       "9            1  \n",
       "10           2  \n",
       "11           0  \n",
       "12           1  \n",
       "13           0  \n",
       "14           0  \n",
       "15           2  \n",
       "16           0  \n",
       "17           1  \n",
       "18           2  \n",
       "19           2  "
      ]
     },
     "execution_count": 14,
     "metadata": {},
     "output_type": "execute_result"
    }
   ],
   "source": [
    "valid_df.head(20)"
   ]
  },
  {
   "cell_type": "code",
   "execution_count": 15,
   "metadata": {},
   "outputs": [],
   "source": [
    "train_df = train_df.drop(columns=['Y'])\n",
    "valid_df = valid_df.drop(columns=['Y'])"
   ]
  },
  {
   "cell_type": "code",
   "execution_count": 16,
   "metadata": {},
   "outputs": [
    {
     "data": {
      "text/plain": [
       "Text(0.5, 1.0, 'Distribution of question text length in words')"
      ]
     },
     "execution_count": 16,
     "metadata": {},
     "output_type": "execute_result"
    },
    {
     "data": {
      "image/png": "[encoded data removed]",
      "text/plain": [
       "<Figure size 432x288 with 1 Axes>"
      ]
     },
     "metadata": {
      "needs_background": "light"
     },
     "output_type": "display_data"
    }
   ],
   "source": [
    "# TRAIN SET \n",
    "train_df['Body'].apply(lambda x: len(x.split())).plot(kind='hist');\n",
    "plt.yscale('log');\n",
    "plt.title('Distribution of question text length in words')"
   ]
  },
  {
   "cell_type": "code",
   "execution_count": 17,
   "metadata": {},
   "outputs": [
    {
     "data": {
      "text/plain": [
       "Text(0.5, 1.0, 'Distribution of question text length in characters')"
      ]
     },
     "execution_count": 17,
     "metadata": {},
     "output_type": "execute_result"
    },
    {
     "data": {
      "image/png": "[encoded data removed]",
      "text/plain": [
       "<Figure size 432x288 with 1 Axes>"
      ]
     },
     "metadata": {
      "needs_background": "light"
     },
     "output_type": "display_data"
    }
   ],
   "source": [
    "# TRAIN SET\n",
    "train_df['Body'].apply(lambda x: len(x)).plot(kind='hist');\n",
    "plt.yscale('log');\n",
    "plt.title('Distribution of question text length in characters')"
   ]
  },
  {
   "cell_type": "code",
   "execution_count": 18,
   "metadata": {},
   "outputs": [
    {
     "data": {
      "text/plain": [
       "Text(0.5, 1.0, 'Distribution of question text length in words')"
      ]
     },
     "execution_count": 18,
     "metadata": {},
     "output_type": "execute_result"
    },
    {
     "data": {
      "image/png": "[encoded data removed]",
      "text/plain": [
       "<Figure size 432x288 with 1 Axes>"
      ]
     },
     "metadata": {
      "needs_background": "light"
     },
     "output_type": "display_data"
    }
   ],
   "source": [
    "# VALIDATION SET\n",
    "valid_df['Body'].apply(lambda x: len(x.split())).plot(kind='hist');\n",
    "plt.yscale('log');\n",
    "plt.title('Distribution of question text length in words')"
   ]
  },
  {
   "cell_type": "markdown",
   "metadata": {
    "id": "I46vYYMgG4kh"
   },
   "source": [
    "# Taming the Data"
   ]
  },
  {
   "cell_type": "code",
   "execution_count": 19,
   "metadata": {
    "execution": {
     "iopub.execute_input": "2021-06-30T15:17:45.364597Z",
     "iopub.status.busy": "2021-06-30T15:17:45.364233Z",
     "iopub.status.idle": "2021-06-30T15:17:46.965332Z",
     "shell.execute_reply": "2021-06-30T15:17:46.964495Z",
     "shell.execute_reply.started": "2021-06-30T15:17:45.364558Z"
    },
    "id": "qQYMGT5_qLPX",
    "outputId": "06269af9-aae8-4d08-a7c9-e87473836654"
   },
   "outputs": [
    {
     "name": "stdout",
     "output_type": "stream",
     "text": [
      "tf.Tensor(b'<p>I\\'m already familiar with repeating tasks every n seconds by using Java.util.Timer and Java.util.TimerTask. But lets say I want to print \"Hello World\" to the console every random seconds from 1-5. Unfortunately I\\'m in a bit of a rush and don\\'t have any code to show so far. Any help would be apriciated.  </p>\\n', shape=(), dtype=string)\n",
      "tf.Tensor(1, shape=(), dtype=int8)\n",
      "tf.Tensor(b\"<p>I'd like to understand why Java 8 Optionals were designed to be immutable.  Is it just for thread-safety?</p>\\n\", shape=(), dtype=string)\n",
      "tf.Tensor(0, shape=(), dtype=int8)\n",
      "tf.Tensor(b'<p>I am attempting to overlay a title over an image - with the image darkened with a lower opacity. However, the opacity effect is changing the overlaying text as well - making it dim. Any fix to this? Here is what is looks like:</p>\\n\\n<p><a href=\"https://i.stack.imgur.com/1HzD7.png\" rel=\"noreferrer\"><img src=\"https://i.stack.imgur.com/1HzD7.png\" alt=\"enter image description here\"></a></p>\\n\\n<p>And here is my code for the custom component (article preview - which the above image is a row of article preview components): </p>\\n\\n<pre><code>//component for article preview touchable image\\n/* will require the following\\n- rss feed and api\\n- user\\'s keyword interests from parse In home.js\\n- parse db needs to be augmented to include what they heart\\n- parse db needs to be augmented to include what they press on (like google news)\\n*/\\nvar React = require(\\'react-native\\');\\nvar {\\n  View, \\n  StyleSheet, \\n  Text, \\n  Image, \\n  TouchableHighlight, \\n} = React;\\n\\n//dimensions\\nvar Dimensions = require(\\'Dimensions\\');\\nvar window = Dimensions.get(\\'window\\');\\nvar ImageButton = require(\\'../../common/imageButton\\');\\nvar KeywordBox = require(\\'../../authentication/onboarding/keyword-box\\');\\n\\n//additional libraries\\n\\nmodule.exports = React.createClass({\\n  //onPress function that triggers when button pressed\\n  //this.props.text is property that can be dynamically filled within button \\n  /* following props:\\n    - source={this.props.source}\\n    - onPress={this.props.onPress}\\n    - {this.props.text}\\n    - {this.props.heartText}\\n    - key={this.props.key} \\n    - text={this.props.category} \\n    - this.props.selected\\n  */\\n  render: function() {\\n    return (\\n      &lt;TouchableHighlight \\n        underlayColor={\\'transparent\\'}\\n        onPress={this.props.onPress} &gt;\\n          &lt;Image \\n            source={this.props.source} \\n            style={[styles.articlePreview, this.border(\\'red\\')]}&gt;\\n                  &lt;View style={[styles.container, this.border(\\'organge\\')]}&gt;\\n                      &lt;View style={[styles.header, this.border(\\'blue\\')]}&gt;\\n                          &lt;Text style={[styles.previewText]}&gt;{this.props.text}&lt;/Text&gt;\\n                      &lt;/View&gt;\\n                      &lt;View style={[styles.footer, this.border(\\'white\\')]}&gt;\\n                        &lt;View style={[styles.heartRow, this.border(\\'black\\')]}&gt;\\n                          &lt;ImageButton\\n                              style={[styles.heartBtn, , this.border(\\'red\\')]}\\n                              resizeMode={\\'contain\\'}\\n                              onPress={this.onHeartPress}\\n                              source={require(\\'../../img/heart_btn.png\\')} /&gt;\\n                          &lt;Text style={[styles.heartText]}&gt;{this.props.heartText + \\' favorites\\'}&lt;/Text&gt;\\n                        &lt;/View&gt;\\n                          &lt;KeywordBox \\n                              style={[styles.category, this.border(\\'blue\\')]}\\n                              key={this.props.key} \\n                              text={this.props.category} \\n                              onPress={this.props.categoryPress}\\n                              selected={this.props.selected} /&gt;\\n                      &lt;/View&gt;\\n                  &lt;/View&gt;\\n          &lt;/Image&gt;\\n      &lt;/TouchableHighlight&gt;\\n    );\\n  }, \\n  onHeartPress: function() {\\n    //will move this function to a general module\\n  }, \\n  border: function(color) {\\n      return {\\n        //borderColor: color, \\n        //borderWidth: 4,\\n      } \\n   },\\n});\\n\\nvar styles = StyleSheet.create({\\n  heartText: {\\n    color: \\'white\\', \\n    fontSize: 12, \\n    fontWeight: \\'bold\\',\\n    alignSelf: \\'center\\', \\n    marginLeft: 5, \\n    fontFamily: \\'SFCompactText-Medium\\'\\n  }, \\n  heartRow: {\\n    flexDirection: \\'row\\', \\n    justifyContent: \\'space-around\\', \\n    alignSelf: \\'center\\', \\n    justifyContent: \\'center\\', \\n  }, \\n  heartBtn: {\\n    height: (92/97)*(window.width/13), \\n    width: window.width/13, \\n    alignSelf:\\'center\\', \\n  }, \\n  category: {\\n    fontFamily: \\'Bebas Neue\\', \\n    fontSize: 10,\\n    fontWeight: \\'bold\\'\\n  }, \\n  header: {\\n    flex: 3, \\n    alignItems: \\'center\\', \\n    justifyContent: \\'space-around\\', \\n    marginTop: window.height/30,\\n  }, \\n  footer: {\\n    flex: 1, \\n    flexDirection: \\'row\\', \\n    justifyContent: \\'space-between\\', \\n    alignItems: \\'center\\', \\n    margin: window.height/50,\\n  }, \\n  container: {\\n    flex: 1, \\n    backgroundColor: \\'black\\', \\n    opacity: 0.6, \\n  }, \\n  articlePreview: {\\n    flex: 1, \\n    height: window.height/3.2, \\n    width: window.width, \\n    flexDirection: \\'column\\'\\n  }, \\n  previewText: {\\n    fontFamily: \\'Bebas Neue\\', \\n    fontSize: 23,\\n    color: \\'white\\', \\n    alignSelf: \\'center\\', \\n    textAlign: \\'center\\', \\n    margin: 5, \\n    position: \\'absolute\\',\\n    top: 0,\\n    right: 0,\\n    bottom: 0,\\n    left: 0\\n  }, \\n\\n});\\n</code></pre>\\n', shape=(), dtype=string)\n",
      "tf.Tensor(0, shape=(), dtype=int8)\n"
     ]
    },
    {
     "name": "stderr",
     "output_type": "stream",
     "text": [
      "2021-12-12 16:40:50.175264: I tensorflow/core/platform/cpu_feature_guard.cc:151] This TensorFlow binary is optimized with oneAPI Deep Neural Network Library (oneDNN) to use the following CPU instructions in performance-critical operations:  AVX2 FMA\n",
      "To enable them in other operations, rebuild TensorFlow with the appropriate compiler flags.\n"
     ]
    }
   ],
   "source": [
    "# we want the dataset to be created and processed on the cpu \n",
    "with tf.device('/cpu:0'):\n",
    "    train_data = tf.data.Dataset.from_tensor_slices((train_df['Body'].values, train_df['Y_cat_code'].values))\n",
    "    valid_data = tf.data.Dataset.from_tensor_slices((valid_df['Body'].values, valid_df['Y_cat_code'].values))\n",
    "    # lets look at 3 samples from train set\n",
    "    for text,label in train_data.take(3):\n",
    "        print(text)\n",
    "        print(label)\n"
   ]
  },
  {
   "cell_type": "code",
   "execution_count": 20,
   "metadata": {
    "execution": {
     "iopub.execute_input": "2021-06-30T15:17:46.966908Z",
     "iopub.status.busy": "2021-06-30T15:17:46.966556Z",
     "iopub.status.idle": "2021-06-30T15:17:46.975402Z",
     "shell.execute_reply": "2021-06-30T15:17:46.973426Z",
     "shell.execute_reply.started": "2021-06-30T15:17:46.96687Z"
    }
   },
   "outputs": [
    {
     "name": "stdout",
     "output_type": "stream",
     "text": [
      "45000\n",
      "15000\n"
     ]
    }
   ],
   "source": [
    "print(len(train_data))\n",
    "print(len(valid_data))"
   ]
  },
  {
   "cell_type": "markdown",
   "metadata": {
    "id": "e2-ReN88Hvy_"
   },
   "source": [
    "## Lets BERT: Get the Pre-trained BERT Model from TensorFlow Hub"
   ]
  },
  {
   "cell_type": "markdown",
   "metadata": {
    "id": "-0anx2AQ69wt"
   },
   "source": [
    "We will be using the uncased BERT present in the tfhub. In order to prepare the text to be given to the BERT layer, we need to first tokenize our words. The tokenizer here is present as a model asset and will do uncasing for us as well."
   ]
  },
  {
   "cell_type": "markdown",
   "metadata": {},
   "source": [
    "Setting all parameters in form of a dictionary so any changes if needed can be made here"
   ]
  },
  {
   "cell_type": "code",
   "execution_count": 21,
   "metadata": {
    "execution": {
     "iopub.execute_input": "2021-06-30T15:17:46.977105Z",
     "iopub.status.busy": "2021-06-30T15:17:46.976756Z",
     "iopub.status.idle": "2021-06-30T15:17:46.983204Z",
     "shell.execute_reply": "2021-06-30T15:17:46.982285Z",
     "shell.execute_reply.started": "2021-06-30T15:17:46.977069Z"
    },
    "id": "fi141L6X7EmH"
   },
   "outputs": [],
   "source": [
    "# Setting some parameters\n",
    "\n",
    "config = {'label_list' : [0, 1], # Label categories\n",
    "          'max_seq_length' : 128, # maximum length of (token) input sequences\n",
    "          'train_batch_size' : 32,\n",
    "          'learning_rate': 2e-5,\n",
    "          'epochs':5,\n",
    "          'optimizer': 'adam',\n",
    "          'dropout': 0.5,\n",
    "          'train_samples': len(train_data),\n",
    "          'valid_samples': len(valid_data),\n",
    "          'train_split':0.1,\n",
    "          'valid_split': 0.01\n",
    "         }"
   ]
  },
  {
   "cell_type": "code",
   "execution_count": 24,
   "metadata": {
    "execution": {
     "iopub.execute_input": "2021-06-30T15:17:46.984944Z",
     "iopub.status.busy": "2021-06-30T15:17:46.984496Z",
     "iopub.status.idle": "2021-06-30T15:17:58.586516Z",
     "shell.execute_reply": "2021-06-30T15:17:58.585633Z",
     "shell.execute_reply.started": "2021-06-30T15:17:46.984903Z"
    },
    "id": "EMb5M86b4-BU"
   },
   "outputs": [
    {
     "ename": "OSError",
     "evalue": "SavedModel file does not exist at: /var/folders/6z/v3dd5g393qb4x_sxw_kvvpcw0000gn/T/tfhub_modules/ce53fe6769d2ac3a260e92555120c54e1aecbea6/{saved_model.pbtxt|saved_model.pb}",
     "output_type": "error",
     "traceback": [
      "\u001b[0;31m---------------------------------------------------------------------------\u001b[0m",
      "\u001b[0;31mOSError\u001b[0m                                   Traceback (most recent call last)",
      "\u001b[0;32m/var/folders/6z/v3dd5g393qb4x_sxw_kvvpcw0000gn/T/ipykernel_22963/1983924567.py\u001b[0m in \u001b[0;36m<module>\u001b[0;34m\u001b[0m\n\u001b[1;32m      2\u001b[0m \u001b[0;31m# All details here: https://tfhub.dev/tensorflow/bert_en_uncased_L-12_H-768_A-12/2\u001b[0m\u001b[0;34m\u001b[0m\u001b[0;34m\u001b[0m\u001b[0;34m\u001b[0m\u001b[0m\n\u001b[1;32m      3\u001b[0m \u001b[0;34m\u001b[0m\u001b[0m\n\u001b[0;32m----> 4\u001b[0;31m \u001b[0mbert_layer\u001b[0m \u001b[0;34m=\u001b[0m \u001b[0mhub\u001b[0m\u001b[0;34m.\u001b[0m\u001b[0mKerasLayer\u001b[0m\u001b[0;34m(\u001b[0m\u001b[0;34m'https://tfhub.dev/tensorflow/bert_en_uncased_L-12_H-768_A-12/2'\u001b[0m\u001b[0;34m,\u001b[0m\u001b[0mtrainable\u001b[0m\u001b[0;34m=\u001b[0m\u001b[0;32mTrue\u001b[0m\u001b[0;34m)\u001b[0m\u001b[0;34m\u001b[0m\u001b[0;34m\u001b[0m\u001b[0m\n\u001b[0m\u001b[1;32m      5\u001b[0m \u001b[0mvocab_file\u001b[0m \u001b[0;34m=\u001b[0m \u001b[0mbert_layer\u001b[0m\u001b[0;34m.\u001b[0m\u001b[0mresolved_object\u001b[0m\u001b[0;34m.\u001b[0m\u001b[0mvocab_file\u001b[0m\u001b[0;34m.\u001b[0m\u001b[0masset_path\u001b[0m\u001b[0;34m.\u001b[0m\u001b[0mnumpy\u001b[0m\u001b[0;34m(\u001b[0m\u001b[0;34m)\u001b[0m\u001b[0;34m\u001b[0m\u001b[0;34m\u001b[0m\u001b[0m\n\u001b[1;32m      6\u001b[0m \u001b[0mdo_lower_case\u001b[0m \u001b[0;34m=\u001b[0m \u001b[0mbert_layer\u001b[0m\u001b[0;34m.\u001b[0m\u001b[0mresolved_object\u001b[0m\u001b[0;34m.\u001b[0m\u001b[0mdo_lower_case\u001b[0m\u001b[0;34m.\u001b[0m\u001b[0mnumpy\u001b[0m\u001b[0;34m(\u001b[0m\u001b[0;34m)\u001b[0m \u001b[0;31m# checks if the bert layer we are using is uncased or not\u001b[0m\u001b[0;34m\u001b[0m\u001b[0;34m\u001b[0m\u001b[0m\n",
      "\u001b[0;32m~/opt/anaconda3/lib/python3.7/site-packages/tensorflow_hub/keras_layer.py\u001b[0m in \u001b[0;36m__init__\u001b[0;34m(self, handle, trainable, arguments, _sentinel, tags, signature, signature_outputs_as_dict, output_key, output_shape, load_options, **kwargs)\u001b[0m\n\u001b[1;32m    151\u001b[0m \u001b[0;34m\u001b[0m\u001b[0m\n\u001b[1;32m    152\u001b[0m     \u001b[0mself\u001b[0m\u001b[0;34m.\u001b[0m\u001b[0m_load_options\u001b[0m \u001b[0;34m=\u001b[0m \u001b[0mload_options\u001b[0m\u001b[0;34m\u001b[0m\u001b[0;34m\u001b[0m\u001b[0m\n\u001b[0;32m--> 153\u001b[0;31m     \u001b[0mself\u001b[0m\u001b[0;34m.\u001b[0m\u001b[0m_func\u001b[0m \u001b[0;34m=\u001b[0m \u001b[0mload_module\u001b[0m\u001b[0;34m(\u001b[0m\u001b[0mhandle\u001b[0m\u001b[0;34m,\u001b[0m \u001b[0mtags\u001b[0m\u001b[0;34m,\u001b[0m \u001b[0mself\u001b[0m\u001b[0;34m.\u001b[0m\u001b[0m_load_options\u001b[0m\u001b[0;34m)\u001b[0m\u001b[0;34m\u001b[0m\u001b[0;34m\u001b[0m\u001b[0m\n\u001b[0m\u001b[1;32m    154\u001b[0m     \u001b[0mself\u001b[0m\u001b[0;34m.\u001b[0m\u001b[0m_has_training_argument\u001b[0m \u001b[0;34m=\u001b[0m \u001b[0mfunc_has_training_argument\u001b[0m\u001b[0;34m(\u001b[0m\u001b[0mself\u001b[0m\u001b[0;34m.\u001b[0m\u001b[0m_func\u001b[0m\u001b[0;34m)\u001b[0m\u001b[0;34m\u001b[0m\u001b[0;34m\u001b[0m\u001b[0m\n\u001b[1;32m    155\u001b[0m     \u001b[0mself\u001b[0m\u001b[0;34m.\u001b[0m\u001b[0m_is_hub_module_v1\u001b[0m \u001b[0;34m=\u001b[0m \u001b[0mgetattr\u001b[0m\u001b[0;34m(\u001b[0m\u001b[0mself\u001b[0m\u001b[0;34m.\u001b[0m\u001b[0m_func\u001b[0m\u001b[0;34m,\u001b[0m \u001b[0;34m\"_is_hub_module_v1\"\u001b[0m\u001b[0;34m,\u001b[0m \u001b[0;32mFalse\u001b[0m\u001b[0;34m)\u001b[0m\u001b[0;34m\u001b[0m\u001b[0;34m\u001b[0m\u001b[0m\n",
      "\u001b[0;32m~/opt/anaconda3/lib/python3.7/site-packages/tensorflow_hub/keras_layer.py\u001b[0m in \u001b[0;36mload_module\u001b[0;34m(handle, tags, load_options)\u001b[0m\n\u001b[1;32m    447\u001b[0m       \u001b[0;32mexcept\u001b[0m \u001b[0mImportError\u001b[0m\u001b[0;34m:\u001b[0m  \u001b[0;31m# Expected before TF2.4.\u001b[0m\u001b[0;34m\u001b[0m\u001b[0;34m\u001b[0m\u001b[0m\n\u001b[1;32m    448\u001b[0m         \u001b[0mset_load_options\u001b[0m \u001b[0;34m=\u001b[0m \u001b[0mload_options\u001b[0m\u001b[0;34m\u001b[0m\u001b[0;34m\u001b[0m\u001b[0m\n\u001b[0;32m--> 449\u001b[0;31m     \u001b[0;32mreturn\u001b[0m \u001b[0mmodule_v2\u001b[0m\u001b[0;34m.\u001b[0m\u001b[0mload\u001b[0m\u001b[0;34m(\u001b[0m\u001b[0mhandle\u001b[0m\u001b[0;34m,\u001b[0m \u001b[0mtags\u001b[0m\u001b[0;34m=\u001b[0m\u001b[0mtags\u001b[0m\u001b[0;34m,\u001b[0m \u001b[0moptions\u001b[0m\u001b[0;34m=\u001b[0m\u001b[0mset_load_options\u001b[0m\u001b[0;34m)\u001b[0m\u001b[0;34m\u001b[0m\u001b[0;34m\u001b[0m\u001b[0m\n\u001b[0m\u001b[1;32m    450\u001b[0m \u001b[0;34m\u001b[0m\u001b[0m\n\u001b[1;32m    451\u001b[0m \u001b[0;34m\u001b[0m\u001b[0m\n",
      "\u001b[0;32m~/opt/anaconda3/lib/python3.7/site-packages/tensorflow_hub/module_v2.py\u001b[0m in \u001b[0;36mload\u001b[0;34m(handle, tags, options)\u001b[0m\n\u001b[1;32m    104\u001b[0m         module_path, tags=tags, options=options)\n\u001b[1;32m    105\u001b[0m   \u001b[0;32melse\u001b[0m\u001b[0;34m:\u001b[0m\u001b[0;34m\u001b[0m\u001b[0;34m\u001b[0m\u001b[0m\n\u001b[0;32m--> 106\u001b[0;31m     \u001b[0mobj\u001b[0m \u001b[0;34m=\u001b[0m \u001b[0mtf\u001b[0m\u001b[0;34m.\u001b[0m\u001b[0mcompat\u001b[0m\u001b[0;34m.\u001b[0m\u001b[0mv1\u001b[0m\u001b[0;34m.\u001b[0m\u001b[0msaved_model\u001b[0m\u001b[0;34m.\u001b[0m\u001b[0mload_v2\u001b[0m\u001b[0;34m(\u001b[0m\u001b[0mmodule_path\u001b[0m\u001b[0;34m,\u001b[0m \u001b[0mtags\u001b[0m\u001b[0;34m=\u001b[0m\u001b[0mtags\u001b[0m\u001b[0;34m)\u001b[0m\u001b[0;34m\u001b[0m\u001b[0;34m\u001b[0m\u001b[0m\n\u001b[0m\u001b[1;32m    107\u001b[0m   \u001b[0mobj\u001b[0m\u001b[0;34m.\u001b[0m\u001b[0m_is_hub_module_v1\u001b[0m \u001b[0;34m=\u001b[0m \u001b[0mis_hub_module_v1\u001b[0m  \u001b[0;31m# pylint: disable=protected-access\u001b[0m\u001b[0;34m\u001b[0m\u001b[0;34m\u001b[0m\u001b[0m\n\u001b[1;32m    108\u001b[0m   \u001b[0;32mreturn\u001b[0m \u001b[0mobj\u001b[0m\u001b[0;34m\u001b[0m\u001b[0;34m\u001b[0m\u001b[0m\n",
      "\u001b[0;32m~/opt/anaconda3/lib/python3.7/site-packages/tensorflow/python/saved_model/load.py\u001b[0m in \u001b[0;36mload\u001b[0;34m(export_dir, tags, options)\u001b[0m\n\u001b[1;32m    898\u001b[0m     \u001b[0mValueError\u001b[0m\u001b[0;34m:\u001b[0m \u001b[0mIf\u001b[0m\u001b[0;31m \u001b[0m\u001b[0;31m`\u001b[0m\u001b[0mtags\u001b[0m\u001b[0;31m`\u001b[0m \u001b[0mdon\u001b[0m\u001b[0;31m'\u001b[0m\u001b[0mt\u001b[0m \u001b[0mmatch\u001b[0m \u001b[0ma\u001b[0m \u001b[0mMetaGraph\u001b[0m \u001b[0;32min\u001b[0m \u001b[0mthe\u001b[0m \u001b[0mSavedModel\u001b[0m\u001b[0;34m.\u001b[0m\u001b[0;34m\u001b[0m\u001b[0;34m\u001b[0m\u001b[0m\n\u001b[1;32m    899\u001b[0m   \"\"\"\n\u001b[0;32m--> 900\u001b[0;31m   \u001b[0mresult\u001b[0m \u001b[0;34m=\u001b[0m \u001b[0mload_internal\u001b[0m\u001b[0;34m(\u001b[0m\u001b[0mexport_dir\u001b[0m\u001b[0;34m,\u001b[0m \u001b[0mtags\u001b[0m\u001b[0;34m,\u001b[0m \u001b[0moptions\u001b[0m\u001b[0;34m)\u001b[0m\u001b[0;34m[\u001b[0m\u001b[0;34m\"root\"\u001b[0m\u001b[0;34m]\u001b[0m\u001b[0;34m\u001b[0m\u001b[0;34m\u001b[0m\u001b[0m\n\u001b[0m\u001b[1;32m    901\u001b[0m   \u001b[0;32mreturn\u001b[0m \u001b[0mresult\u001b[0m\u001b[0;34m\u001b[0m\u001b[0;34m\u001b[0m\u001b[0m\n\u001b[1;32m    902\u001b[0m \u001b[0;34m\u001b[0m\u001b[0m\n",
      "\u001b[0;32m~/opt/anaconda3/lib/python3.7/site-packages/tensorflow/python/saved_model/load.py\u001b[0m in \u001b[0;36mload_internal\u001b[0;34m(export_dir, tags, options, loader_cls, filters)\u001b[0m\n\u001b[1;32m    911\u001b[0m     \u001b[0mtags\u001b[0m \u001b[0;34m=\u001b[0m \u001b[0mnest\u001b[0m\u001b[0;34m.\u001b[0m\u001b[0mflatten\u001b[0m\u001b[0;34m(\u001b[0m\u001b[0mtags\u001b[0m\u001b[0;34m)\u001b[0m\u001b[0;34m\u001b[0m\u001b[0;34m\u001b[0m\u001b[0m\n\u001b[1;32m    912\u001b[0m   saved_model_proto, debug_info = (\n\u001b[0;32m--> 913\u001b[0;31m       loader_impl.parse_saved_model_with_debug_info(export_dir))\n\u001b[0m\u001b[1;32m    914\u001b[0m \u001b[0;34m\u001b[0m\u001b[0m\n\u001b[1;32m    915\u001b[0m   if (len(saved_model_proto.meta_graphs) == 1 and\n",
      "\u001b[0;32m~/opt/anaconda3/lib/python3.7/site-packages/tensorflow/python/saved_model/loader_impl.py\u001b[0m in \u001b[0;36mparse_saved_model_with_debug_info\u001b[0;34m(export_dir)\u001b[0m\n\u001b[1;32m     58\u001b[0m     \u001b[0mparsed\u001b[0m\u001b[0;34m.\u001b[0m \u001b[0mMissing\u001b[0m \u001b[0mgraph\u001b[0m \u001b[0mdebug\u001b[0m \u001b[0minfo\u001b[0m \u001b[0mfile\u001b[0m \u001b[0;32mis\u001b[0m \u001b[0mfine\u001b[0m\u001b[0;34m.\u001b[0m\u001b[0;34m\u001b[0m\u001b[0;34m\u001b[0m\u001b[0m\n\u001b[1;32m     59\u001b[0m   \"\"\"\n\u001b[0;32m---> 60\u001b[0;31m   \u001b[0msaved_model\u001b[0m \u001b[0;34m=\u001b[0m \u001b[0m_parse_saved_model\u001b[0m\u001b[0;34m(\u001b[0m\u001b[0mexport_dir\u001b[0m\u001b[0;34m)\u001b[0m\u001b[0;34m\u001b[0m\u001b[0;34m\u001b[0m\u001b[0m\n\u001b[0m\u001b[1;32m     61\u001b[0m \u001b[0;34m\u001b[0m\u001b[0m\n\u001b[1;32m     62\u001b[0m   debug_info_path = file_io.join(\n",
      "\u001b[0;32m~/opt/anaconda3/lib/python3.7/site-packages/tensorflow/python/saved_model/loader_impl.py\u001b[0m in \u001b[0;36mparse_saved_model\u001b[0;34m(export_dir)\u001b[0m\n\u001b[1;32m    117\u001b[0m   \u001b[0;32melse\u001b[0m\u001b[0;34m:\u001b[0m\u001b[0;34m\u001b[0m\u001b[0;34m\u001b[0m\u001b[0m\n\u001b[1;32m    118\u001b[0m     raise IOError(\n\u001b[0;32m--> 119\u001b[0;31m         \u001b[0;34mf\"SavedModel file does not exist at: {export_dir}{os.path.sep}\"\u001b[0m\u001b[0;34m\u001b[0m\u001b[0;34m\u001b[0m\u001b[0m\n\u001b[0m\u001b[1;32m    120\u001b[0m         \u001b[0;34mf\"{{{constants.SAVED_MODEL_FILENAME_PBTXT}|\"\u001b[0m\u001b[0;34m\u001b[0m\u001b[0;34m\u001b[0m\u001b[0m\n\u001b[1;32m    121\u001b[0m         f\"{constants.SAVED_MODEL_FILENAME_PB}}}\")\n",
      "\u001b[0;31mOSError\u001b[0m: SavedModel file does not exist at: /var/folders/6z/v3dd5g393qb4x_sxw_kvvpcw0000gn/T/tfhub_modules/ce53fe6769d2ac3a260e92555120c54e1aecbea6/{saved_model.pbtxt|saved_model.pb}"
     ]
    }
   ],
   "source": [
    "# Get BERT layer and tokenizer:\n",
    "# All details here: https://tfhub.dev/tensorflow/bert_en_uncased_L-12_H-768_A-12/2\n",
    "\n",
    "bert_layer = hub.KerasLayer('https://tfhub.dev/tensorflow/bert_en_uncased_L-12_H-768_A-12/2',trainable=True)\n",
    "vocab_file = bert_layer.resolved_object.vocab_file.asset_path.numpy()\n",
    "do_lower_case = bert_layer.resolved_object.do_lower_case.numpy() # checks if the bert layer we are using is uncased or not\n",
    "tokenizer = tokenization.FullTokenizer(vocab_file, do_lower_case)"
   ]
  },
  {
   "cell_type": "markdown",
   "metadata": {
    "id": "9QinzNq6OsP1"
   },
   "source": [
    "## Lets Get That Data Ready: Tokenize and Preprocess Text for BERT"
   ]
  },
  {
   "cell_type": "markdown",
   "metadata": {
    "id": "dZCrWwCCo_82"
   },
   "source": [
    "Each line of the dataset is composed of the review text and its label.\n",
    "Data preprocessing consists of transforming text to BERT input features:\n",
    "`input_word_ids`, `input_mask`, `segment_ids/input_type_ids`\n",
    "\n",
    "- **Input Word Ids:** Output of our tokenizer, converting each sentence into a set of token ids.\n",
    "\n",
    "- **Input Masks:** Since we are padding all the sequences to 128(max sequence length), it is important that we create some sort of mask to make sure those paddings do not interfere with the actual text tokens. Therefore we need a generate input mask blocking the paddings. The mask has 1 for real tokens and 0 for padding tokens. Only real\n",
    "tokens are attended to.\n",
    "\n",
    "- **Segment Ids:** For out task of text classification, since there is only one sequence, the segment_ids/input_type_ids is essentially just a vector of 0s. \n",
    "\n",
    "\n",
    "\n",
    "Bert was trained on two tasks:\n",
    "- fill in randomly masked words from a sentence.\n",
    "- given two sentences,  which sentence came first. \n"
   ]
  },
  {
   "cell_type": "code",
   "execution_count": null,
   "metadata": {
    "execution": {
     "iopub.execute_input": "2021-06-30T15:17:58.598605Z",
     "iopub.status.busy": "2021-06-30T15:17:58.598236Z",
     "iopub.status.idle": "2021-06-30T15:17:58.6072Z",
     "shell.execute_reply": "2021-06-30T15:17:58.606367Z",
     "shell.execute_reply.started": "2021-06-30T15:17:58.598568Z"
    },
    "id": "m-21A5aNJM0W"
   },
   "outputs": [],
   "source": [
    "# This provides a function to convert row to input features and label, \n",
    "# this uses the classifier_data_lib which is a class defined in the tensorflow model garden we installed earlier\n",
    "def create_feature(text, label, label_list=config['label_list'], max_seq_length=config['max_seq_length'], tokenizer=tokenizer):\n",
    "    \"\"\"\n",
    "    converts the datapoint into usable features for BERT using the classifier_data_lib\n",
    "\n",
    "    Parameters:\n",
    "    text: Input text string\n",
    "    label: label associated with the text\n",
    "    label_list: (list) all possible labels\n",
    "    max_seq_length: (int) maximum sequence length set for bert\n",
    "    tokenizer: the tokenizer object instantiated by the files in model assets\n",
    "\n",
    "    Returns:\n",
    "    feature.input_ids: The token ids for the input text string\n",
    "    feature.input_masks: The padding mask generated \n",
    "    feature.segment_ids: essentially here a vector of 0s since classification\n",
    "    feature.label_id: the corresponding label id from lable_list [0, 1] here\n",
    "\n",
    "    \"\"\"\n",
    "    # since we only have 1 sentence for classification purpose, textr_b is None\n",
    "    example = classifier_data_lib.InputExample(guid = None,\n",
    "                                            text_a = text.numpy(), \n",
    "                                            text_b = None, \n",
    "                                            label = label.numpy())\n",
    "    # since only 1 example, the index=0\n",
    "    feature = classifier_data_lib.convert_single_example(0, example, label_list,\n",
    "                                    max_seq_length, tokenizer)\n",
    "\n",
    "    return (feature.input_ids, feature.input_mask, feature.segment_ids, feature.label_id)"
   ]
  },
  {
   "cell_type": "markdown",
   "metadata": {
    "id": "A_HQSsHwWCsK"
   },
   "source": [
    "You want to use [`Dataset.map`](https://www.tensorflow.org/api_docs/python/tf/data/Dataset#map) to apply this function to each element of the dataset. [`Dataset.map`](https://www.tensorflow.org/api_docs/python/tf/data/Dataset#map) runs in graph mode.\n",
    "\n",
    "- Graph tensors do not have a value.\n",
    "- In graph mode you can only use TensorFlow Ops and functions.\n",
    "\n",
    "So you can't `.map` this function directly: You need to wrap it in a [`tf.py_function`](https://www.tensorflow.org/api_docs/python/tf/py_function). The [`tf.py_function`](https://www.tensorflow.org/api_docs/python/tf/py_function) will pass regular tensors (with a value and a `.numpy()` method to access it), to the wrapped python function."
   ]
  },
  {
   "cell_type": "markdown",
   "metadata": {
    "id": "zaNlkKVfWX0Q"
   },
   "source": [
    "### Wrapping the Python Function into a TensorFlow op for Eager Execution"
   ]
  },
  {
   "cell_type": "code",
   "execution_count": null,
   "metadata": {
    "execution": {
     "iopub.execute_input": "2021-06-30T15:17:58.611701Z",
     "iopub.status.busy": "2021-06-30T15:17:58.611334Z",
     "iopub.status.idle": "2021-06-30T15:17:58.620047Z",
     "shell.execute_reply": "2021-06-30T15:17:58.619292Z",
     "shell.execute_reply.started": "2021-06-30T15:17:58.611668Z"
    },
    "id": "AGACBcfCWC2O"
   },
   "outputs": [],
   "source": [
    "def create_feature_map(text, label):\n",
    "    \"\"\"\n",
    "    A tensorflow function wrapper to apply the transformation on the dataset.\n",
    "    Parameters:\n",
    "    Text: the input text string.\n",
    "    label: the classification ground truth label associated with the input string\n",
    "\n",
    "    Returns:\n",
    "    A tuple of a dictionary and a corresponding label_id with it. The dictionary \n",
    "    contains the input_word_ids, input_mask, input_type_ids  \n",
    "    \"\"\"\n",
    "    input_ids, input_mask, segment_ids, label_id = tf.py_function(create_feature, inp=[text, label], \n",
    "                                Tout=[tf.int32, tf.int32, tf.int32, tf.int32])\n",
    "    max_seq_length = config['max_seq_length']\n",
    "\n",
    "    # py_func doesn't set the shape of the returned tensors.\n",
    "    input_ids.set_shape([max_seq_length])\n",
    "    input_mask.set_shape([max_seq_length])\n",
    "    segment_ids.set_shape([max_seq_length])\n",
    "    label_id.set_shape([])\n",
    "\n",
    "    x = {\n",
    "        'input_word_ids': input_ids,\n",
    "        'input_mask': input_mask,\n",
    "        'input_type_ids': segment_ids\n",
    "    }\n",
    "    return (x, label_id)\n",
    "\n",
    "    # the final datapoint passed to the model is of the format a dictionary as x and labels.\n",
    "    # the dictionary have keys which should obv match"
   ]
  },
  {
   "cell_type": "markdown",
   "metadata": {
    "id": "dhdO6MjTbtn1"
   },
   "source": [
    "## Let the Data Flow: Creating the final input pipeline using `tf.data`"
   ]
  },
  {
   "cell_type": "code",
   "execution_count": null,
   "metadata": {
    "execution": {
     "iopub.execute_input": "2021-06-30T15:17:58.622375Z",
     "iopub.status.busy": "2021-06-30T15:17:58.621922Z",
     "iopub.status.idle": "2021-06-30T15:17:58.730709Z",
     "shell.execute_reply": "2021-06-30T15:17:58.729691Z",
     "shell.execute_reply.started": "2021-06-30T15:17:58.62232Z"
    },
    "id": "LHRdiO3dnPNr"
   },
   "outputs": [],
   "source": [
    "# Now we will simply apply the transformation to our train and test datasets\n",
    "with tf.device('/cpu:0'):\n",
    "  # train\n",
    "  train_data = (train_data.map(create_feature_map,\n",
    "                              num_parallel_calls=tf.data.experimental.AUTOTUNE)\n",
    "\n",
    "                          .shuffle(1000)\n",
    "                          .batch(32, drop_remainder=True)\n",
    "                          .prefetch(tf.data.experimental.AUTOTUNE))\n",
    "\n",
    "  # valid\n",
    "  valid_data = (valid_data.map(create_feature_map, \n",
    "                               num_parallel_calls=tf.data.experimental.AUTOTUNE)\n",
    "                          .batch(32, drop_remainder=True)\n",
    "                          .prefetch(tf.data.experimental.AUTOTUNE)) "
   ]
  },
  {
   "cell_type": "markdown",
   "metadata": {
    "id": "KLUWnfx-YDi2"
   },
   "source": [
    "The resulting `tf.data.Datasets` return `(features, labels)` pairs, as expected by [`keras.Model.fit`](https://www.tensorflow.org/api_docs/python/tf/keras/Model#fit):"
   ]
  },
  {
   "cell_type": "code",
   "execution_count": null,
   "metadata": {
    "execution": {
     "iopub.execute_input": "2021-06-30T15:17:58.732431Z",
     "iopub.status.busy": "2021-06-30T15:17:58.732073Z",
     "iopub.status.idle": "2021-06-30T15:17:58.740257Z",
     "shell.execute_reply": "2021-06-30T15:17:58.73921Z",
     "shell.execute_reply.started": "2021-06-30T15:17:58.732396Z"
    },
    "id": "B0Z2cy9GHQ8x",
    "outputId": "236d77a8-48b5-4377-b613-6d57f874578e"
   },
   "outputs": [],
   "source": [
    "# train data spec, we can finally see the input datapoint is now converted to the BERT specific input tensor\n",
    "train_data.element_spec"
   ]
  },
  {
   "cell_type": "code",
   "execution_count": null,
   "metadata": {
    "execution": {
     "iopub.execute_input": "2021-06-30T15:17:58.742199Z",
     "iopub.status.busy": "2021-06-30T15:17:58.741653Z",
     "iopub.status.idle": "2021-06-30T15:17:58.749128Z",
     "shell.execute_reply": "2021-06-30T15:17:58.74813Z",
     "shell.execute_reply.started": "2021-06-30T15:17:58.742158Z"
    },
    "id": "DGAH-ycYOmao",
    "outputId": "0c5c836e-f92c-47d4-d62e-10abf4d02ed9"
   },
   "outputs": [],
   "source": [
    "# valid data spec\n",
    "valid_data.element_spec"
   ]
  },
  {
   "cell_type": "markdown",
   "metadata": {
    "id": "fB6vR1KHIWrv"
   },
   "source": [
    "## Create The Model"
   ]
  },
  {
   "cell_type": "markdown",
   "metadata": {
    "id": "e33vaIFW1yil"
   },
   "source": [
    "There are two outputs from the BERT Layer: \n",
    "- A pooled_output of shape [batch_size, 768] with representations for the entire input sequences.  \n",
    "- A sequence_output of shape [batch_size, max_seq_length, 768] with representations for each input token (in context).\n",
    "\n",
    "For the classification task, we are only concerned with the pooled_output."
   ]
  },
  {
   "cell_type": "code",
   "execution_count": null,
   "metadata": {
    "execution": {
     "iopub.execute_input": "2021-06-30T15:17:58.751165Z",
     "iopub.status.busy": "2021-06-30T15:17:58.750767Z",
     "iopub.status.idle": "2021-06-30T15:17:58.760319Z",
     "shell.execute_reply": "2021-06-30T15:17:58.759352Z",
     "shell.execute_reply.started": "2021-06-30T15:17:58.75113Z"
    },
    "id": "G9il4gtlADcp"
   },
   "outputs": [],
   "source": [
    "# Building the model, input ---> BERT Layer ---> Classification Head\n",
    "def create_model():\n",
    "    \n",
    "    input_word_ids=tf.keras.layers.Input(shape=(config['max_seq_length'],), dtype=tf.int32)\n",
    "    input_mask=tf.keras.layers.Input(shape=(config['max_seq_length'],), dtype=tf.int32)\n",
    "    input_type_ids=tf.keras.layers.Input(shape=(config['max_seq_length'],), dtype=tf.int32)\n",
    "    \n",
    "    pooled_output, sequence_output = bert_layer([input_word_ids, input_mask, input_type_ids])\n",
    "    # for classification we only care about the pooled-output.\n",
    "    # At this point we can play around with the classification head based on the \n",
    "    # downstream tasks and its complexity\n",
    "\n",
    "    drop = tf.keras.layers.Dropout(config['dropout'])(pooled_output)\n",
    "    output = tf.keras.layers.Dense(1, activation='sigmoid', name='output')(drop)\n",
    "\n",
    "    # inputs coming from the function\n",
    "    model = tf.keras.Model(\n",
    "      inputs={\n",
    "        'input_word_ids': input_word_ids,\n",
    "        'input_mask': input_mask,\n",
    "        'input_type_ids': input_type_ids}, \n",
    "      outputs=output)\n",
    "\n",
    "    return model"
   ]
  },
  {
   "cell_type": "markdown",
   "metadata": {
    "id": "S6maM-vr7YaJ"
   },
   "source": [
    "## Let Us Train !"
   ]
  },
  {
   "cell_type": "code",
   "execution_count": null,
   "metadata": {
    "execution": {
     "iopub.execute_input": "2021-06-30T15:17:58.762103Z",
     "iopub.status.busy": "2021-06-30T15:17:58.761706Z",
     "iopub.status.idle": "2021-06-30T15:17:59.406737Z",
     "shell.execute_reply": "2021-06-30T15:17:59.405897Z",
     "shell.execute_reply.started": "2021-06-30T15:17:58.762067Z"
    },
    "id": "ptCtiiONsBgo"
   },
   "outputs": [],
   "source": [
    "# Calling the create model function to get the keras based functional model\n",
    "model = create_model()"
   ]
  },
  {
   "cell_type": "code",
   "execution_count": null,
   "metadata": {
    "execution": {
     "iopub.execute_input": "2021-06-30T15:17:59.408444Z",
     "iopub.status.busy": "2021-06-30T15:17:59.408099Z",
     "iopub.status.idle": "2021-06-30T15:17:59.457379Z",
     "shell.execute_reply": "2021-06-30T15:17:59.456401Z",
     "shell.execute_reply.started": "2021-06-30T15:17:59.408408Z"
    },
    "id": "6GJaFnkbMtPL",
    "outputId": "293a795e-096b-4fcf-a3d3-73e013f79f12"
   },
   "outputs": [],
   "source": [
    "# using adam with a lr of 2*(10^-5), loss as binary cross entropy as only 2 classes and similarly binary accuracy\n",
    "model.compile(optimizer=tf.keras.optimizers.Adam(learning_rate=config['learning_rate']),\n",
    "              loss=tf.keras.losses.BinaryCrossentropy(),\n",
    "              metrics=[tf.keras.metrics.BinaryAccuracy(),\n",
    "                       tf.keras.metrics.PrecisionAtRecall(0.5),\n",
    "                       tf.keras.metrics.Precision(),\n",
    "                       tf.keras.metrics.Recall()])\n",
    "model.summary()"
   ]
  },
  {
   "cell_type": "markdown",
   "metadata": {
    "id": "fhhVabKn23LY"
   },
   "source": [
    "One drawback of the tf hub is that we import the entire module as a layer in keras as a result of which we dont see the parameters and layers in the model summary."
   ]
  },
  {
   "cell_type": "code",
   "execution_count": null,
   "metadata": {
    "execution": {
     "iopub.execute_input": "2021-06-30T15:17:59.460496Z",
     "iopub.status.busy": "2021-06-30T15:17:59.46023Z",
     "iopub.status.idle": "2021-06-30T15:17:59.930699Z",
     "shell.execute_reply": "2021-06-30T15:17:59.929801Z",
     "shell.execute_reply.started": "2021-06-30T15:17:59.46047Z"
    },
    "id": "WDwqsmSV4l4N",
    "outputId": "414388f1-9f22-49fd-fb63-8df025a0ec4a"
   },
   "outputs": [],
   "source": [
    "tf.keras.utils.plot_model(model=model, show_shapes=True, dpi=76, )"
   ]
  },
  {
   "cell_type": "markdown",
   "metadata": {
    "id": "82ye_lKZ3OA_"
   },
   "source": [
    "The official tfhub page states that\n",
    "\"All parameters in the module are trainable, and fine-tuning all parameters is the recommended practice.\" Therefore we will go ahead and train teh entire model without freezing anything"
   ]
  },
  {
   "cell_type": "code",
   "execution_count": null,
   "metadata": {
    "execution": {
     "iopub.execute_input": "2021-06-30T15:18:06.3547Z",
     "iopub.status.busy": "2021-06-30T15:18:06.352524Z",
     "iopub.status.idle": "2021-06-30T18:05:30.387134Z",
     "shell.execute_reply": "2021-06-30T18:05:30.386159Z",
     "shell.execute_reply.started": "2021-06-30T15:18:06.354648Z"
    },
    "id": "OcREcgPUHr9O",
    "outputId": "c123d1a0-3c0c-4465-ce15-bf1e7b3c82c4"
   },
   "outputs": [],
   "source": [
    "# Train model\n",
    "# setting low epochs as It starts to overfit with this limited data,\n",
    "epochs = config['epochs']\n",
    "history = model.fit(train_data,\n",
    "                    validation_data=valid_data,\n",
    "                    epochs=epochs,\n",
    "                    verbose=1)\n",
    "run.finish()"
   ]
  },
  {
   "cell_type": "markdown",
   "metadata": {},
   "source": [
    "### Lets Evaluate\n",
    "\n",
    "Let us do an evaluation on the validation set and log the scores using weights and biases."
   ]
  },
  {
   "cell_type": "code",
   "execution_count": null,
   "metadata": {
    "execution": {
     "iopub.execute_input": "2021-06-30T18:05:30.388979Z",
     "iopub.status.busy": "2021-06-30T18:05:30.388603Z",
     "iopub.status.idle": "2021-06-30T18:06:40.864785Z",
     "shell.execute_reply": "2021-06-30T18:06:40.863966Z",
     "shell.execute_reply.started": "2021-06-30T18:05:30.38894Z"
    }
   },
   "outputs": [],
   "source": [
    "# Model Evaluation on validation set\n",
    "evaluation_results = model.evaluate(valid_data,return_dict=True)\n"
   ]
  },
  {
   "cell_type": "markdown",
   "metadata": {
    "id": "Hnb8cCI4KQLe"
   },
   "source": [
    "### Lets Look at some Graphs\n",
    "\n",
    "These Graphs will mainly be useful when we are training for more epochs and more data.\n",
    "All these graphs are actually directly logged on the [wandb dashboard](https://wandb.ai/akshayuppal12/Finetune-BERT-Text-Classification/runs/29thnm00?workspace=user-akshayuppal12) created for this run. To still give out a method to generate graphs explicitly here is some very basic code."
   ]
  },
  {
   "cell_type": "code",
   "execution_count": null,
   "metadata": {
    "execution": {
     "iopub.execute_input": "2021-06-30T18:06:40.867943Z",
     "iopub.status.busy": "2021-06-30T18:06:40.867683Z",
     "iopub.status.idle": "2021-06-30T18:06:40.877572Z",
     "shell.execute_reply": "2021-06-30T18:06:40.876442Z",
     "shell.execute_reply.started": "2021-06-30T18:06:40.867915Z"
    },
    "id": "IttJTcQnI5aL"
   },
   "outputs": [],
   "source": [
    "\n",
    "def create_graphs(history):\n",
    "    train_accuracy = history.history['binary_accuracy']\n",
    "    val_accuracy = history.history['val_binary_accuracy'],\n",
    "    train_losses = history.history['loss'],\n",
    "    val_losses = history.history['val_loss']\n",
    "    fig1 = plt.figure()\n",
    "    plt.plot(train_accuracy, 'r', linewidth=3.0, marker='o')\n",
    "    plt.plot(val_accuracy, 'b', linewidth=3.0, marker='o')\n",
    "    plt.legend(['Training Accuracy', 'Validation Accuracy'], fontsize=18)\n",
    "    plt.xlabel('Epochs ', fontsize=16)\n",
    "    plt.ylabel('Accuracy', fontsize=16)\n",
    "    plt.title('Accuracy Curves', fontsize=16)\n",
    "    plt.show()\n",
    "\n",
    "    fig2 = plt.figure()\n",
    "    plt.plot(train_losses, 'r', linewidth=3.0, marker='o')\n",
    "    plt.plot(val_losses, 'b', linewidth=3.0, marker='o')\n",
    "    plt.legend(['Training loss', 'Validation Loss'], fontsize=18)\n",
    "    plt.xlabel('Epochs ', fontsize=16)\n",
    "    plt.ylabel('Loss', fontsize=16)\n",
    "    plt.title('Loss Curves', fontsize=16)\n",
    "    plt.show()"
   ]
  },
  {
   "cell_type": "markdown",
   "metadata": {},
   "source": [
    "Since we just trained for a very limited data and less epoch these graphs generated here are not as \n",
    "represenetative, so leaving this here more interms of a place holder for the reader to experiment with."
   ]
  },
  {
   "cell_type": "code",
   "execution_count": null,
   "metadata": {
    "execution": {
     "iopub.execute_input": "2021-06-30T18:06:40.879374Z",
     "iopub.status.busy": "2021-06-30T18:06:40.878928Z",
     "iopub.status.idle": "2021-06-30T18:06:40.889078Z",
     "shell.execute_reply": "2021-06-30T18:06:40.88826Z",
     "shell.execute_reply.started": "2021-06-30T18:06:40.87932Z"
    },
    "id": "KXmTwmQlJ_y4",
    "outputId": "fa20263d-4059-4312-9e32-29ae00e43e5c"
   },
   "outputs": [],
   "source": [
    "create_graphs(history)"
   ]
  },
  {
   "cell_type": "markdown",
   "metadata": {},
   "source": [
    "### Saving the models and model Versioning"
   ]
  },
  {
   "cell_type": "markdown",
   "metadata": {},
   "source": [
    "#### W&B Artifacts\n",
    "For saving the models and making it easier to track different experiments, I will be using wandb.artifacts.\n",
    "W&B Artifacts are a way to save your datasets and models.\n",
    "\n",
    "Within a run, there are three steps for creating and saving a model Artifact.\n",
    "\n",
    "- Create an empty Artifact with wandb.Artifact().\n",
    "- Add your model file to the Artifact with wandb.add_file().\n",
    "- Call wandb.log_artifact() to save the Artifact\n"
   ]
  },
  {
   "cell_type": "code",
   "execution_count": null,
   "metadata": {
    "execution": {
     "iopub.execute_input": "2021-06-30T18:06:40.890676Z",
     "iopub.status.busy": "2021-06-30T18:06:40.890175Z",
     "iopub.status.idle": "2021-06-30T18:07:45.629279Z",
     "shell.execute_reply": "2021-06-30T18:07:45.628281Z",
     "shell.execute_reply.started": "2021-06-30T18:06:40.89064Z"
    }
   },
   "outputs": [],
   "source": [
    "# Save model\n",
    "model.save(f\"{config['model_name']}.h5\")\n",
    "\n",
    "# Initialize a new W&B run for saving the model, changing the job_type\n",
    "run = wandb.init(project='Finetune-BERT-Text-Classification', \n",
    "                 config=config,\n",
    "                 group='BERT_EN_UNCASED', \n",
    "                 job_type='save')\n",
    "\n",
    "\n",
    "# Save model as Model Artifact\n",
    "artifact = wandb.Artifact(name=f\"{config['model_name']}\", type='model')\n",
    "artifact.add_file(f\"{config['model_name']}.h5\")\n",
    "run.log_artifact(artifact)\n",
    "\n",
    "# Finish W&B run\n",
    "run.finish()"
   ]
  },
  {
   "cell_type": "markdown",
   "metadata": {},
   "source": [
    "[Artifact dashboard](https://wandb.ai/akshayuppal12/Finetune-BERT-Text-Classification/artifacts/model/BERT_EN_UNCASED/48ffa3e14aba242a5113): Model versioning and more."
   ]
  },
  {
   "cell_type": "markdown",
   "metadata": {},
   "source": [
    "### Quick Sneak Peek into the W&B Dashboard\n",
    "\n",
    "**Things to note:**\n",
    "- Grouping of experiments and runs.\n",
    "- Visualizations of all training logs and metrics.\n",
    "- Visualizations for system metrics, could be useful when training on cloud instances or physical GPU machines\n",
    "- Hyperparmeter tracking in the tabular form.\n",
    "- Artifacts: Model versioning and storage.\n",
    "\n",
    "<img src=\"https://i.imgur.com/CD7iPK1.gif\">\n",
    "\n"
   ]
  },
  {
   "cell_type": "markdown",
   "metadata": {
    "id": "67dhLzBoKDSR"
   },
   "source": [
    "Hopefully, this was useful for you, and by now, you have a small kickstart on training and utilizing BERT for a variety of downstream tasks like classification, Named Entity Recognition, Sentence filling, and many more.\n",
    "\n",
    "You can check out and get the entire code as a notebook and run it on colab from this [Github Repo](https://github.com/au1206/Fine_Tuning_BERT).\n",
    "\n",
    "If this was helpful, consider sharing it with more people so they can also learn about it.\n",
    "\n",
    "Coming up Next:\n",
    "- BERT Annotated Paper\n",
    "- Write up on Transformers and its workings \n",
    "\n",
    "For some annotated, reader-friendly research papers on advanced concepts and tutorials like these please visit https://au1206.github.io/.\n",
    "\n",
    "If you made it this far, please consider leaving feedback so I can improve and also if you liked it consider upvoting. \n",
    "\n",
    "(UPDATE): [BERT Annotated Paper and Beyond...](https://au1206.github.io/annotated%20paper/BERT/)"
   ]
  },
  {
   "cell_type": "markdown",
   "metadata": {},
   "source": [
    "### References:\n",
    "W&B usage and intro: https://www.kaggle.com/ayuraj/experiment-tracking-with-weights-and-biases "
   ]
  },
  {
   "cell_type": "code",
   "execution_count": null,
   "metadata": {},
   "outputs": [],
   "source": []
  }
 ],
 "metadata": {
  "kernelspec": {
   "display_name": "Python 3 (ipykernel)",
   "language": "python",
   "name": "python3"
  },
  "language_info": {
   "codemirror_mode": {
    "name": "ipython",
    "version": 3
   },
   "file_extension": ".py",
   "mimetype": "text/x-python",
   "name": "python",
   "nbconvert_exporter": "python",
   "pygments_lexer": "ipython3",
   "version": "3.7.7"
  }
 },
 "nbformat": 4,
 "nbformat_minor": 4
}
