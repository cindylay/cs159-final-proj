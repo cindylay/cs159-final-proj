{
  "cells": [
    {
      "cell_type": "markdown",
      "metadata": {
        "id": "view-in-github",
        "colab_type": "text"
      },
      "source": [
        "<a href=\"https://colab.research.google.com/github/cindylay/cs159-final-proj/blob/main/Experiments/fine_tuning_bert_text_classification.ipynb\" target=\"_parent\"><img src=\"https://colab.research.google.com/assets/colab-badge.svg\" alt=\"Open In Colab\"/></a>"
      ]
    },
    {
      "cell_type": "markdown",
      "metadata": {
        "id": "4y2m1S6e12il"
      },
      "source": [
        "<div align=\"center\">\n",
        "    <img width=\"512px\" src='https://drive.google.com/uc?id=1mBqrfxng42SgSXvK62V1C67Or_vgrsVm' />\n",
        "    <p style=\"text-align: center;color:gray\">Figure 1: BERT Classification Model</p>\n",
        "</div>"
      ]
    },
    {
      "cell_type": "markdown",
      "metadata": {
        "id": "zhV7YowzK-I9"
      },
      "source": [
        "## Initial Set Up"
      ]
    },
    {
      "cell_type": "markdown",
      "metadata": {
        "id": "Obch3rAuBVf0"
      },
      "source": [
        "### Install TensorFlow and TensorFlow Model Garden"
      ]
    },
    {
      "cell_type": "code",
      "source": [
        "!pip install tensorflow-gpu==2.6.2"
      ],
      "metadata": {
        "colab": {
          "base_uri": "https://localhost:8080/"
        },
        "id": "C0CGjNRiZd7-",
        "outputId": "6e3bd27d-a604-4a62-f252-d0eaeca4e563"
      },
      "execution_count": null,
      "outputs": [
        {
          "output_type": "stream",
          "name": "stdout",
          "text": [
            "Collecting tensorflow-gpu==2.6.2\n",
            "\u001b[33m  WARNING: Retrying (Retry(total=4, connect=None, read=None, redirect=None, status=None)) after connection broken by 'ReadTimeoutError(\"HTTPSConnectionPool(host='files.pythonhosted.org', port=443): Read timed out. (read timeout=15)\")': /packages/5d/0d/7713f7f4d0e14b9fe55b21de8c80618539c48942ed89ee35951e0b65f15c/tensorflow_gpu-2.6.2-cp37-cp37m-manylinux2010_x86_64.whl\u001b[0m\n",
            "  Downloading tensorflow_gpu-2.6.2-cp37-cp37m-manylinux2010_x86_64.whl (458.3 MB)\n",
            "\u001b[K     |████████████████████████████████| 458.3 MB 11 kB/s \n",
            "\u001b[?25hCollecting wrapt~=1.12.1\n",
            "  Downloading wrapt-1.12.1.tar.gz (27 kB)\n",
            "Requirement already satisfied: gast==0.4.0 in /usr/local/lib/python3.7/dist-packages (from tensorflow-gpu==2.6.2) (0.4.0)\n",
            "Requirement already satisfied: absl-py~=0.10 in /usr/local/lib/python3.7/dist-packages (from tensorflow-gpu==2.6.2) (0.12.0)\n",
            "Collecting clang~=5.0\n",
            "  Downloading clang-5.0.tar.gz (30 kB)\n",
            "Requirement already satisfied: termcolor~=1.1.0 in /usr/local/lib/python3.7/dist-packages (from tensorflow-gpu==2.6.2) (1.1.0)\n",
            "Requirement already satisfied: grpcio<2.0,>=1.37.0 in /usr/local/lib/python3.7/dist-packages (from tensorflow-gpu==2.6.2) (1.42.0)\n",
            "Collecting keras<2.7,>=2.6.0\n",
            "  Downloading keras-2.6.0-py2.py3-none-any.whl (1.3 MB)\n",
            "\u001b[K     |████████████████████████████████| 1.3 MB 51.7 MB/s \n",
            "\u001b[?25hRequirement already satisfied: opt-einsum~=3.3.0 in /usr/local/lib/python3.7/dist-packages (from tensorflow-gpu==2.6.2) (3.3.0)\n",
            "Requirement already satisfied: protobuf>=3.9.2 in /usr/local/lib/python3.7/dist-packages (from tensorflow-gpu==2.6.2) (3.17.3)\n",
            "Requirement already satisfied: google-pasta~=0.2 in /usr/local/lib/python3.7/dist-packages (from tensorflow-gpu==2.6.2) (0.2.0)\n",
            "Collecting flatbuffers~=1.12.0\n",
            "  Downloading flatbuffers-1.12-py2.py3-none-any.whl (15 kB)\n",
            "Collecting tensorboard<2.7,>=2.6.0\n",
            "  Downloading tensorboard-2.6.0-py3-none-any.whl (5.6 MB)\n",
            "\u001b[K     |████████████████████████████████| 5.6 MB 45.9 MB/s \n",
            "\u001b[?25hRequirement already satisfied: astunparse~=1.6.3 in /usr/local/lib/python3.7/dist-packages (from tensorflow-gpu==2.6.2) (1.6.3)\n",
            "Requirement already satisfied: keras-preprocessing~=1.1.2 in /usr/local/lib/python3.7/dist-packages (from tensorflow-gpu==2.6.2) (1.1.2)\n",
            "Collecting tensorflow-estimator<2.7,>=2.6.0\n",
            "  Downloading tensorflow_estimator-2.6.0-py2.py3-none-any.whl (462 kB)\n",
            "\u001b[K     |████████████████████████████████| 462 kB 71.8 MB/s \n",
            "\u001b[?25hRequirement already satisfied: h5py~=3.1.0 in /usr/local/lib/python3.7/dist-packages (from tensorflow-gpu==2.6.2) (3.1.0)\n",
            "Requirement already satisfied: six~=1.15.0 in /usr/local/lib/python3.7/dist-packages (from tensorflow-gpu==2.6.2) (1.15.0)\n",
            "Requirement already satisfied: wheel~=0.35 in /usr/local/lib/python3.7/dist-packages (from tensorflow-gpu==2.6.2) (0.37.0)\n",
            "Collecting typing-extensions~=3.7.4\n",
            "  Downloading typing_extensions-3.7.4.3-py3-none-any.whl (22 kB)\n",
            "Requirement already satisfied: numpy~=1.19.2 in /usr/local/lib/python3.7/dist-packages (from tensorflow-gpu==2.6.2) (1.19.5)\n",
            "Requirement already satisfied: cached-property in /usr/local/lib/python3.7/dist-packages (from h5py~=3.1.0->tensorflow-gpu==2.6.2) (1.5.2)\n",
            "Requirement already satisfied: setuptools>=41.0.0 in /usr/local/lib/python3.7/dist-packages (from tensorboard<2.7,>=2.6.0->tensorflow-gpu==2.6.2) (57.4.0)\n",
            "Requirement already satisfied: tensorboard-plugin-wit>=1.6.0 in /usr/local/lib/python3.7/dist-packages (from tensorboard<2.7,>=2.6.0->tensorflow-gpu==2.6.2) (1.8.0)\n",
            "Requirement already satisfied: tensorboard-data-server<0.7.0,>=0.6.0 in /usr/local/lib/python3.7/dist-packages (from tensorboard<2.7,>=2.6.0->tensorflow-gpu==2.6.2) (0.6.1)\n",
            "Requirement already satisfied: werkzeug>=0.11.15 in /usr/local/lib/python3.7/dist-packages (from tensorboard<2.7,>=2.6.0->tensorflow-gpu==2.6.2) (1.0.1)\n",
            "Requirement already satisfied: requests<3,>=2.21.0 in /usr/local/lib/python3.7/dist-packages (from tensorboard<2.7,>=2.6.0->tensorflow-gpu==2.6.2) (2.23.0)\n",
            "Requirement already satisfied: google-auth-oauthlib<0.5,>=0.4.1 in /usr/local/lib/python3.7/dist-packages (from tensorboard<2.7,>=2.6.0->tensorflow-gpu==2.6.2) (0.4.6)\n",
            "Requirement already satisfied: markdown>=2.6.8 in /usr/local/lib/python3.7/dist-packages (from tensorboard<2.7,>=2.6.0->tensorflow-gpu==2.6.2) (3.3.6)\n",
            "Requirement already satisfied: google-auth<2,>=1.6.3 in /usr/local/lib/python3.7/dist-packages (from tensorboard<2.7,>=2.6.0->tensorflow-gpu==2.6.2) (1.35.0)\n",
            "Requirement already satisfied: pyasn1-modules>=0.2.1 in /usr/local/lib/python3.7/dist-packages (from google-auth<2,>=1.6.3->tensorboard<2.7,>=2.6.0->tensorflow-gpu==2.6.2) (0.2.8)\n",
            "Requirement already satisfied: rsa<5,>=3.1.4 in /usr/local/lib/python3.7/dist-packages (from google-auth<2,>=1.6.3->tensorboard<2.7,>=2.6.0->tensorflow-gpu==2.6.2) (4.8)\n",
            "Requirement already satisfied: cachetools<5.0,>=2.0.0 in /usr/local/lib/python3.7/dist-packages (from google-auth<2,>=1.6.3->tensorboard<2.7,>=2.6.0->tensorflow-gpu==2.6.2) (4.2.4)\n",
            "Requirement already satisfied: requests-oauthlib>=0.7.0 in /usr/local/lib/python3.7/dist-packages (from google-auth-oauthlib<0.5,>=0.4.1->tensorboard<2.7,>=2.6.0->tensorflow-gpu==2.6.2) (1.3.0)\n",
            "Requirement already satisfied: importlib-metadata>=4.4 in /usr/local/lib/python3.7/dist-packages (from markdown>=2.6.8->tensorboard<2.7,>=2.6.0->tensorflow-gpu==2.6.2) (4.8.2)\n",
            "Requirement already satisfied: zipp>=0.5 in /usr/local/lib/python3.7/dist-packages (from importlib-metadata>=4.4->markdown>=2.6.8->tensorboard<2.7,>=2.6.0->tensorflow-gpu==2.6.2) (3.6.0)\n",
            "Requirement already satisfied: pyasn1<0.5.0,>=0.4.6 in /usr/local/lib/python3.7/dist-packages (from pyasn1-modules>=0.2.1->google-auth<2,>=1.6.3->tensorboard<2.7,>=2.6.0->tensorflow-gpu==2.6.2) (0.4.8)\n",
            "Requirement already satisfied: chardet<4,>=3.0.2 in /usr/local/lib/python3.7/dist-packages (from requests<3,>=2.21.0->tensorboard<2.7,>=2.6.0->tensorflow-gpu==2.6.2) (3.0.4)\n",
            "Requirement already satisfied: idna<3,>=2.5 in /usr/local/lib/python3.7/dist-packages (from requests<3,>=2.21.0->tensorboard<2.7,>=2.6.0->tensorflow-gpu==2.6.2) (2.10)\n",
            "Requirement already satisfied: certifi>=2017.4.17 in /usr/local/lib/python3.7/dist-packages (from requests<3,>=2.21.0->tensorboard<2.7,>=2.6.0->tensorflow-gpu==2.6.2) (2021.10.8)\n",
            "Requirement already satisfied: urllib3!=1.25.0,!=1.25.1,<1.26,>=1.21.1 in /usr/local/lib/python3.7/dist-packages (from requests<3,>=2.21.0->tensorboard<2.7,>=2.6.0->tensorflow-gpu==2.6.2) (1.24.3)\n",
            "Requirement already satisfied: oauthlib>=3.0.0 in /usr/local/lib/python3.7/dist-packages (from requests-oauthlib>=0.7.0->google-auth-oauthlib<0.5,>=0.4.1->tensorboard<2.7,>=2.6.0->tensorflow-gpu==2.6.2) (3.1.1)\n",
            "Building wheels for collected packages: clang, wrapt\n",
            "  Building wheel for clang (setup.py) ... \u001b[?25l\u001b[?25hdone\n",
            "  Created wheel for clang: filename=clang-5.0-py3-none-any.whl size=30692 sha256=ce9d04ee0900d017daa39101dbfc6e8be375396f60900ddf75d3c771b9599fdd\n",
            "  Stored in directory: /root/.cache/pip/wheels/98/91/04/971b4c587cf47ae952b108949b46926f426c02832d120a082a\n",
            "  Building wheel for wrapt (setup.py) ... \u001b[?25l\u001b[?25hdone\n",
            "  Created wheel for wrapt: filename=wrapt-1.12.1-cp37-cp37m-linux_x86_64.whl size=68724 sha256=037d299186cc7838df49c68aa1930553fc5edc9a9323b90e1216904a2e825a91\n",
            "  Stored in directory: /root/.cache/pip/wheels/62/76/4c/aa25851149f3f6d9785f6c869387ad82b3fd37582fa8147ac6\n",
            "Successfully built clang wrapt\n",
            "Installing collected packages: typing-extensions, wrapt, tensorflow-estimator, tensorboard, keras, flatbuffers, clang, tensorflow-gpu\n",
            "  Attempting uninstall: typing-extensions\n",
            "    Found existing installation: typing-extensions 3.10.0.2\n",
            "    Uninstalling typing-extensions-3.10.0.2:\n",
            "      Successfully uninstalled typing-extensions-3.10.0.2\n",
            "  Attempting uninstall: wrapt\n",
            "    Found existing installation: wrapt 1.13.3\n",
            "    Uninstalling wrapt-1.13.3:\n",
            "      Successfully uninstalled wrapt-1.13.3\n",
            "  Attempting uninstall: tensorflow-estimator\n",
            "    Found existing installation: tensorflow-estimator 2.7.0\n",
            "    Uninstalling tensorflow-estimator-2.7.0:\n",
            "      Successfully uninstalled tensorflow-estimator-2.7.0\n",
            "  Attempting uninstall: tensorboard\n",
            "    Found existing installation: tensorboard 2.7.0\n",
            "    Uninstalling tensorboard-2.7.0:\n",
            "      Successfully uninstalled tensorboard-2.7.0\n",
            "  Attempting uninstall: keras\n",
            "    Found existing installation: keras 2.7.0\n",
            "    Uninstalling keras-2.7.0:\n",
            "      Successfully uninstalled keras-2.7.0\n",
            "  Attempting uninstall: flatbuffers\n",
            "    Found existing installation: flatbuffers 2.0\n",
            "    Uninstalling flatbuffers-2.0:\n",
            "      Successfully uninstalled flatbuffers-2.0\n",
            "\u001b[31mERROR: pip's dependency resolver does not currently take into account all the packages that are installed. This behaviour is the source of the following dependency conflicts.\n",
            "tensorflow 2.7.0 requires keras<2.8,>=2.7.0rc0, but you have keras 2.6.0 which is incompatible.\n",
            "tensorflow 2.7.0 requires tensorflow-estimator<2.8,~=2.7.0rc0, but you have tensorflow-estimator 2.6.0 which is incompatible.\u001b[0m\n",
            "Successfully installed clang-5.0 flatbuffers-1.12 keras-2.6.0 tensorboard-2.6.0 tensorflow-estimator-2.6.0 tensorflow-gpu-2.6.2 typing-extensions-3.7.4.3 wrapt-1.12.1\n"
          ]
        }
      ]
    },
    {
      "cell_type": "code",
      "execution_count": null,
      "metadata": {
        "execution": {
          "iopub.execute_input": "2021-12-08T10:29:33.587554Z",
          "iopub.status.busy": "2021-12-08T10:29:33.587240Z",
          "iopub.status.idle": "2021-12-08T10:29:37.837217Z",
          "shell.execute_reply": "2021-12-08T10:29:37.836244Z",
          "shell.execute_reply.started": "2021-12-08T10:29:33.587490Z"
        },
        "id": "bUQEY3dFB0jX",
        "outputId": "73062239-a151-484c-a810-774a35bc580a",
        "colab": {
          "base_uri": "https://localhost:8080/"
        }
      },
      "outputs": [
        {
          "output_type": "stream",
          "name": "stdout",
          "text": [
            "2.6.2\n"
          ]
        }
      ],
      "source": [
        "import tensorflow as tf\n",
        "print(tf.version.VERSION)"
      ]
    },
    {
      "cell_type": "markdown",
      "metadata": {
        "id": "RAjJnOAL4wrn"
      },
      "source": [
        "Cloning the Github Repo for tensorflow models \n",
        "-  –depth 1, during cloning, Git will only get the latest copy of the relevant files. It can save you a lot of space and time.\n",
        "\n",
        "- -b lets us clone a specific branch only.\n",
        "\n",
        "**Please match it with your tensorflow 2.x version.**"
      ]
    },
    {
      "cell_type": "code",
      "execution_count": null,
      "metadata": {
        "execution": {
          "iopub.execute_input": "2021-12-08T10:29:57.158913Z",
          "iopub.status.busy": "2021-12-08T10:29:57.158557Z",
          "iopub.status.idle": "2021-12-08T10:29:59.400582Z",
          "shell.execute_reply": "2021-12-08T10:29:59.399719Z",
          "shell.execute_reply.started": "2021-12-08T10:29:57.158870Z"
        },
        "id": "AFRTC-zwUy6D",
        "colab": {
          "base_uri": "https://localhost:8080/"
        },
        "outputId": "0d523491-7afa-4692-f4c7-0a4999c06527"
      },
      "outputs": [
        {
          "output_type": "stream",
          "name": "stdout",
          "text": [
            "Cloning into 'models'...\n",
            "remote: Enumerating objects: 1345, done.\u001b[K\n",
            "remote: Counting objects: 100% (1345/1345), done.\u001b[K\n",
            "remote: Compressing objects: 100% (1128/1128), done.\u001b[K\n",
            "remote: Total 1345 (delta 363), reused 452 (delta 196), pack-reused 0\u001b[K\n",
            "Receiving objects: 100% (1345/1345), 1.96 MiB | 8.08 MiB/s, done.\n",
            "Resolving deltas: 100% (363/363), done.\n",
            "Note: checking out '14918e0246cc0b7601b4cd7307b3e969df718c65'.\n",
            "\n",
            "You are in 'detached HEAD' state. You can look around, make experimental\n",
            "changes and commit them, and you can discard any commits you make in this\n",
            "state without impacting any branches by performing another checkout.\n",
            "\n",
            "If you want to create a new branch to retain commits you create, you may\n",
            "do so (now or later) by using -b with the checkout command again. Example:\n",
            "\n",
            "  git checkout -b <new-branch-name>\n",
            "\n"
          ]
        }
      ],
      "source": [
        "!git clone --depth 1 -b v2.7.0 https://github.com/tensorflow/models.git"
      ]
    },
    {
      "cell_type": "code",
      "execution_count": null,
      "metadata": {
        "execution": {
          "iopub.execute_input": "2021-12-08T10:30:09.368330Z",
          "iopub.status.busy": "2021-12-08T10:30:09.367975Z",
          "iopub.status.idle": "2021-12-08T10:31:27.613088Z",
          "shell.execute_reply": "2021-12-08T10:31:27.611865Z",
          "shell.execute_reply.started": "2021-12-08T10:30:09.368297Z"
        },
        "id": "3H2G0571zLLs",
        "colab": {
          "base_uri": "https://localhost:8080/"
        },
        "outputId": "2365152a-90f1-43fe-9f4e-6cf81ca9e2a1"
      },
      "outputs": [
        {
          "output_type": "stream",
          "name": "stdout",
          "text": [
            "\u001b[K     |████████████████████████████████| 7.9 MB 4.3 MB/s \n",
            "\u001b[K     |████████████████████████████████| 15.7 MB 59.1 MB/s \n",
            "\u001b[K     |████████████████████████████████| 11.3 MB 50.0 MB/s \n",
            "\u001b[K     |████████████████████████████████| 296 kB 67.5 MB/s \n",
            "\u001b[K     |████████████████████████████████| 99 kB 9.5 MB/s \n",
            "\u001b[K     |████████████████████████████████| 38.1 MB 1.2 MB/s \n",
            "\u001b[K     |████████████████████████████████| 213 kB 50.5 MB/s \n",
            "\u001b[K     |████████████████████████████████| 4.0 MB 59.1 MB/s \n",
            "\u001b[K     |████████████████████████████████| 1.1 MB 57.7 MB/s \n",
            "\u001b[K     |████████████████████████████████| 352 kB 56.8 MB/s \n",
            "\u001b[K     |████████████████████████████████| 1.9 MB 65.2 MB/s \n",
            "\u001b[K     |████████████████████████████████| 11.2 MB 46.0 MB/s \n",
            "\u001b[K     |████████████████████████████████| 596 kB 59.8 MB/s \n",
            "\u001b[K     |████████████████████████████████| 47.6 MB 1.1 MB/s \n",
            "\u001b[K     |████████████████████████████████| 3.1 MB 22.6 MB/s \n",
            "\u001b[K     |████████████████████████████████| 43 kB 2.2 MB/s \n",
            "\u001b[K     |████████████████████████████████| 1.2 MB 60.9 MB/s \n",
            "\u001b[K     |████████████████████████████████| 90 kB 11.9 MB/s \n",
            "\u001b[K     |████████████████████████████████| 884 kB 62.6 MB/s \n",
            "\u001b[?25h  Building wheel for py-cpuinfo (setup.py) ... \u001b[?25l\u001b[?25hdone\n",
            "  Building wheel for seqeval (setup.py) ... \u001b[?25l\u001b[?25hdone\n",
            "\u001b[31mERROR: pip's dependency resolver does not currently take into account all the packages that are installed. This behaviour is the source of the following dependency conflicts.\n",
            "yellowbrick 1.3.post1 requires numpy<1.20,>=1.16.0, but you have numpy 1.21.4 which is incompatible.\n",
            "tensorflow 2.7.0 requires keras<2.8,>=2.7.0rc0, but you have keras 2.6.0 which is incompatible.\n",
            "tensorflow 2.7.0 requires tensorflow-estimator<2.8,~=2.7.0rc0, but you have tensorflow-estimator 2.6.0 which is incompatible.\n",
            "tensorflow-gpu 2.6.2 requires numpy~=1.19.2, but you have numpy 1.21.4 which is incompatible.\n",
            "tensorflow-gpu 2.6.2 requires six~=1.15.0, but you have six 1.16.0 which is incompatible.\n",
            "google-colab 1.0.0 requires pandas~=1.1.0; python_version >= \"3.0\", but you have pandas 1.3.5 which is incompatible.\n",
            "google-colab 1.0.0 requires six~=1.15.0, but you have six 1.16.0 which is incompatible.\n",
            "earthengine-api 0.1.290 requires google-api-python-client<2,>=1.12.1, but you have google-api-python-client 2.33.0 which is incompatible.\n",
            "datascience 0.10.6 requires folium==0.2.1, but you have folium 0.8.3 which is incompatible.\n",
            "albumentations 0.1.12 requires imgaug<0.2.7,>=0.2.5, but you have imgaug 0.2.9 which is incompatible.\u001b[0m\n"
          ]
        }
      ],
      "source": [
        "# install requirements to use tensorflow/models repository\n",
        "!pip install -Uqr models/official/requirements.txt\n",
        "# you may have to restart the runtime afterwards, also ignore any ERRORS popping up at this step"
      ]
    },
    {
      "cell_type": "markdown",
      "metadata": {
        "id": "-WlOhTvS54cu"
      },
      "source": [
        "**Note**: After installing the required Python packages, you'll need to restart the Colab Runtime Engine \n",
        "(Run ---> Restart and clear all cell outputs...)"
      ]
    },
    {
      "cell_type": "markdown",
      "metadata": {
        "id": "15Tl8wqi_reD"
      },
      "source": [
        "**NOTE: ANYTHING BEFORE THIS CELL SHOULD ONLY BE RUN ONCE, ONLY DURING THE INITIAL SETUP**"
      ]
    },
    {
      "cell_type": "markdown",
      "metadata": {
        "id": "KOn8Qr4x_TCc"
      },
      "source": [
        "## Some Initial Imports and Checks"
      ]
    },
    {
      "cell_type": "code",
      "execution_count": null,
      "metadata": {
        "execution": {
          "iopub.execute_input": "2021-06-30T15:17:30.940213Z",
          "iopub.status.busy": "2021-06-30T15:17:30.939857Z",
          "iopub.status.idle": "2021-06-30T15:17:31.731238Z",
          "shell.execute_reply": "2021-06-30T15:17:31.730429Z",
          "shell.execute_reply.started": "2021-06-30T15:17:30.940177Z"
        },
        "id": "GmqEylyFYTdP"
      },
      "outputs": [],
      "source": [
        "import numpy as np\n",
        "import seaborn as sns\n",
        "sns.set()\n",
        "import tensorflow as tf\n",
        "import tensorflow_hub as hub\n",
        "import sys\n",
        "sys.path.append('models')\n",
        "from official.nlp.data import classifier_data_lib\n",
        "from official.nlp.bert import tokenization\n",
        "from official.nlp import optimization\n",
        "import matplotlib.pyplot as plt\n",
        "%matplotlib inline"
      ]
    },
    {
      "cell_type": "code",
      "execution_count": null,
      "metadata": {
        "execution": {
          "iopub.execute_input": "2021-06-30T15:17:31.733007Z",
          "iopub.status.busy": "2021-06-30T15:17:31.732642Z",
          "iopub.status.idle": "2021-06-30T15:17:31.879728Z",
          "shell.execute_reply": "2021-06-30T15:17:31.877487Z",
          "shell.execute_reply.started": "2021-06-30T15:17:31.732969Z"
        },
        "id": "ZuX1lB8pPJ-W",
        "colab": {
          "base_uri": "https://localhost:8080/"
        },
        "outputId": "21125df5-ec5c-4cf4-da79-718d3b8a4ca5"
      },
      "outputs": [
        {
          "output_type": "stream",
          "name": "stdout",
          "text": [
            "TF Version:  2.6.2\n",
            "Eager mode:  True\n",
            "Hub version:  0.12.0\n",
            "GPU is available\n"
          ]
        }
      ],
      "source": [
        "print(\"TF Version: \", tf.__version__)\n",
        "print(\"Eager mode: \", tf.executing_eagerly())\n",
        "print(\"Hub version: \", hub.__version__)\n",
        "print(\"GPU is\", \"available\" if tf.config.experimental.list_physical_devices(\"GPU\") else \"NOT AVAILABLE\")"
      ]
    },
    {
      "cell_type": "code",
      "source": [
        "tf.test.gpu_device_name()\n"
      ],
      "metadata": {
        "colab": {
          "base_uri": "https://localhost:8080/",
          "height": 35
        },
        "id": "4DWagyXjiI7J",
        "outputId": "52ec5107-e4d1-440a-9e88-cd81337ad9fd"
      },
      "execution_count": null,
      "outputs": [
        {
          "output_type": "execute_result",
          "data": {
            "application/vnd.google.colaboratory.intrinsic+json": {
              "type": "string"
            },
            "text/plain": [
              "'/device:GPU:0'"
            ]
          },
          "metadata": {},
          "execution_count": 5
        }
      ]
    },
    {
      "cell_type": "markdown",
      "source": [
        "If you do not have the input data, get it from here: [Kaggle Dataset](https://www.kaggle.com/imoore/60k-stack-overflow-questions-with-quality-rate). \n",
        "Then, place the two files 'train.csv' and 'valid.csv' inside a folder named BERT_DATA_DIR."
      ],
      "metadata": {
        "id": "ho1nwGShRb09"
      }
    },
    {
      "cell_type": "code",
      "execution_count": null,
      "metadata": {
        "execution": {
          "iopub.execute_input": "2021-06-30T15:17:40.644529Z",
          "iopub.status.busy": "2021-06-30T15:17:40.64418Z",
          "iopub.status.idle": "2021-06-30T15:17:42.226418Z",
          "shell.execute_reply": "2021-06-30T15:17:42.225482Z",
          "shell.execute_reply.started": "2021-06-30T15:17:40.644492Z"
        },
        "id": "fScULIGPwuWk",
        "colab": {
          "base_uri": "https://localhost:8080/"
        },
        "outputId": "c6c5c626-0fd8-4591-941b-6255f3686757"
      },
      "outputs": [
        {
          "output_type": "stream",
          "name": "stdout",
          "text": [
            "(45000, 6)\n",
            "(15000, 6)\n"
          ]
        }
      ],
      "source": [
        "import pandas as pd\n",
        "import csv\n",
        "from google.colab import drive\n",
        "drive.mount('/content/drive')\n",
        "!cp '/content/drive/MyDrive/CS159/BERT_DATA_DIR/train.csv' train.csv\n",
        "!cp '/content/drive/MyDrive/CS159/BERT_DATA_DIR/valid.csv' valid.csv\n",
        "train_df = pd.read_csv('train.csv', encoding='utf-8')\n",
        "valid_df = pd.read_csv('valid.csv', encoding='utf-8')\n",
        "print(train_df.shape)\n",
        "print(valid_df.shape)"
      ]
    },
    {
      "cell_type": "code",
      "execution_count": null,
      "metadata": {
        "id": "kpRpwIE8CZzW",
        "colab": {
          "base_uri": "https://localhost:8080/",
          "height": 362
        },
        "outputId": "de47c71b-3fe9-4370-c78e-bc0a621a97bf"
      },
      "outputs": [
        {
          "output_type": "execute_result",
          "data": {
            "text/html": [
              "<div>\n",
              "<style scoped>\n",
              "    .dataframe tbody tr th:only-of-type {\n",
              "        vertical-align: middle;\n",
              "    }\n",
              "\n",
              "    .dataframe tbody tr th {\n",
              "        vertical-align: top;\n",
              "    }\n",
              "\n",
              "    .dataframe thead th {\n",
              "        text-align: right;\n",
              "    }\n",
              "</style>\n",
              "<table border=\"1\" class=\"dataframe\">\n",
              "  <thead>\n",
              "    <tr style=\"text-align: right;\">\n",
              "      <th></th>\n",
              "      <th>Id</th>\n",
              "      <th>Title</th>\n",
              "      <th>Body</th>\n",
              "      <th>Tags</th>\n",
              "      <th>CreationDate</th>\n",
              "      <th>Y</th>\n",
              "    </tr>\n",
              "  </thead>\n",
              "  <tbody>\n",
              "    <tr>\n",
              "      <th>0</th>\n",
              "      <td>34552656</td>\n",
              "      <td>Java: Repeat Task Every Random Seconds</td>\n",
              "      <td>&lt;p&gt;I'm already familiar with repeating tasks e...</td>\n",
              "      <td>&lt;java&gt;&lt;repeat&gt;</td>\n",
              "      <td>2016-01-01 00:21:59</td>\n",
              "      <td>LQ_CLOSE</td>\n",
              "    </tr>\n",
              "    <tr>\n",
              "      <th>1</th>\n",
              "      <td>34553034</td>\n",
              "      <td>Why are Java Optionals immutable?</td>\n",
              "      <td>&lt;p&gt;I'd like to understand why Java 8 Optionals...</td>\n",
              "      <td>&lt;java&gt;&lt;optional&gt;</td>\n",
              "      <td>2016-01-01 02:03:20</td>\n",
              "      <td>HQ</td>\n",
              "    </tr>\n",
              "    <tr>\n",
              "      <th>2</th>\n",
              "      <td>34553174</td>\n",
              "      <td>Text Overlay Image with Darkened Opacity React...</td>\n",
              "      <td>&lt;p&gt;I am attempting to overlay a title over an ...</td>\n",
              "      <td>&lt;javascript&gt;&lt;image&gt;&lt;overlay&gt;&lt;react-native&gt;&lt;opa...</td>\n",
              "      <td>2016-01-01 02:48:24</td>\n",
              "      <td>HQ</td>\n",
              "    </tr>\n",
              "    <tr>\n",
              "      <th>3</th>\n",
              "      <td>34553318</td>\n",
              "      <td>Why ternary operator in swift is so picky?</td>\n",
              "      <td>&lt;p&gt;The question is very simple, but I just cou...</td>\n",
              "      <td>&lt;swift&gt;&lt;operators&gt;&lt;whitespace&gt;&lt;ternary-operato...</td>\n",
              "      <td>2016-01-01 03:30:17</td>\n",
              "      <td>HQ</td>\n",
              "    </tr>\n",
              "    <tr>\n",
              "      <th>4</th>\n",
              "      <td>34553755</td>\n",
              "      <td>hide/show fab with scale animation</td>\n",
              "      <td>&lt;p&gt;I'm using custom floatingactionmenu. I need...</td>\n",
              "      <td>&lt;android&gt;&lt;material-design&gt;&lt;floating-action-but...</td>\n",
              "      <td>2016-01-01 05:21:48</td>\n",
              "      <td>HQ</td>\n",
              "    </tr>\n",
              "  </tbody>\n",
              "</table>\n",
              "</div>"
            ],
            "text/plain": [
              "         Id  ...         Y\n",
              "0  34552656  ...  LQ_CLOSE\n",
              "1  34553034  ...        HQ\n",
              "2  34553174  ...        HQ\n",
              "3  34553318  ...        HQ\n",
              "4  34553755  ...        HQ\n",
              "\n",
              "[5 rows x 6 columns]"
            ]
          },
          "metadata": {},
          "execution_count": 7
        }
      ],
      "source": [
        "train_df.head()"
      ]
    },
    {
      "cell_type": "code",
      "execution_count": null,
      "metadata": {
        "id": "0c-SodHcCZzX",
        "colab": {
          "base_uri": "https://localhost:8080/",
          "height": 310
        },
        "outputId": "944aede5-40d0-4127-dcf7-cf80db6cae43"
      },
      "outputs": [
        {
          "output_type": "execute_result",
          "data": {
            "text/html": [
              "<div>\n",
              "<style scoped>\n",
              "    .dataframe tbody tr th:only-of-type {\n",
              "        vertical-align: middle;\n",
              "    }\n",
              "\n",
              "    .dataframe tbody tr th {\n",
              "        vertical-align: top;\n",
              "    }\n",
              "\n",
              "    .dataframe thead th {\n",
              "        text-align: right;\n",
              "    }\n",
              "</style>\n",
              "<table border=\"1\" class=\"dataframe\">\n",
              "  <thead>\n",
              "    <tr style=\"text-align: right;\">\n",
              "      <th></th>\n",
              "      <th>Id</th>\n",
              "      <th>Title</th>\n",
              "      <th>Body</th>\n",
              "      <th>Tags</th>\n",
              "      <th>CreationDate</th>\n",
              "      <th>Y</th>\n",
              "    </tr>\n",
              "  </thead>\n",
              "  <tbody>\n",
              "    <tr>\n",
              "      <th>0</th>\n",
              "      <td>34552974</td>\n",
              "      <td>How to get all the child records from differen...</td>\n",
              "      <td>I am having 4 different tables like \\r\\nselect...</td>\n",
              "      <td>&lt;sql&gt;&lt;sql-server&gt;</td>\n",
              "      <td>2016-01-01 01:44:52</td>\n",
              "      <td>LQ_EDIT</td>\n",
              "    </tr>\n",
              "    <tr>\n",
              "      <th>1</th>\n",
              "      <td>34554721</td>\n",
              "      <td>Retrieve all except some data of the another t...</td>\n",
              "      <td>I have two table m_master and tbl_appointment\\...</td>\n",
              "      <td>&lt;php&gt;&lt;mysql&gt;&lt;sql&gt;&lt;codeigniter&gt;&lt;mysqli&gt;</td>\n",
              "      <td>2016-01-01 08:43:50</td>\n",
              "      <td>LQ_EDIT</td>\n",
              "    </tr>\n",
              "    <tr>\n",
              "      <th>2</th>\n",
              "      <td>34555135</td>\n",
              "      <td>Pandas: read_html</td>\n",
              "      <td>&lt;p&gt;I'm trying to extract US states from wiki U...</td>\n",
              "      <td>&lt;python&gt;&lt;pandas&gt;</td>\n",
              "      <td>2016-01-01 09:55:22</td>\n",
              "      <td>HQ</td>\n",
              "    </tr>\n",
              "    <tr>\n",
              "      <th>3</th>\n",
              "      <td>34555448</td>\n",
              "      <td>Reader Always gimme NULL</td>\n",
              "      <td>I'm so new to C#, I wanna make an application ...</td>\n",
              "      <td>&lt;sql-server&gt;&lt;c#-4.0&gt;</td>\n",
              "      <td>2016-01-01 10:43:45</td>\n",
              "      <td>LQ_EDIT</td>\n",
              "    </tr>\n",
              "    <tr>\n",
              "      <th>4</th>\n",
              "      <td>34555752</td>\n",
              "      <td>php rearrange array elements based on condition</td>\n",
              "      <td>basically i have this array:\\r\\n\\r\\n    array(...</td>\n",
              "      <td>&lt;php&gt;</td>\n",
              "      <td>2016-01-01 11:34:09</td>\n",
              "      <td>LQ_EDIT</td>\n",
              "    </tr>\n",
              "  </tbody>\n",
              "</table>\n",
              "</div>"
            ],
            "text/plain": [
              "         Id  ...        Y\n",
              "0  34552974  ...  LQ_EDIT\n",
              "1  34554721  ...  LQ_EDIT\n",
              "2  34555135  ...       HQ\n",
              "3  34555448  ...  LQ_EDIT\n",
              "4  34555752  ...  LQ_EDIT\n",
              "\n",
              "[5 rows x 6 columns]"
            ]
          },
          "metadata": {},
          "execution_count": 8
        }
      ],
      "source": [
        "valid_df.head()"
      ]
    },
    {
      "cell_type": "code",
      "execution_count": null,
      "metadata": {
        "id": "d-8d4Q7bCZzX"
      },
      "outputs": [],
      "source": [
        "train_df = train_df.drop(columns=['Title', 'Tags', 'CreationDate'])"
      ]
    },
    {
      "cell_type": "code",
      "execution_count": null,
      "metadata": {
        "id": "eh1Hr9B8CZzX"
      },
      "outputs": [],
      "source": [
        "valid_df = valid_df.drop(columns=['Title', 'Tags', 'CreationDate'])"
      ]
    },
    {
      "cell_type": "code",
      "source": [
        "import re\n",
        "\n",
        "def drop(body):\n",
        "    return body.replace(\"\\n\", \" \")"
      ],
      "metadata": {
        "id": "9r0kWFX0bnIH"
      },
      "execution_count": null,
      "outputs": []
    },
    {
      "cell_type": "code",
      "source": [
        "train_df['Body'] = train_df['Body'].apply(lambda x: drop(x))\n",
        "valid_df['Body'] = valid_df['Body'].apply(lambda x: drop(x))"
      ],
      "metadata": {
        "id": "6ZZbRA5WbzRf"
      },
      "execution_count": null,
      "outputs": []
    },
    {
      "cell_type": "code",
      "execution_count": null,
      "metadata": {
        "id": "StI0v7tiCZzY"
      },
      "outputs": [],
      "source": [
        "train_df.Y = pd.Categorical(train_df.Y)\n",
        "valid_df.Y = pd.Categorical(valid_df.Y)"
      ]
    },
    {
      "cell_type": "code",
      "execution_count": null,
      "metadata": {
        "id": "fKD-2dDsCZzY"
      },
      "outputs": [],
      "source": [
        "train_df['Y_cat_code'] = train_df.Y.cat.codes\n",
        "valid_df['Y_cat_code'] = valid_df.Y.cat.codes"
      ]
    },
    {
      "cell_type": "code",
      "execution_count": null,
      "metadata": {
        "id": "r2VPK8geCZzY",
        "colab": {
          "base_uri": "https://localhost:8080/",
          "height": 677
        },
        "outputId": "6c881181-648d-453b-f88f-ee7a75ba5458"
      },
      "outputs": [
        {
          "output_type": "execute_result",
          "data": {
            "text/html": [
              "<div>\n",
              "<style scoped>\n",
              "    .dataframe tbody tr th:only-of-type {\n",
              "        vertical-align: middle;\n",
              "    }\n",
              "\n",
              "    .dataframe tbody tr th {\n",
              "        vertical-align: top;\n",
              "    }\n",
              "\n",
              "    .dataframe thead th {\n",
              "        text-align: right;\n",
              "    }\n",
              "</style>\n",
              "<table border=\"1\" class=\"dataframe\">\n",
              "  <thead>\n",
              "    <tr style=\"text-align: right;\">\n",
              "      <th></th>\n",
              "      <th>Id</th>\n",
              "      <th>Body</th>\n",
              "      <th>Y</th>\n",
              "      <th>Y_cat_code</th>\n",
              "    </tr>\n",
              "  </thead>\n",
              "  <tbody>\n",
              "    <tr>\n",
              "      <th>0</th>\n",
              "      <td>34552656</td>\n",
              "      <td>&lt;p&gt;I'm already familiar with repeating tasks e...</td>\n",
              "      <td>LQ_CLOSE</td>\n",
              "      <td>1</td>\n",
              "    </tr>\n",
              "    <tr>\n",
              "      <th>1</th>\n",
              "      <td>34553034</td>\n",
              "      <td>&lt;p&gt;I'd like to understand why Java 8 Optionals...</td>\n",
              "      <td>HQ</td>\n",
              "      <td>0</td>\n",
              "    </tr>\n",
              "    <tr>\n",
              "      <th>2</th>\n",
              "      <td>34553174</td>\n",
              "      <td>&lt;p&gt;I am attempting to overlay a title over an ...</td>\n",
              "      <td>HQ</td>\n",
              "      <td>0</td>\n",
              "    </tr>\n",
              "    <tr>\n",
              "      <th>3</th>\n",
              "      <td>34553318</td>\n",
              "      <td>&lt;p&gt;The question is very simple, but I just cou...</td>\n",
              "      <td>HQ</td>\n",
              "      <td>0</td>\n",
              "    </tr>\n",
              "    <tr>\n",
              "      <th>4</th>\n",
              "      <td>34553755</td>\n",
              "      <td>&lt;p&gt;I'm using custom floatingactionmenu. I need...</td>\n",
              "      <td>HQ</td>\n",
              "      <td>0</td>\n",
              "    </tr>\n",
              "    <tr>\n",
              "      <th>5</th>\n",
              "      <td>34554026</td>\n",
              "      <td>&lt;p&gt;I have defined integer pointer inside the s...</td>\n",
              "      <td>LQ_CLOSE</td>\n",
              "      <td>1</td>\n",
              "    </tr>\n",
              "    <tr>\n",
              "      <th>6</th>\n",
              "      <td>34554206</td>\n",
              "      <td>i want to Disable 2nd Saturday 4th saturday,...</td>\n",
              "      <td>LQ_EDIT</td>\n",
              "      <td>2</td>\n",
              "    </tr>\n",
              "    <tr>\n",
              "      <th>7</th>\n",
              "      <td>34554671</td>\n",
              "      <td>I am new to bootstrap and i would like to find...</td>\n",
              "      <td>LQ_EDIT</td>\n",
              "      <td>2</td>\n",
              "    </tr>\n",
              "    <tr>\n",
              "      <th>8</th>\n",
              "      <td>34554871</td>\n",
              "      <td>&lt;p&gt;I was able to change theme using &lt;code&gt;this...</td>\n",
              "      <td>HQ</td>\n",
              "      <td>0</td>\n",
              "    </tr>\n",
              "    <tr>\n",
              "      <th>9</th>\n",
              "      <td>34554982</td>\n",
              "      <td>I my case I am having two form Form 1 and Form...</td>\n",
              "      <td>LQ_EDIT</td>\n",
              "      <td>2</td>\n",
              "    </tr>\n",
              "    <tr>\n",
              "      <th>10</th>\n",
              "      <td>34555603</td>\n",
              "      <td>&lt;p&gt;I am new to Ubuntu (Linux tbh). I encounter...</td>\n",
              "      <td>HQ</td>\n",
              "      <td>0</td>\n",
              "    </tr>\n",
              "    <tr>\n",
              "      <th>11</th>\n",
              "      <td>34555643</td>\n",
              "      <td>&lt;p&gt;I am kinda new to Android development, but ...</td>\n",
              "      <td>LQ_CLOSE</td>\n",
              "      <td>1</td>\n",
              "    </tr>\n",
              "    <tr>\n",
              "      <th>12</th>\n",
              "      <td>34556569</td>\n",
              "      <td>I have a UIlabel linked to a property that can...</td>\n",
              "      <td>LQ_EDIT</td>\n",
              "      <td>2</td>\n",
              "    </tr>\n",
              "    <tr>\n",
              "      <th>13</th>\n",
              "      <td>34556906</td>\n",
              "      <td>\\r my code here\\r \\r         #include &lt;stdio.h...</td>\n",
              "      <td>LQ_EDIT</td>\n",
              "      <td>2</td>\n",
              "    </tr>\n",
              "    <tr>\n",
              "      <th>14</th>\n",
              "      <td>34556991</td>\n",
              "      <td>&lt;p&gt;My podfile was working but after updating t...</td>\n",
              "      <td>HQ</td>\n",
              "      <td>0</td>\n",
              "    </tr>\n",
              "    <tr>\n",
              "      <th>15</th>\n",
              "      <td>34558002</td>\n",
              "      <td>&lt;p&gt;I'm trying to use stack to load my test-sui...</td>\n",
              "      <td>HQ</td>\n",
              "      <td>0</td>\n",
              "    </tr>\n",
              "    <tr>\n",
              "      <th>16</th>\n",
              "      <td>34558390</td>\n",
              "      <td>&lt;p&gt;Now that I've learned Swift (to a reasonabl...</td>\n",
              "      <td>HQ</td>\n",
              "      <td>0</td>\n",
              "    </tr>\n",
              "    <tr>\n",
              "      <th>17</th>\n",
              "      <td>34558996</td>\n",
              "      <td>&lt;p&gt;I am trying to deploy an application versio...</td>\n",
              "      <td>HQ</td>\n",
              "      <td>0</td>\n",
              "    </tr>\n",
              "    <tr>\n",
              "      <th>18</th>\n",
              "      <td>34559058</td>\n",
              "      <td>I am currently starting to learn C++ via Ardui...</td>\n",
              "      <td>LQ_EDIT</td>\n",
              "      <td>2</td>\n",
              "    </tr>\n",
              "    <tr>\n",
              "      <th>19</th>\n",
              "      <td>34559458</td>\n",
              "      <td>&lt;p&gt;What is the difference between bluebird.js ...</td>\n",
              "      <td>HQ</td>\n",
              "      <td>0</td>\n",
              "    </tr>\n",
              "  </tbody>\n",
              "</table>\n",
              "</div>"
            ],
            "text/plain": [
              "          Id  ... Y_cat_code\n",
              "0   34552656  ...          1\n",
              "1   34553034  ...          0\n",
              "2   34553174  ...          0\n",
              "3   34553318  ...          0\n",
              "4   34553755  ...          0\n",
              "5   34554026  ...          1\n",
              "6   34554206  ...          2\n",
              "7   34554671  ...          2\n",
              "8   34554871  ...          0\n",
              "9   34554982  ...          2\n",
              "10  34555603  ...          0\n",
              "11  34555643  ...          1\n",
              "12  34556569  ...          2\n",
              "13  34556906  ...          2\n",
              "14  34556991  ...          0\n",
              "15  34558002  ...          0\n",
              "16  34558390  ...          0\n",
              "17  34558996  ...          0\n",
              "18  34559058  ...          2\n",
              "19  34559458  ...          0\n",
              "\n",
              "[20 rows x 4 columns]"
            ]
          },
          "metadata": {},
          "execution_count": 15
        }
      ],
      "source": [
        "train_df.head(20)"
      ]
    },
    {
      "cell_type": "code",
      "execution_count": null,
      "metadata": {
        "id": "HSVmC13PCZzZ",
        "colab": {
          "base_uri": "https://localhost:8080/",
          "height": 677
        },
        "outputId": "f5015d77-a292-4282-a1d8-b57005998151"
      },
      "outputs": [
        {
          "output_type": "execute_result",
          "data": {
            "text/html": [
              "<div>\n",
              "<style scoped>\n",
              "    .dataframe tbody tr th:only-of-type {\n",
              "        vertical-align: middle;\n",
              "    }\n",
              "\n",
              "    .dataframe tbody tr th {\n",
              "        vertical-align: top;\n",
              "    }\n",
              "\n",
              "    .dataframe thead th {\n",
              "        text-align: right;\n",
              "    }\n",
              "</style>\n",
              "<table border=\"1\" class=\"dataframe\">\n",
              "  <thead>\n",
              "    <tr style=\"text-align: right;\">\n",
              "      <th></th>\n",
              "      <th>Id</th>\n",
              "      <th>Body</th>\n",
              "      <th>Y</th>\n",
              "      <th>Y_cat_code</th>\n",
              "    </tr>\n",
              "  </thead>\n",
              "  <tbody>\n",
              "    <tr>\n",
              "      <th>0</th>\n",
              "      <td>34552974</td>\n",
              "      <td>I am having 4 different tables like \\r select ...</td>\n",
              "      <td>LQ_EDIT</td>\n",
              "      <td>2</td>\n",
              "    </tr>\n",
              "    <tr>\n",
              "      <th>1</th>\n",
              "      <td>34554721</td>\n",
              "      <td>I have two table m_master and tbl_appointment\\...</td>\n",
              "      <td>LQ_EDIT</td>\n",
              "      <td>2</td>\n",
              "    </tr>\n",
              "    <tr>\n",
              "      <th>2</th>\n",
              "      <td>34555135</td>\n",
              "      <td>&lt;p&gt;I'm trying to extract US states from wiki U...</td>\n",
              "      <td>HQ</td>\n",
              "      <td>0</td>\n",
              "    </tr>\n",
              "    <tr>\n",
              "      <th>3</th>\n",
              "      <td>34555448</td>\n",
              "      <td>I'm so new to C#, I wanna make an application ...</td>\n",
              "      <td>LQ_EDIT</td>\n",
              "      <td>2</td>\n",
              "    </tr>\n",
              "    <tr>\n",
              "      <th>4</th>\n",
              "      <td>34555752</td>\n",
              "      <td>basically i have this array:\\r \\r     array(\\r...</td>\n",
              "      <td>LQ_EDIT</td>\n",
              "      <td>2</td>\n",
              "    </tr>\n",
              "    <tr>\n",
              "      <th>5</th>\n",
              "      <td>34557209</td>\n",
              "      <td>&lt;p&gt;I am trying to make a constructor for a der...</td>\n",
              "      <td>LQ_CLOSE</td>\n",
              "      <td>1</td>\n",
              "    </tr>\n",
              "    <tr>\n",
              "      <th>6</th>\n",
              "      <td>34557363</td>\n",
              "      <td>I am using c++ in my lesson and for solving a...</td>\n",
              "      <td>LQ_EDIT</td>\n",
              "      <td>2</td>\n",
              "    </tr>\n",
              "    <tr>\n",
              "      <th>7</th>\n",
              "      <td>34557587</td>\n",
              "      <td>&lt;p&gt;I'm getting a bit lost in TS re-exports. Sa...</td>\n",
              "      <td>HQ</td>\n",
              "      <td>0</td>\n",
              "    </tr>\n",
              "    <tr>\n",
              "      <th>8</th>\n",
              "      <td>34558264</td>\n",
              "      <td>&lt;p&gt;I am trying out the new Fetch API but is ha...</td>\n",
              "      <td>HQ</td>\n",
              "      <td>0</td>\n",
              "    </tr>\n",
              "    <tr>\n",
              "      <th>9</th>\n",
              "      <td>34559136</td>\n",
              "      <td>&lt;pre&gt;&lt;code&gt;lt = ['7,777.7', '777.7', '77,777.7...</td>\n",
              "      <td>LQ_CLOSE</td>\n",
              "      <td>1</td>\n",
              "    </tr>\n",
              "    <tr>\n",
              "      <th>10</th>\n",
              "      <td>34559402</td>\n",
              "      <td>Written the below code trying to identify all ...</td>\n",
              "      <td>LQ_EDIT</td>\n",
              "      <td>2</td>\n",
              "    </tr>\n",
              "    <tr>\n",
              "      <th>11</th>\n",
              "      <td>34561346</td>\n",
              "      <td>&lt;p&gt;app/boot.ts&lt;/p&gt;  &lt;pre&gt;&lt;code&gt;import {bootstr...</td>\n",
              "      <td>HQ</td>\n",
              "      <td>0</td>\n",
              "    </tr>\n",
              "    <tr>\n",
              "      <th>12</th>\n",
              "      <td>34562193</td>\n",
              "      <td>&lt;p&gt;I am working on a project for my company an...</td>\n",
              "      <td>LQ_CLOSE</td>\n",
              "      <td>1</td>\n",
              "    </tr>\n",
              "    <tr>\n",
              "      <th>13</th>\n",
              "      <td>34562473</td>\n",
              "      <td>&lt;p&gt;I would like to run a process in a thread (...</td>\n",
              "      <td>HQ</td>\n",
              "      <td>0</td>\n",
              "    </tr>\n",
              "    <tr>\n",
              "      <th>14</th>\n",
              "      <td>34562496</td>\n",
              "      <td>&lt;p&gt;I searched for the cause of this error and ...</td>\n",
              "      <td>HQ</td>\n",
              "      <td>0</td>\n",
              "    </tr>\n",
              "    <tr>\n",
              "      <th>15</th>\n",
              "      <td>34563285</td>\n",
              "      <td>here is my code for select details by checking...</td>\n",
              "      <td>LQ_EDIT</td>\n",
              "      <td>2</td>\n",
              "    </tr>\n",
              "    <tr>\n",
              "      <th>16</th>\n",
              "      <td>34563454</td>\n",
              "      <td>&lt;p&gt;I'm having trouble understanding and using ...</td>\n",
              "      <td>HQ</td>\n",
              "      <td>0</td>\n",
              "    </tr>\n",
              "    <tr>\n",
              "      <th>17</th>\n",
              "      <td>34564148</td>\n",
              "      <td>&lt;p&gt;I'm planning to use SASS in making a websit...</td>\n",
              "      <td>LQ_CLOSE</td>\n",
              "      <td>1</td>\n",
              "    </tr>\n",
              "    <tr>\n",
              "      <th>18</th>\n",
              "      <td>34564297</td>\n",
              "      <td>I am new here,\\r i need to ask that, how can i...</td>\n",
              "      <td>LQ_EDIT</td>\n",
              "      <td>2</td>\n",
              "    </tr>\n",
              "    <tr>\n",
              "      <th>19</th>\n",
              "      <td>34564356</td>\n",
              "      <td>class Cylinder(object):\\r         self.pi = 3....</td>\n",
              "      <td>LQ_EDIT</td>\n",
              "      <td>2</td>\n",
              "    </tr>\n",
              "  </tbody>\n",
              "</table>\n",
              "</div>"
            ],
            "text/plain": [
              "          Id  ... Y_cat_code\n",
              "0   34552974  ...          2\n",
              "1   34554721  ...          2\n",
              "2   34555135  ...          0\n",
              "3   34555448  ...          2\n",
              "4   34555752  ...          2\n",
              "5   34557209  ...          1\n",
              "6   34557363  ...          2\n",
              "7   34557587  ...          0\n",
              "8   34558264  ...          0\n",
              "9   34559136  ...          1\n",
              "10  34559402  ...          2\n",
              "11  34561346  ...          0\n",
              "12  34562193  ...          1\n",
              "13  34562473  ...          0\n",
              "14  34562496  ...          0\n",
              "15  34563285  ...          2\n",
              "16  34563454  ...          0\n",
              "17  34564148  ...          1\n",
              "18  34564297  ...          2\n",
              "19  34564356  ...          2\n",
              "\n",
              "[20 rows x 4 columns]"
            ]
          },
          "metadata": {},
          "execution_count": 16
        }
      ],
      "source": [
        "valid_df.head(20)"
      ]
    },
    {
      "cell_type": "code",
      "execution_count": null,
      "metadata": {
        "id": "34xPjXckCZzZ"
      },
      "outputs": [],
      "source": [
        "train_df = train_df.drop(columns=['Y'])\n",
        "valid_df = valid_df.drop(columns=['Y'])"
      ]
    },
    {
      "cell_type": "code",
      "execution_count": null,
      "metadata": {
        "id": "m3-A9u0iCZzZ",
        "colab": {
          "base_uri": "https://localhost:8080/",
          "height": 301
        },
        "outputId": "7724e716-7439-4398-f1b7-61f6a7b5bb22"
      },
      "outputs": [
        {
          "output_type": "execute_result",
          "data": {
            "text/plain": [
              "Text(0.5, 1.0, 'Distribution of question text length in words')"
            ]
          },
          "metadata": {},
          "execution_count": 18
        },
        {
          "output_type": "display_data",
          "data": {
            "image/png": "[encoded data removed]",
            "text/plain": [
              "<Figure size 432x288 with 1 Axes>"
            ]
          },
          "metadata": {
            "needs_background": "light"
          }
        }
      ],
      "source": [
        "# TRAIN SET \n",
        "train_df['Body'].apply(lambda x: len(x.split())).plot(kind='hist');\n",
        "plt.yscale('log');\n",
        "plt.title('Distribution of question text length in words')"
      ]
    },
    {
      "cell_type": "code",
      "execution_count": null,
      "metadata": {
        "id": "xt_mqU3uCZza",
        "colab": {
          "base_uri": "https://localhost:8080/",
          "height": 301
        },
        "outputId": "96366b28-4afd-4398-e8b4-13f3cb3d061c"
      },
      "outputs": [
        {
          "output_type": "execute_result",
          "data": {
            "text/plain": [
              "Text(0.5, 1.0, 'Distribution of question text length in characters')"
            ]
          },
          "metadata": {},
          "execution_count": 19
        },
        {
          "output_type": "display_data",
          "data": {
            "image/png": "[encoded data removed]",
            "text/plain": [
              "<Figure size 432x288 with 1 Axes>"
            ]
          },
          "metadata": {
            "needs_background": "light"
          }
        }
      ],
      "source": [
        "# TRAIN SET\n",
        "train_df['Body'].apply(lambda x: len(x)).plot(kind='hist');\n",
        "plt.yscale('log');\n",
        "plt.title('Distribution of question text length in characters')"
      ]
    },
    {
      "cell_type": "code",
      "execution_count": null,
      "metadata": {
        "id": "8lEo-vN7CZza",
        "colab": {
          "base_uri": "https://localhost:8080/",
          "height": 301
        },
        "outputId": "9b8bb744-492e-4c80-c2c7-7370dd1d80e1"
      },
      "outputs": [
        {
          "output_type": "execute_result",
          "data": {
            "text/plain": [
              "Text(0.5, 1.0, 'Distribution of question text length in words')"
            ]
          },
          "metadata": {},
          "execution_count": 20
        },
        {
          "output_type": "display_data",
          "data": {
            "image/png": "[encoded data removed]",
            "text/plain": [
              "<Figure size 432x288 with 1 Axes>"
            ]
          },
          "metadata": {
            "needs_background": "light"
          }
        }
      ],
      "source": [
        "# VALIDATION SET\n",
        "valid_df['Body'].apply(lambda x: len(x.split())).plot(kind='hist');\n",
        "plt.yscale('log');\n",
        "plt.title('Distribution of question text length in words')"
      ]
    },
    {
      "cell_type": "markdown",
      "metadata": {
        "id": "I46vYYMgG4kh"
      },
      "source": [
        "# Taming the Data"
      ]
    },
    {
      "cell_type": "code",
      "execution_count": null,
      "metadata": {
        "execution": {
          "iopub.execute_input": "2021-06-30T15:17:45.364597Z",
          "iopub.status.busy": "2021-06-30T15:17:45.364233Z",
          "iopub.status.idle": "2021-06-30T15:17:46.965332Z",
          "shell.execute_reply": "2021-06-30T15:17:46.964495Z",
          "shell.execute_reply.started": "2021-06-30T15:17:45.364558Z"
        },
        "id": "qQYMGT5_qLPX",
        "colab": {
          "base_uri": "https://localhost:8080/"
        },
        "outputId": "0439eb2c-9ea7-468d-93bf-18d5536c4069"
      },
      "outputs": [
        {
          "output_type": "stream",
          "name": "stdout",
          "text": [
            "tf.Tensor(b'<p>I\\'m already familiar with repeating tasks every n seconds by using Java.util.Timer and Java.util.TimerTask. But lets say I want to print \"Hello World\" to the console every random seconds from 1-5. Unfortunately I\\'m in a bit of a rush and don\\'t have any code to show so far. Any help would be apriciated.  </p> ', shape=(), dtype=string)\n",
            "tf.Tensor(1, shape=(), dtype=int8)\n",
            "tf.Tensor(b\"<p>I'd like to understand why Java 8 Optionals were designed to be immutable.  Is it just for thread-safety?</p> \", shape=(), dtype=string)\n",
            "tf.Tensor(0, shape=(), dtype=int8)\n",
            "tf.Tensor(b'<p>I am attempting to overlay a title over an image - with the image darkened with a lower opacity. However, the opacity effect is changing the overlaying text as well - making it dim. Any fix to this? Here is what is looks like:</p>  <p><a href=\"https://i.stack.imgur.com/1HzD7.png\" rel=\"noreferrer\"><img src=\"https://i.stack.imgur.com/1HzD7.png\" alt=\"enter image description here\"></a></p>  <p>And here is my code for the custom component (article preview - which the above image is a row of article preview components): </p>  <pre><code>//component for article preview touchable image /* will require the following - rss feed and api - user\\'s keyword interests from parse In home.js - parse db needs to be augmented to include what they heart - parse db needs to be augmented to include what they press on (like google news) */ var React = require(\\'react-native\\'); var {   View,    StyleSheet,    Text,    Image,    TouchableHighlight,  } = React;  //dimensions var Dimensions = require(\\'Dimensions\\'); var window = Dimensions.get(\\'window\\'); var ImageButton = require(\\'../../common/imageButton\\'); var KeywordBox = require(\\'../../authentication/onboarding/keyword-box\\');  //additional libraries  module.exports = React.createClass({   //onPress function that triggers when button pressed   //this.props.text is property that can be dynamically filled within button    /* following props:     - source={this.props.source}     - onPress={this.props.onPress}     - {this.props.text}     - {this.props.heartText}     - key={this.props.key}      - text={this.props.category}      - this.props.selected   */   render: function() {     return (       &lt;TouchableHighlight          underlayColor={\\'transparent\\'}         onPress={this.props.onPress} &gt;           &lt;Image              source={this.props.source}              style={[styles.articlePreview, this.border(\\'red\\')]}&gt;                   &lt;View style={[styles.container, this.border(\\'organge\\')]}&gt;                       &lt;View style={[styles.header, this.border(\\'blue\\')]}&gt;                           &lt;Text style={[styles.previewText]}&gt;{this.props.text}&lt;/Text&gt;                       &lt;/View&gt;                       &lt;View style={[styles.footer, this.border(\\'white\\')]}&gt;                         &lt;View style={[styles.heartRow, this.border(\\'black\\')]}&gt;                           &lt;ImageButton                               style={[styles.heartBtn, , this.border(\\'red\\')]}                               resizeMode={\\'contain\\'}                               onPress={this.onHeartPress}                               source={require(\\'../../img/heart_btn.png\\')} /&gt;                           &lt;Text style={[styles.heartText]}&gt;{this.props.heartText + \\' favorites\\'}&lt;/Text&gt;                         &lt;/View&gt;                           &lt;KeywordBox                                style={[styles.category, this.border(\\'blue\\')]}                               key={this.props.key}                                text={this.props.category}                                onPress={this.props.categoryPress}                               selected={this.props.selected} /&gt;                       &lt;/View&gt;                   &lt;/View&gt;           &lt;/Image&gt;       &lt;/TouchableHighlight&gt;     );   },    onHeartPress: function() {     //will move this function to a general module   },    border: function(color) {       return {         //borderColor: color,          //borderWidth: 4,       }     }, });  var styles = StyleSheet.create({   heartText: {     color: \\'white\\',      fontSize: 12,      fontWeight: \\'bold\\',     alignSelf: \\'center\\',      marginLeft: 5,      fontFamily: \\'SFCompactText-Medium\\'   },    heartRow: {     flexDirection: \\'row\\',      justifyContent: \\'space-around\\',      alignSelf: \\'center\\',      justifyContent: \\'center\\',    },    heartBtn: {     height: (92/97)*(window.width/13),      width: window.width/13,      alignSelf:\\'center\\',    },    category: {     fontFamily: \\'Bebas Neue\\',      fontSize: 10,     fontWeight: \\'bold\\'   },    header: {     flex: 3,      alignItems: \\'center\\',      justifyContent: \\'space-around\\',      marginTop: window.height/30,   },    footer: {     flex: 1,      flexDirection: \\'row\\',      justifyContent: \\'space-between\\',      alignItems: \\'center\\',      margin: window.height/50,   },    container: {     flex: 1,      backgroundColor: \\'black\\',      opacity: 0.6,    },    articlePreview: {     flex: 1,      height: window.height/3.2,      width: window.width,      flexDirection: \\'column\\'   },    previewText: {     fontFamily: \\'Bebas Neue\\',      fontSize: 23,     color: \\'white\\',      alignSelf: \\'center\\',      textAlign: \\'center\\',      margin: 5,      position: \\'absolute\\',     top: 0,     right: 0,     bottom: 0,     left: 0   },   }); </code></pre> ', shape=(), dtype=string)\n",
            "tf.Tensor(0, shape=(), dtype=int8)\n"
          ]
        }
      ],
      "source": [
        "# we want the dataset to be created and processed on the cpu \n",
        "with tf.device('/device:GPU:0'):\n",
        "    train_data = tf.data.Dataset.from_tensor_slices((train_df['Body'].values, train_df['Y_cat_code'].values))\n",
        "    valid_data = tf.data.Dataset.from_tensor_slices((valid_df['Body'].values, valid_df['Y_cat_code'].values))\n",
        "    # lets look at 3 samples from train set\n",
        "    for text,label in train_data.take(3):\n",
        "        print(text)\n",
        "        print(label)\n"
      ]
    },
    {
      "cell_type": "code",
      "execution_count": null,
      "metadata": {
        "execution": {
          "iopub.execute_input": "2021-06-30T15:17:46.966908Z",
          "iopub.status.busy": "2021-06-30T15:17:46.966556Z",
          "iopub.status.idle": "2021-06-30T15:17:46.975402Z",
          "shell.execute_reply": "2021-06-30T15:17:46.973426Z",
          "shell.execute_reply.started": "2021-06-30T15:17:46.96687Z"
        },
        "id": "5P3T5ejGCZzb",
        "colab": {
          "base_uri": "https://localhost:8080/"
        },
        "outputId": "66c5fe1b-8d4b-4057-d903-6ab731656a01"
      },
      "outputs": [
        {
          "output_type": "stream",
          "name": "stdout",
          "text": [
            "45000\n",
            "15000\n"
          ]
        }
      ],
      "source": [
        "print(len(train_data))\n",
        "print(len(valid_data))"
      ]
    },
    {
      "cell_type": "markdown",
      "metadata": {
        "id": "e2-ReN88Hvy_"
      },
      "source": [
        "## Lets BERT: Get the Pre-trained BERT Model from TensorFlow Hub"
      ]
    },
    {
      "cell_type": "markdown",
      "metadata": {
        "id": "-0anx2AQ69wt"
      },
      "source": [
        "We will be using the uncased BERT present in the tfhub. In order to prepare the text to be given to the BERT layer, we need to first tokenize our words. The tokenizer here is present as a model asset and will do uncasing for us as well."
      ]
    },
    {
      "cell_type": "markdown",
      "metadata": {
        "id": "ZvrqCFogCZzb"
      },
      "source": [
        "Setting all parameters in form of a dictionary so any changes if needed can be made here"
      ]
    },
    {
      "cell_type": "code",
      "execution_count": null,
      "metadata": {
        "execution": {
          "iopub.execute_input": "2021-06-30T15:17:46.977105Z",
          "iopub.status.busy": "2021-06-30T15:17:46.976756Z",
          "iopub.status.idle": "2021-06-30T15:17:46.983204Z",
          "shell.execute_reply": "2021-06-30T15:17:46.982285Z",
          "shell.execute_reply.started": "2021-06-30T15:17:46.977069Z"
        },
        "id": "fi141L6X7EmH"
      },
      "outputs": [],
      "source": [
        "# Setting some parameters\n",
        "\n",
        "config = {'label_list' : [0, 1, 2], # Label categories\n",
        "          'max_seq_length' : 150, # maximum length of (token) input sequences\n",
        "          'train_batch_size' : 32,\n",
        "          'learning_rate': 2e-5,\n",
        "          'epochs':5,\n",
        "          'optimizer': 'adam',\n",
        "          'dropout': 0.5,\n",
        "          'train_samples': len(train_data),\n",
        "          'valid_samples': len(valid_data),\n",
        "          'train_split':0.1,\n",
        "          'valid_split': 0.01\n",
        "         }"
      ]
    },
    {
      "cell_type": "code",
      "execution_count": null,
      "metadata": {
        "execution": {
          "iopub.execute_input": "2021-06-30T15:17:46.984944Z",
          "iopub.status.busy": "2021-06-30T15:17:46.984496Z",
          "iopub.status.idle": "2021-06-30T15:17:58.586516Z",
          "shell.execute_reply": "2021-06-30T15:17:58.585633Z",
          "shell.execute_reply.started": "2021-06-30T15:17:46.984903Z"
        },
        "id": "EMb5M86b4-BU"
      },
      "outputs": [],
      "source": [
        "# Get BERT layer and tokenizer:\n",
        "# All details here: https://tfhub.dev/tensorflow/bert_en_uncased_L-12_H-768_A-12/2\n",
        "\n",
        "bert_layer = hub.KerasLayer('https://tfhub.dev/tensorflow/bert_en_uncased_L-12_H-768_A-12/2',trainable=True)\n",
        "vocab_file = bert_layer.resolved_object.vocab_file.asset_path.numpy()\n",
        "do_lower_case = bert_layer.resolved_object.do_lower_case.numpy() # checks if the bert layer we are using is uncased or not\n",
        "tokenizer = tokenization.FullTokenizer(vocab_file, do_lower_case)"
      ]
    },
    {
      "cell_type": "markdown",
      "metadata": {
        "id": "9QinzNq6OsP1"
      },
      "source": [
        "## Tokenize and Preprocess Text for BERT"
      ]
    },
    {
      "cell_type": "markdown",
      "metadata": {
        "id": "dZCrWwCCo_82"
      },
      "source": [
        "Each line of the dataset is composed of the review text and its label.\n",
        "Data preprocessing consists of transforming text to BERT input features:\n",
        "`input_word_ids`, `input_mask`, `segment_ids/input_type_ids`\n",
        "\n",
        "- **Input Word Ids:** Output of our tokenizer, converting each sentence into a set of token ids.\n",
        "\n",
        "- **Input Masks:** Since we are padding all the sequences to 128(max sequence length), it is important that we create some sort of mask to make sure those paddings do not interfere with the actual text tokens. Therefore we need a generate input mask blocking the paddings. The mask has 1 for real tokens and 0 for padding tokens. Only real\n",
        "tokens are attended to.\n",
        "\n",
        "- **Segment Ids:** For out task of text classification, since there is only one sequence, the segment_ids/input_type_ids is essentially just a vector of 0s. \n",
        "\n",
        "\n",
        "\n",
        "Bert was trained on two tasks:\n",
        "- fill in randomly masked words from a sentence.\n",
        "- given two sentences,  which sentence came first. \n"
      ]
    },
    {
      "cell_type": "code",
      "execution_count": null,
      "metadata": {
        "execution": {
          "iopub.execute_input": "2021-06-30T15:17:58.598605Z",
          "iopub.status.busy": "2021-06-30T15:17:58.598236Z",
          "iopub.status.idle": "2021-06-30T15:17:58.6072Z",
          "shell.execute_reply": "2021-06-30T15:17:58.606367Z",
          "shell.execute_reply.started": "2021-06-30T15:17:58.598568Z"
        },
        "id": "m-21A5aNJM0W"
      },
      "outputs": [],
      "source": [
        "# This provides a function to convert row to input features and label, \n",
        "# this uses the classifier_data_lib which is a class defined in the tensorflow model garden we installed earlier\n",
        "def create_feature(text, label, label_list=config['label_list'], max_seq_length=config['max_seq_length'], tokenizer=tokenizer):\n",
        "    \"\"\"\n",
        "    converts the datapoint into usable features for BERT using the classifier_data_lib\n",
        "\n",
        "    Parameters:\n",
        "    text: Input text string\n",
        "    label: label associated with the text\n",
        "    label_list: (list) all possible labels\n",
        "    max_seq_length: (int) maximum sequence length set for bert\n",
        "    tokenizer: the tokenizer object instantiated by the files in model assets\n",
        "\n",
        "    Returns:\n",
        "    feature.input_ids: The token ids for the input text string\n",
        "    feature.input_masks: The padding mask generated \n",
        "    feature.segment_ids: essentially here a vector of 0s since classification\n",
        "    feature.label_id: the corresponding label id from lable_list [0, 1] here\n",
        "\n",
        "    \"\"\"\n",
        "    # since we only have 1 sentence for classification purpose, textr_b is None\n",
        "    example = classifier_data_lib.InputExample(guid = None,\n",
        "                                            text_a = text.numpy(), \n",
        "                                            text_b = None, \n",
        "                                            label = label.numpy())\n",
        "    # since only 1 example, the index=0\n",
        "    feature = classifier_data_lib.convert_single_example(0, example, label_list,\n",
        "                                    max_seq_length, tokenizer)\n",
        "\n",
        "    return (feature.input_ids, feature.input_mask, feature.segment_ids, feature.label_id)"
      ]
    },
    {
      "cell_type": "markdown",
      "metadata": {
        "id": "A_HQSsHwWCsK"
      },
      "source": [
        "You want to use [`Dataset.map`](https://www.tensorflow.org/api_docs/python/tf/data/Dataset#map) to apply this function to each element of the dataset. [`Dataset.map`](https://www.tensorflow.org/api_docs/python/tf/data/Dataset#map) runs in graph mode.\n",
        "\n",
        "- Graph tensors do not have a value.\n",
        "- In graph mode you can only use TensorFlow Ops and functions.\n",
        "\n",
        "So you can't `.map` this function directly: You need to wrap it in a [`tf.py_function`](https://www.tensorflow.org/api_docs/python/tf/py_function). The [`tf.py_function`](https://www.tensorflow.org/api_docs/python/tf/py_function) will pass regular tensors (with a value and a `.numpy()` method to access it), to the wrapped python function."
      ]
    },
    {
      "cell_type": "markdown",
      "metadata": {
        "id": "zaNlkKVfWX0Q"
      },
      "source": [
        "### Wrapping the Python Function into a TensorFlow op for Eager Execution"
      ]
    },
    {
      "cell_type": "code",
      "execution_count": null,
      "metadata": {
        "execution": {
          "iopub.execute_input": "2021-06-30T15:17:58.611701Z",
          "iopub.status.busy": "2021-06-30T15:17:58.611334Z",
          "iopub.status.idle": "2021-06-30T15:17:58.620047Z",
          "shell.execute_reply": "2021-06-30T15:17:58.619292Z",
          "shell.execute_reply.started": "2021-06-30T15:17:58.611668Z"
        },
        "id": "AGACBcfCWC2O"
      },
      "outputs": [],
      "source": [
        "def create_feature_map(text, label):\n",
        "    \"\"\"\n",
        "    A tensorflow function wrapper to apply the transformation on the dataset.\n",
        "    Parameters:\n",
        "    Text: the input text string.\n",
        "    label: the classification ground truth label associated with the input string\n",
        "\n",
        "    Returns:\n",
        "    A tuple of a dictionary and a corresponding label_id with it. The dictionary \n",
        "    contains the input_word_ids, input_mask, input_type_ids  \n",
        "    \"\"\"\n",
        "    input_ids, input_mask, segment_ids, label_id = tf.py_function(create_feature, inp=[text, label], \n",
        "                                Tout=[tf.int32, tf.int32, tf.int32, tf.int32])\n",
        "    max_seq_length = config['max_seq_length']\n",
        "\n",
        "    # py_func doesn't set the shape of the returned tensors.\n",
        "    input_ids.set_shape([max_seq_length])\n",
        "    input_mask.set_shape([max_seq_length])\n",
        "    segment_ids.set_shape([max_seq_length])\n",
        "    label_id.set_shape([])\n",
        "\n",
        "    x = {\n",
        "        'input_word_ids': input_ids,\n",
        "        'input_mask': input_mask,\n",
        "        'input_type_ids': segment_ids\n",
        "    }\n",
        "    return (x, label_id)\n",
        "\n",
        "    # the final datapoint passed to the model is of the format a dictionary as x and labels.\n",
        "    # the dictionary have keys which should obv match"
      ]
    },
    {
      "cell_type": "markdown",
      "metadata": {
        "id": "dhdO6MjTbtn1"
      },
      "source": [
        "## Let the Data Flow: Creating the final input pipeline using `tf.data`"
      ]
    },
    {
      "cell_type": "code",
      "execution_count": null,
      "metadata": {
        "execution": {
          "iopub.execute_input": "2021-06-30T15:17:58.622375Z",
          "iopub.status.busy": "2021-06-30T15:17:58.621922Z",
          "iopub.status.idle": "2021-06-30T15:17:58.730709Z",
          "shell.execute_reply": "2021-06-30T15:17:58.729691Z",
          "shell.execute_reply.started": "2021-06-30T15:17:58.62232Z"
        },
        "id": "LHRdiO3dnPNr"
      },
      "outputs": [],
      "source": [
        "# Now we will simply apply the transformation to our train and test datasets\n",
        "with tf.device('/device:GPU:0'):\n",
        "  # train\n",
        "  train_data = (train_data.map(create_feature_map,\n",
        "                              num_parallel_calls=tf.data.experimental.AUTOTUNE)\n",
        "\n",
        "                          .shuffle(1000)\n",
        "                          .batch(32, drop_remainder=True)\n",
        "                          .prefetch(tf.data.experimental.AUTOTUNE))\n",
        "\n",
        "  # valid\n",
        "  valid_data = (valid_data.map(create_feature_map, \n",
        "                               num_parallel_calls=tf.data.experimental.AUTOTUNE)\n",
        "                          .batch(32, drop_remainder=True)\n",
        "                          .prefetch(tf.data.experimental.AUTOTUNE)) "
      ]
    },
    {
      "cell_type": "markdown",
      "metadata": {
        "id": "KLUWnfx-YDi2"
      },
      "source": [
        "The resulting `tf.data.Datasets` return `(features, labels)` pairs, as expected by [`keras.Model.fit`](https://www.tensorflow.org/api_docs/python/tf/keras/Model#fit):"
      ]
    },
    {
      "cell_type": "code",
      "execution_count": null,
      "metadata": {
        "execution": {
          "iopub.execute_input": "2021-06-30T15:17:58.732431Z",
          "iopub.status.busy": "2021-06-30T15:17:58.732073Z",
          "iopub.status.idle": "2021-06-30T15:17:58.740257Z",
          "shell.execute_reply": "2021-06-30T15:17:58.73921Z",
          "shell.execute_reply.started": "2021-06-30T15:17:58.732396Z"
        },
        "id": "B0Z2cy9GHQ8x",
        "colab": {
          "base_uri": "https://localhost:8080/"
        },
        "outputId": "21a5d5f6-6ad8-41cc-afbf-181194ba06a2"
      },
      "outputs": [
        {
          "output_type": "execute_result",
          "data": {
            "text/plain": [
              "({'input_mask': TensorSpec(shape=(32, 150), dtype=tf.int32, name=None),\n",
              "  'input_type_ids': TensorSpec(shape=(32, 150), dtype=tf.int32, name=None),\n",
              "  'input_word_ids': TensorSpec(shape=(32, 150), dtype=tf.int32, name=None)},\n",
              " TensorSpec(shape=(32,), dtype=tf.int32, name=None))"
            ]
          },
          "metadata": {},
          "execution_count": 28
        }
      ],
      "source": [
        "# train data spec, we can finally see the input datapoint is now converted to the BERT specific input tensor\n",
        "train_data.element_spec"
      ]
    },
    {
      "cell_type": "code",
      "execution_count": null,
      "metadata": {
        "execution": {
          "iopub.execute_input": "2021-06-30T15:17:58.742199Z",
          "iopub.status.busy": "2021-06-30T15:17:58.741653Z",
          "iopub.status.idle": "2021-06-30T15:17:58.749128Z",
          "shell.execute_reply": "2021-06-30T15:17:58.74813Z",
          "shell.execute_reply.started": "2021-06-30T15:17:58.742158Z"
        },
        "id": "DGAH-ycYOmao",
        "colab": {
          "base_uri": "https://localhost:8080/"
        },
        "outputId": "b125bcc9-2568-473d-a409-4d622b44e875"
      },
      "outputs": [
        {
          "output_type": "execute_result",
          "data": {
            "text/plain": [
              "({'input_mask': TensorSpec(shape=(32, 150), dtype=tf.int32, name=None),\n",
              "  'input_type_ids': TensorSpec(shape=(32, 150), dtype=tf.int32, name=None),\n",
              "  'input_word_ids': TensorSpec(shape=(32, 150), dtype=tf.int32, name=None)},\n",
              " TensorSpec(shape=(32,), dtype=tf.int32, name=None))"
            ]
          },
          "metadata": {},
          "execution_count": 29
        }
      ],
      "source": [
        "# valid data spec\n",
        "valid_data.element_spec"
      ]
    },
    {
      "cell_type": "markdown",
      "metadata": {
        "id": "fB6vR1KHIWrv"
      },
      "source": [
        "## Create The Model"
      ]
    },
    {
      "cell_type": "markdown",
      "metadata": {
        "id": "e33vaIFW1yil"
      },
      "source": [
        "There are two outputs from the BERT Layer: \n",
        "- A pooled_output of shape [batch_size, 768] with representations for the entire input sequences.  \n",
        "- A sequence_output of shape [batch_size, max_seq_length, 768] with representations for each input token (in context).\n",
        "\n",
        "For the classification task, we are only concerned with the pooled_output."
      ]
    },
    {
      "cell_type": "code",
      "execution_count": null,
      "metadata": {
        "execution": {
          "iopub.execute_input": "2021-06-30T15:17:58.751165Z",
          "iopub.status.busy": "2021-06-30T15:17:58.750767Z",
          "iopub.status.idle": "2021-06-30T15:17:58.760319Z",
          "shell.execute_reply": "2021-06-30T15:17:58.759352Z",
          "shell.execute_reply.started": "2021-06-30T15:17:58.75113Z"
        },
        "id": "G9il4gtlADcp"
      },
      "outputs": [],
      "source": [
        "# Building the model, input ---> BERT Layer ---> Classification Head\n",
        "def create_model():\n",
        "    \n",
        "    input_word_ids = tf.keras.layers.Input(shape=(config['max_seq_length'],), dtype=tf.int32,name=\"input_word_ids\")\n",
        "\n",
        "    input_mask = tf.keras.layers.Input(shape=(config['max_seq_length'],), dtype=tf.int32, name=\"input_mask\")\n",
        "\n",
        "    input_type_ids = tf.keras.layers.Input(shape=(config['max_seq_length'],), dtype=tf.int32,name=\"input_type_ids\")\n",
        "    \n",
        "    pooled_output, sequence_output = bert_layer([input_word_ids, input_mask, input_type_ids])\n",
        "    # for classification we only care about the pooled-output.\n",
        "    # At this point we can play around with the classification head based on the \n",
        "    # downstream tasks and its complexity\n",
        "\n",
        "    drop = tf.keras.layers.Dropout(config['dropout'])(pooled_output)\n",
        "    output = tf.keras.layers.Dense(1, activation='sigmoid', name='output')(drop)\n",
        "\n",
        "    # inputs coming from the function\n",
        "    model = tf.keras.Model(\n",
        "      inputs={\n",
        "        'input_word_ids': input_word_ids,\n",
        "        'input_mask': input_mask,\n",
        "        'input_type_ids': input_type_ids}, \n",
        "      outputs=output)\n",
        "\n",
        "    return model"
      ]
    },
    {
      "cell_type": "markdown",
      "metadata": {
        "id": "S6maM-vr7YaJ"
      },
      "source": [
        "## Let Us Train !"
      ]
    },
    {
      "cell_type": "code",
      "execution_count": null,
      "metadata": {
        "execution": {
          "iopub.execute_input": "2021-06-30T15:17:58.762103Z",
          "iopub.status.busy": "2021-06-30T15:17:58.761706Z",
          "iopub.status.idle": "2021-06-30T15:17:59.406737Z",
          "shell.execute_reply": "2021-06-30T15:17:59.405897Z",
          "shell.execute_reply.started": "2021-06-30T15:17:58.762067Z"
        },
        "id": "ptCtiiONsBgo"
      },
      "outputs": [],
      "source": [
        "# Calling the create model function to get the keras based functional model\n",
        "model = create_model()"
      ]
    },
    {
      "cell_type": "code",
      "execution_count": null,
      "metadata": {
        "execution": {
          "iopub.execute_input": "2021-06-30T15:17:59.408444Z",
          "iopub.status.busy": "2021-06-30T15:17:59.408099Z",
          "iopub.status.idle": "2021-06-30T15:17:59.457379Z",
          "shell.execute_reply": "2021-06-30T15:17:59.456401Z",
          "shell.execute_reply.started": "2021-06-30T15:17:59.408408Z"
        },
        "id": "6GJaFnkbMtPL",
        "colab": {
          "base_uri": "https://localhost:8080/"
        },
        "outputId": "50171382-5f97-407d-d664-2c42b54bd497"
      },
      "outputs": [
        {
          "output_type": "stream",
          "name": "stdout",
          "text": [
            "Model: \"model\"\n",
            "__________________________________________________________________________________________________\n",
            "Layer (type)                    Output Shape         Param #     Connected to                     \n",
            "==================================================================================================\n",
            "input_word_ids (InputLayer)     [(None, 150)]        0                                            \n",
            "__________________________________________________________________________________________________\n",
            "input_mask (InputLayer)         [(None, 150)]        0                                            \n",
            "__________________________________________________________________________________________________\n",
            "input_type_ids (InputLayer)     [(None, 150)]        0                                            \n",
            "__________________________________________________________________________________________________\n",
            "keras_layer (KerasLayer)        [(None, 768), (None, 109482241   input_word_ids[0][0]             \n",
            "                                                                 input_mask[0][0]                 \n",
            "                                                                 input_type_ids[0][0]             \n",
            "__________________________________________________________________________________________________\n",
            "dropout (Dropout)               (None, 768)          0           keras_layer[0][0]                \n",
            "__________________________________________________________________________________________________\n",
            "output (Dense)                  (None, 1)            769         dropout[0][0]                    \n",
            "==================================================================================================\n",
            "Total params: 109,483,010\n",
            "Trainable params: 109,483,009\n",
            "Non-trainable params: 1\n",
            "__________________________________________________________________________________________________\n"
          ]
        }
      ],
      "source": [
        "# using adam with a lr of 2*(10^-5), loss as binary cross entropy as only 2 classes and similarly binary accuracy\n",
        "model.compile(optimizer=tf.keras.optimizers.Adam(learning_rate=config['learning_rate']),\n",
        "              loss=tf.keras.losses.BinaryCrossentropy(),\n",
        "              metrics=[tf.keras.metrics.BinaryAccuracy(),\n",
        "                       tf.keras.metrics.PrecisionAtRecall(0.5),\n",
        "                       tf.keras.metrics.Precision(),\n",
        "                       tf.keras.metrics.Recall()])\n",
        "model.summary()"
      ]
    },
    {
      "cell_type": "markdown",
      "metadata": {
        "id": "fhhVabKn23LY"
      },
      "source": [
        "One drawback of the tf hub is that we import the entire module as a layer in keras as a result of which we dont see the parameters and layers in the model summary."
      ]
    },
    {
      "cell_type": "code",
      "execution_count": null,
      "metadata": {
        "execution": {
          "iopub.execute_input": "2021-06-30T15:17:59.460496Z",
          "iopub.status.busy": "2021-06-30T15:17:59.46023Z",
          "iopub.status.idle": "2021-06-30T15:17:59.930699Z",
          "shell.execute_reply": "2021-06-30T15:17:59.929801Z",
          "shell.execute_reply.started": "2021-06-30T15:17:59.46047Z"
        },
        "id": "WDwqsmSV4l4N",
        "colab": {
          "base_uri": "https://localhost:8080/",
          "height": 269
        },
        "outputId": "b11db55e-d963-4a7c-8a47-21251227dba2"
      },
      "outputs": [
        {
          "output_type": "execute_result",
          "data": {
            "image/png": "[encoded data removed]",
            "text/plain": [
              "<IPython.core.display.Image object>"
            ]
          },
          "metadata": {},
          "execution_count": 33
        }
      ],
      "source": [
        "tf.keras.utils.plot_model(model=model, show_shapes=True, dpi=76, )"
      ]
    },
    {
      "cell_type": "markdown",
      "metadata": {
        "id": "82ye_lKZ3OA_"
      },
      "source": [
        "The official tfhub page states that\n",
        "\"All parameters in the module are trainable, and fine-tuning all parameters is the recommended practice.\" Therefore we will go ahead and train teh entire model without freezing anything"
      ]
    },
    {
      "cell_type": "code",
      "execution_count": null,
      "metadata": {
        "execution": {
          "iopub.execute_input": "2021-06-30T15:18:06.3547Z",
          "iopub.status.busy": "2021-06-30T15:18:06.352524Z",
          "iopub.status.idle": "2021-06-30T18:05:30.387134Z",
          "shell.execute_reply": "2021-06-30T18:05:30.386159Z",
          "shell.execute_reply.started": "2021-06-30T15:18:06.354648Z"
        },
        "id": "OcREcgPUHr9O",
        "colab": {
          "base_uri": "https://localhost:8080/"
        },
        "outputId": "a3e7602c-00af-4a59-d3d9-0836aa04a56b"
      },
      "outputs": [
        {
          "output_type": "stream",
          "name": "stdout",
          "text": [
            "Epoch 1/5\n",
            "1406/1406 [==============================] - 928s 648ms/step - loss: -13.8868 - binary_accuracy: 0.5410 - precision_at_recall: 0.9971 - precision: 0.8992 - recall: 0.9124 - val_loss: -18.1395 - val_binary_accuracy: 0.5038 - val_precision_at_recall: 0.9898 - val_precision: 0.8075 - val_recall: 0.9926\n",
            "Epoch 2/5\n",
            "1406/1406 [==============================] - 913s 647ms/step - loss: -21.6042 - binary_accuracy: 0.5785 - precision_at_recall: 0.9958 - precision: 0.9313 - recall: 0.9367 - val_loss: -24.9386 - val_binary_accuracy: 0.5478 - val_precision_at_recall: 0.9947 - val_precision: 0.8590 - val_recall: 0.9834\n",
            "Epoch 3/5\n",
            "1406/1406 [==============================] - 913s 647ms/step - loss: -28.3382 - binary_accuracy: 0.5962 - precision_at_recall: 0.9981 - precision: 0.9458 - recall: 0.9485 - val_loss: -31.5322 - val_binary_accuracy: 0.5465 - val_precision_at_recall: 0.9957 - val_precision: 0.8588 - val_recall: 0.9815\n",
            "Epoch 4/5\n",
            "1406/1406 [==============================] - 914s 647ms/step - loss: -34.9172 - binary_accuracy: 0.6039 - precision_at_recall: 0.9977 - precision: 0.9519 - recall: 0.9540 - val_loss: -37.8792 - val_binary_accuracy: 0.5025 - val_precision_at_recall: 0.9624 - val_precision: 0.8051 - val_recall: 0.9947\n",
            "Epoch 5/5\n",
            "1406/1406 [==============================] - 913s 647ms/step - loss: -41.5641 - binary_accuracy: 0.6154 - precision_at_recall: 0.9971 - precision: 0.9612 - recall: 0.9620 - val_loss: -44.5660 - val_binary_accuracy: 0.5192 - val_precision_at_recall: 0.9759 - val_precision: 0.8242 - val_recall: 0.9902\n"
          ]
        }
      ],
      "source": [
        "# Train model\n",
        "# setting low epochs as It starts to overfit with this limited data,\n",
        "epochs = config['epochs']\n",
        "history = model.fit(train_data,\n",
        "                    validation_data=valid_data,\n",
        "                    epochs=epochs,\n",
        "                    verbose=1)"
      ]
    },
    {
      "cell_type": "markdown",
      "metadata": {
        "id": "-XUBYaofCZzg"
      },
      "source": [
        "### Lets Evaluate\n",
        "\n",
        "Let us do an evaluation on the validation set and log the scores using weights and biases."
      ]
    },
    {
      "cell_type": "code",
      "execution_count": null,
      "metadata": {
        "execution": {
          "iopub.execute_input": "2021-06-30T18:05:30.388979Z",
          "iopub.status.busy": "2021-06-30T18:05:30.388603Z",
          "iopub.status.idle": "2021-06-30T18:06:40.864785Z",
          "shell.execute_reply": "2021-06-30T18:06:40.863966Z",
          "shell.execute_reply.started": "2021-06-30T18:05:30.38894Z"
        },
        "id": "EtdrExo1CZzg",
        "colab": {
          "base_uri": "https://localhost:8080/"
        },
        "outputId": "923c9f2b-4b77-4706-f7a3-fa10bfe6cdd8"
      },
      "outputs": [
        {
          "output_type": "stream",
          "name": "stdout",
          "text": [
            "468/468 [==============================] - 95s 202ms/step - loss: -44.5660 - binary_accuracy: 0.5192 - precision_at_recall: 0.9759 - precision: 0.8242 - recall: 0.9902\n"
          ]
        }
      ],
      "source": [
        "# Model Evaluation on validation set\n",
        "evaluation_results = model.evaluate(valid_data,return_dict=True)"
      ]
    },
    {
      "cell_type": "markdown",
      "metadata": {
        "id": "Hnb8cCI4KQLe"
      },
      "source": [
        "### Lets Look at some Graphs\n",
        "\n",
        "These Graphs will mainly be useful when we are training for more epochs and more data.\n",
        "All these graphs are actually directly logged on the [wandb dashboard](https://wandb.ai/akshayuppal12/Finetune-BERT-Text-Classification/runs/29thnm00?workspace=user-akshayuppal12) created for this run. To still give out a method to generate graphs explicitly here is some very basic code."
      ]
    },
    {
      "cell_type": "code",
      "execution_count": null,
      "metadata": {
        "execution": {
          "iopub.execute_input": "2021-06-30T18:06:40.867943Z",
          "iopub.status.busy": "2021-06-30T18:06:40.867683Z",
          "iopub.status.idle": "2021-06-30T18:06:40.877572Z",
          "shell.execute_reply": "2021-06-30T18:06:40.876442Z",
          "shell.execute_reply.started": "2021-06-30T18:06:40.867915Z"
        },
        "id": "IttJTcQnI5aL"
      },
      "outputs": [],
      "source": [
        "\n",
        "def create_graphs(history):\n",
        "    train_accuracy = history.history['binary_accuracy']\n",
        "    val_accuracy = history.history['val_binary_accuracy'],\n",
        "    train_losses = history.history['loss'],\n",
        "    val_losses = history.history['val_loss']\n",
        "    fig1 = plt.figure()\n",
        "    plt.plot(train_accuracy, 'r', linewidth=3.0, marker='o')\n",
        "    plt.plot(val_accuracy, 'b', linewidth=3.0, marker='o')\n",
        "    plt.legend(['Training Accuracy', 'Validation Accuracy'], fontsize=18)\n",
        "    plt.xlabel('Epochs ', fontsize=16)\n",
        "    plt.ylabel('Accuracy', fontsize=16)\n",
        "    plt.title('Accuracy Curves', fontsize=16)\n",
        "    plt.show()\n",
        "\n",
        "    fig2 = plt.figure()\n",
        "    plt.plot(train_losses, 'r', linewidth=3.0, marker='o')\n",
        "    plt.plot(val_losses, 'b', linewidth=3.0, marker='o')\n",
        "    plt.legend(['Training loss', 'Validation Loss'], fontsize=18)\n",
        "    plt.xlabel('Epochs ', fontsize=16)\n",
        "    plt.ylabel('Loss', fontsize=16)\n",
        "    plt.title('Loss Curves', fontsize=16)\n",
        "    plt.show()"
      ]
    },
    {
      "cell_type": "markdown",
      "metadata": {
        "id": "4Ia3AvXYCZzh"
      },
      "source": [
        "Since we just trained for a very limited data and less epoch these graphs generated here are not as \n",
        "represenetative, so leaving this here more interms of a place holder for the reader to experiment with."
      ]
    },
    {
      "cell_type": "code",
      "execution_count": null,
      "metadata": {
        "execution": {
          "iopub.execute_input": "2021-06-30T18:06:40.879374Z",
          "iopub.status.busy": "2021-06-30T18:06:40.878928Z",
          "iopub.status.idle": "2021-06-30T18:06:40.889078Z",
          "shell.execute_reply": "2021-06-30T18:06:40.88826Z",
          "shell.execute_reply.started": "2021-06-30T18:06:40.87932Z"
        },
        "id": "KXmTwmQlJ_y4",
        "colab": {
          "base_uri": "https://localhost:8080/"
        },
        "outputId": "f57c5972-848f-401f-d2c9-41da01d26175"
      },
      "outputs": [
        {
          "output_type": "display_data",
          "data": {
            "image/png": "[encoded data removed]",
            "text/plain": [
              "<Figure size 432x288 with 1 Axes>"
            ]
          },
          "metadata": {
            "needs_background": "light"
          }
        },
        {
          "output_type": "display_data",
          "data": {
            "image/png": "[encoded data removed]",
            "text/plain": [
              "<Figure size 432x288 with 1 Axes>"
            ]
          },
          "metadata": {
            "needs_background": "light"
          }
        }
      ],
      "source": [
        "create_graphs(history)"
      ]
    }
  ],
  "metadata": {
    "kernelspec": {
      "display_name": "Python 3 (ipykernel)",
      "language": "python",
      "name": "python3"
    },
    "language_info": {
      "codemirror_mode": {
        "name": "ipython",
        "version": 3
      },
      "file_extension": ".py",
      "mimetype": "text/x-python",
      "name": "python",
      "nbconvert_exporter": "python",
      "pygments_lexer": "ipython3",
      "version": "3.7.7"
    },
    "colab": {
      "name": "fine-tuning-bert-text-classification.ipynb",
      "provenance": [],
      "collapsed_sections": [
        "zhV7YowzK-I9",
        "Obch3rAuBVf0"
      ],
      "include_colab_link": true
    },
    "accelerator": "GPU"
  },
  "nbformat": 4,
  "nbformat_minor": 0
}