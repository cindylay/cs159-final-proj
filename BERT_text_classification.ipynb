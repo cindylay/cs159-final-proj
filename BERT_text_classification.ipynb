{
 "cells": [
  {
   "cell_type": "code",
   "execution_count": 1,
   "id": "70d632f0",
   "metadata": {},
   "outputs": [],
   "source": [
    "# If you are unable to import some of the libaries below, \n",
    "# you can create a conda environment by running: conda env create -f environment.yml\n",
    "# The name of the generated environment is: cs159-final-project\n",
    "\n",
    "# import necessary libraries\n",
    "import pandas as pd\n",
    "import numpy as np\n",
    "import keras\n",
    "import os\n",
    "\n",
    "# import our NNet library (within scikit-learn)\n",
    "from sklearn.neural_network import MLPClassifier"
   ]
  },
  {
   "cell_type": "code",
   "execution_count": 2,
   "id": "c58061b3",
   "metadata": {},
   "outputs": [],
   "source": [
    "# Formatting the input files for BERT to process and produce output\n",
    "ORIGINAL_DATA_DIR = os.path.join(\"./input_files\")\n",
    "BERT_FEATURE_DIR = os.path.join(\"./output_files\")\n",
    "BERT_DATA_DIR = os.path.join(\"./BERT_DATA_DIR\")"
   ]
  },
  {
   "cell_type": "markdown",
   "id": "dfbac214",
   "metadata": {},
   "source": [
    "We are only doing single feature text classification for this part, so create updated csvs for training and validation that only contains the columns: 'Body' and 'Y'"
   ]
  },
  {
   "cell_type": "code",
   "execution_count": 3,
   "id": "7f6e8e96",
   "metadata": {},
   "outputs": [
    {
     "name": "stdout",
     "output_type": "stream",
     "text": [
      "<class 'pandas.core.frame.DataFrame'>\n",
      "RangeIndex: 45000 entries, 0 to 44999\n",
      "Data columns (total 2 columns):\n",
      " #   Column  Non-Null Count  Dtype \n",
      "---  ------  --------------  ----- \n",
      " 0   Body    45000 non-null  object\n",
      " 1   Y       45000 non-null  object\n",
      "dtypes: object(2)\n",
      "memory usage: 703.2+ KB\n",
      "<class 'pandas.core.frame.DataFrame'>\n",
      "RangeIndex: 15000 entries, 0 to 14999\n",
      "Data columns (total 2 columns):\n",
      " #   Column  Non-Null Count  Dtype \n",
      "---  ------  --------------  ----- \n",
      " 0   Body    15000 non-null  object\n",
      " 1   Y       15000 non-null  object\n",
      "dtypes: object(2)\n",
      "memory usage: 234.5+ KB\n"
     ]
    }
   ],
   "source": [
    "# Setting up pandas dataframes\n",
    "train_df = pd.read_csv(os.path.join(BERT_DATA_DIR, \"train.csv\"))\n",
    "validate_df = pd.read_csv(os.path.join(BERT_DATA_DIR, \"valid.csv\"))\n",
    "\n",
    "# Only keep 'Body' and 'Y' for training\n",
    "cleaned_train_df = train_df[['Body', 'Y']]\n",
    "\n",
    "# Only keep 'Body' and 'Y' for validation\n",
    "cleaned_validate_df = validate_df[['Body', 'Y']]\n",
    "\n",
    "# Make sure the dataframes are correct\n",
    "cleaned_train_df.info()\n",
    "cleaned_validate_df.info()"
   ]
  },
  {
   "cell_type": "code",
   "execution_count": 4,
   "id": "8227dc50",
   "metadata": {},
   "outputs": [],
   "source": [
    "# Convert both train and valid dataframes back to csvs and export them both to ORIGINAL_DATA_DIR and BERT_DATA_DIR\n",
    "cleaned_train_df.to_csv(os.path.join(ORIGINAL_DATA_DIR, \"bert_classification_train.csv\"), header=0, index=\"FALSE\")\n",
    "cleaned_train_df.to_csv(os.path.join(BERT_DATA_DIR, \"bert_classification_train.csv\"), header=0, index=\"FALSE\")\n",
    "\n",
    "cleaned_validate_df.to_csv(os.path.join(ORIGINAL_DATA_DIR, \"bert_classification_valid.csv\"), header=0, index=\"FALSE\")\n",
    "cleaned_validate_df.to_csv(os.path.join(BERT_DATA_DIR, \"bert_classification_valid.csv\"), header=0, index=\"FALSE\")"
   ]
  },
  {
   "cell_type": "code",
   "execution_count": 7,
   "id": "88d29657",
   "metadata": {},
   "outputs": [
    {
     "data": {
      "text/html": [
       "<div>\n",
       "<style scoped>\n",
       "    .dataframe tbody tr th:only-of-type {\n",
       "        vertical-align: middle;\n",
       "    }\n",
       "\n",
       "    .dataframe tbody tr th {\n",
       "        vertical-align: top;\n",
       "    }\n",
       "\n",
       "    .dataframe thead th {\n",
       "        text-align: right;\n",
       "    }\n",
       "</style>\n",
       "<table border=\"1\" class=\"dataframe\">\n",
       "  <thead>\n",
       "    <tr style=\"text-align: right;\">\n",
       "      <th></th>\n",
       "      <th>Body</th>\n",
       "    </tr>\n",
       "  </thead>\n",
       "  <tbody>\n",
       "    <tr>\n",
       "      <th>0</th>\n",
       "      <td>&lt;p&gt;I'm already familiar with repeating tasks e...</td>\n",
       "    </tr>\n",
       "    <tr>\n",
       "      <th>1</th>\n",
       "      <td>&lt;p&gt;I'd like to understand why Java 8 Optionals...</td>\n",
       "    </tr>\n",
       "    <tr>\n",
       "      <th>2</th>\n",
       "      <td>&lt;p&gt;I am attempting to overlay a title over an ...</td>\n",
       "    </tr>\n",
       "    <tr>\n",
       "      <th>3</th>\n",
       "      <td>&lt;p&gt;The question is very simple, but I just cou...</td>\n",
       "    </tr>\n",
       "    <tr>\n",
       "      <th>4</th>\n",
       "      <td>&lt;p&gt;I'm using custom floatingactionmenu. I need...</td>\n",
       "    </tr>\n",
       "  </tbody>\n",
       "</table>\n",
       "</div>"
      ],
      "text/plain": [
       "                                                Body\n",
       "0  <p>I'm already familiar with repeating tasks e...\n",
       "1  <p>I'd like to understand why Java 8 Optionals...\n",
       "2  <p>I am attempting to overlay a title over an ...\n",
       "3  <p>The question is very simple, but I just cou...\n",
       "4  <p>I'm using custom floatingactionmenu. I need..."
      ]
     },
     "execution_count": 7,
     "metadata": {},
     "output_type": "execute_result"
    }
   ],
   "source": [
    "# Remove the Y column from the cleaned_train_df to prepare to apply BERT\n",
    "train_df = cleaned_train_df.drop(['Y'], axis=1)\n",
    "# Convert dataframe back to csv\n",
    "train_df.to_csv(os.path.join(ORIGINAL_DATA_DIR, \"bert_classification_train.csv\"), header=0, index=\"FALSE\")\n",
    "\n",
    "train_df.head()"
   ]
  },
  {
   "cell_type": "code",
   "execution_count": 6,
   "id": "cf6fb19f",
   "metadata": {},
   "outputs": [
    {
     "data": {
      "text/html": [
       "<div>\n",
       "<style scoped>\n",
       "    .dataframe tbody tr th:only-of-type {\n",
       "        vertical-align: middle;\n",
       "    }\n",
       "\n",
       "    .dataframe tbody tr th {\n",
       "        vertical-align: top;\n",
       "    }\n",
       "\n",
       "    .dataframe thead th {\n",
       "        text-align: right;\n",
       "    }\n",
       "</style>\n",
       "<table border=\"1\" class=\"dataframe\">\n",
       "  <thead>\n",
       "    <tr style=\"text-align: right;\">\n",
       "      <th></th>\n",
       "      <th>Body</th>\n",
       "      <th>Y</th>\n",
       "    </tr>\n",
       "  </thead>\n",
       "  <tbody>\n",
       "    <tr>\n",
       "      <th>0</th>\n",
       "      <td>&lt;p&gt;I'm already familiar with repeating tasks e...</td>\n",
       "      <td>LQ_CLOSE</td>\n",
       "    </tr>\n",
       "    <tr>\n",
       "      <th>1</th>\n",
       "      <td>&lt;p&gt;I'd like to understand why Java 8 Optionals...</td>\n",
       "      <td>HQ</td>\n",
       "    </tr>\n",
       "    <tr>\n",
       "      <th>2</th>\n",
       "      <td>&lt;p&gt;I am attempting to overlay a title over an ...</td>\n",
       "      <td>HQ</td>\n",
       "    </tr>\n",
       "    <tr>\n",
       "      <th>3</th>\n",
       "      <td>&lt;p&gt;The question is very simple, but I just cou...</td>\n",
       "      <td>HQ</td>\n",
       "    </tr>\n",
       "    <tr>\n",
       "      <th>4</th>\n",
       "      <td>&lt;p&gt;I'm using custom floatingactionmenu. I need...</td>\n",
       "      <td>HQ</td>\n",
       "    </tr>\n",
       "  </tbody>\n",
       "</table>\n",
       "</div>"
      ],
      "text/plain": [
       "                                                Body         Y\n",
       "0  <p>I'm already familiar with repeating tasks e...  LQ_CLOSE\n",
       "1  <p>I'd like to understand why Java 8 Optionals...        HQ\n",
       "2  <p>I am attempting to overlay a title over an ...        HQ\n",
       "3  <p>The question is very simple, but I just cou...        HQ\n",
       "4  <p>I'm using custom floatingactionmenu. I need...        HQ"
      ]
     },
     "execution_count": 6,
     "metadata": {},
     "output_type": "execute_result"
    }
   ],
   "source": [
    "# Verifying that the original cleaned_train_df still has Y column\n",
    "cleaned_train_df.head()"
   ]
  },
  {
   "cell_type": "code",
   "execution_count": null,
   "id": "28e6cd1b",
   "metadata": {},
   "outputs": [],
   "source": []
  },
  {
   "cell_type": "code",
   "execution_count": null,
   "id": "4229c248",
   "metadata": {},
   "outputs": [],
   "source": []
  },
  {
   "cell_type": "code",
   "execution_count": null,
   "id": "6192fd24",
   "metadata": {},
   "outputs": [],
   "source": []
  }
 ],
 "metadata": {
  "kernelspec": {
   "display_name": "Python 3 (ipykernel)",
   "language": "python",
   "name": "python3"
  },
  "language_info": {
   "codemirror_mode": {
    "name": "ipython",
    "version": 3
   },
   "file_extension": ".py",
   "mimetype": "text/x-python",
   "name": "python",
   "nbconvert_exporter": "python",
   "pygments_lexer": "ipython3",
   "version": "3.9.6"
  }
 },
 "nbformat": 4,
 "nbformat_minor": 5
}
